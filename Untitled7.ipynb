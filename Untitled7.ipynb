{
  "nbformat": 4,
  "nbformat_minor": 0,
  "metadata": {
    "colab": {
      "provenance": []
    },
    "kernelspec": {
      "name": "python3",
      "display_name": "Python 3"
    },
    "language_info": {
      "name": "python"
    }
  },
  "cells": [
    {
      "cell_type": "code",
      "execution_count": 1,
      "metadata": {
        "colab": {
          "base_uri": "https://localhost:8080/"
        },
        "id": "wf3rBh4Clj_s",
        "outputId": "97ad8a5c-78c4-4099-82fa-2033bdfb9516"
      },
      "outputs": [
        {
          "output_type": "stream",
          "name": "stdout",
          "text": [
            "enter number3\n",
            "positive\n"
          ]
        }
      ],
      "source": [
        "n=int(input(\"enter number\"))\n",
        "if(n>0):\n",
        "  print(\"positive\")\n",
        "elif(n<0):\n",
        "  print(\"negativwe\")\n",
        "elif(n==0):\n",
        "  print(\"zero\")"
      ]
    },
    {
      "cell_type": "code",
      "source": [
        "year=int(input(\"enter year\"))\n",
        "if(year%4==0 and year%100!=0) or year%400==0:\n",
        "  print(\"leap\")\n",
        "else:\n",
        "  print(\"npot\")"
      ],
      "metadata": {
        "colab": {
          "base_uri": "https://localhost:8080/"
        },
        "id": "s6u93k4el-A-",
        "outputId": "2f290ded-31fb-4afb-ddf8-feb141e29952"
      },
      "execution_count": 2,
      "outputs": [
        {
          "output_type": "stream",
          "name": "stdout",
          "text": [
            "enter year3028\n",
            "leap\n"
          ]
        }
      ]
    },
    {
      "cell_type": "code",
      "source": [
        "n1=int(input(\"ente fuirst\"))\n",
        "n2=int(input(\"ente fuirst\"))\n",
        "n3=int(input(\"ente fuirst\"))\n",
        "if(n1>n2 and n1>n3):\n",
        "  print(n1)\n",
        "elif(n2>n3 and n2>n1):\n",
        "  print(n2)\n",
        "else:\n",
        "  print(n3)"
      ],
      "metadata": {
        "colab": {
          "base_uri": "https://localhost:8080/"
        },
        "id": "uwYC_94JmO3V",
        "outputId": "c4a264de-6475-403c-f304-32071cf46b26"
      },
      "execution_count": 5,
      "outputs": [
        {
          "output_type": "stream",
          "name": "stdout",
          "text": [
            "ente fuirst3\n",
            "ente fuirst4\n",
            "ente fuirst5\n",
            "5\n"
          ]
        }
      ]
    },
    {
      "cell_type": "code",
      "source": [
        "marks=int(input(\"enter grade\"))\n",
        "if(marks>=90):\n",
        "  print(\"grade A\")\n",
        "elif(70<=marks<=89):\n",
        "  print(\"grade b\")\n",
        "elif(50<=marks<=69):\n",
        "  print(\"garde c\")\n",
        "else:\n",
        "  print(\"fail\")"
      ],
      "metadata": {
        "colab": {
          "base_uri": "https://localhost:8080/"
        },
        "id": "I6GolOiOm-PX",
        "outputId": "9d13df47-160b-4d21-d3a2-0a2eb9530e4d"
      },
      "execution_count": 7,
      "outputs": [
        {
          "output_type": "stream",
          "name": "stdout",
          "text": [
            "enter grade87\n",
            "grade b\n"
          ]
        }
      ]
    },
    {
      "cell_type": "code",
      "source": [
        "char=input(\"enter char\")\n",
        "if(char=='a'or char=='e'or char=='i'or char=='o'or char=='u'):\n",
        "  print(\"vowel\")\n",
        "else:\n",
        "  print(\"consonant\")\n"
      ],
      "metadata": {
        "colab": {
          "base_uri": "https://localhost:8080/"
        },
        "id": "m-1NbrdgqX4Z",
        "outputId": "27cda149-cdfa-4f52-a71c-32276dc77e85"
      },
      "execution_count": 20,
      "outputs": [
        {
          "output_type": "stream",
          "name": "stdout",
          "text": [
            "enter chard\n",
            "consonant\n"
          ]
        }
      ]
    },
    {
      "cell_type": "code",
      "source": [
        "for i in range(50,1,-2):\n",
        "  print(i , end=\"\")"
      ],
      "metadata": {
        "colab": {
          "base_uri": "https://localhost:8080/"
        },
        "id": "R9iyk82-rM8O",
        "outputId": "4f5524dd-b8d0-49c3-d2eb-bf08fc129d53"
      },
      "execution_count": 46,
      "outputs": [
        {
          "output_type": "stream",
          "name": "stdout",
          "text": [
            "5048464442403836343230282624222018161412108642"
          ]
        }
      ]
    },
    {
      "cell_type": "code",
      "source": [
        "\n",
        "for i in range(1,51):\n",
        "  if(i%2==0):\n",
        "    print(i, end=\"\")\n"
      ],
      "metadata": {
        "colab": {
          "base_uri": "https://localhost:8080/"
        },
        "id": "p8zAWfwLuVop",
        "outputId": "daf3a2a1-1d46-4543-f365-f111c4f0fcd7"
      },
      "execution_count": 45,
      "outputs": [
        {
          "output_type": "stream",
          "name": "stdout",
          "text": [
            "2468101214161820222426283032343638404244464850"
          ]
        }
      ]
    },
    {
      "cell_type": "code",
      "source": [
        "for i in range(1,51):\n",
        "  if i%2==0:\n",
        "    print(i,end=\"\")"
      ],
      "metadata": {
        "colab": {
          "base_uri": "https://localhost:8080/"
        },
        "id": "kw_d39X4u79c",
        "outputId": "1c413fa3-84ec-43d6-adaa-1544c27fc8ce"
      },
      "execution_count": 30,
      "outputs": [
        {
          "output_type": "stream",
          "name": "stdout",
          "text": [
            "2468101214161820222426283032343638404244464850"
          ]
        }
      ]
    },
    {
      "cell_type": "code",
      "source": [
        "f=1\n",
        "n=int(input(\"enter n\"))\n",
        "for i in range(1,n+1):\n",
        "  f*=i\n",
        "print(f)"
      ],
      "metadata": {
        "colab": {
          "base_uri": "https://localhost:8080/"
        },
        "id": "t7sG6r7NwPuh",
        "outputId": "58289a33-48a2-4751-80ab-359035ca4121"
      },
      "execution_count": 44,
      "outputs": [
        {
          "output_type": "stream",
          "name": "stdout",
          "text": [
            "enter n4\n",
            "24\n"
          ]
        }
      ]
    },
    {
      "cell_type": "code",
      "source": [
        "n=int(input(\"enter n\"))\n",
        "for i in range(1,11):\n",
        "  print(n*i)"
      ],
      "metadata": {
        "colab": {
          "base_uri": "https://localhost:8080/"
        },
        "id": "8m1stqI50XTx",
        "outputId": "0cc7876a-1fb1-4e8a-e42f-7134626bdfbb"
      },
      "execution_count": 48,
      "outputs": [
        {
          "output_type": "stream",
          "name": "stdout",
          "text": [
            "enter n45\n",
            "45\n",
            "90\n",
            "135\n",
            "180\n",
            "225\n",
            "270\n",
            "315\n",
            "360\n",
            "405\n",
            "450\n"
          ]
        }
      ]
    },
    {
      "cell_type": "code",
      "source": [
        "sum =0\n",
        "for i in range(1,5):\n",
        "   sum=sum+i**2\n",
        "print(sum)\n"
      ],
      "metadata": {
        "colab": {
          "base_uri": "https://localhost:8080/"
        },
        "id": "KQtGFOmT1K5p",
        "outputId": "1b72e62c-6827-4eaf-b9fb-c0587702e46a"
      },
      "execution_count": 1,
      "outputs": [
        {
          "output_type": "stream",
          "name": "stdout",
          "text": [
            "30\n"
          ]
        }
      ]
    },
    {
      "cell_type": "code",
      "source": [
        "n=123\n",
        "while n>0:\n",
        "  r=n%10\n",
        "  print(r)\n",
        "  n//=10\n",
        ""
      ],
      "metadata": {
        "colab": {
          "base_uri": "https://localhost:8080/"
        },
        "id": "9o2Rd1tY0FP5",
        "outputId": "a3c5ab36-7eec-499f-cd02-32b2cb49b448"
      },
      "execution_count": 2,
      "outputs": [
        {
          "output_type": "stream",
          "name": "stdout",
          "text": [
            "3\n",
            "2\n",
            "1\n"
          ]
        }
      ]
    },
    {
      "cell_type": "code",
      "source": [
        "n=1234\n",
        "sum=0\n",
        "while n>0:\n",
        "  sum=sum+n%10\n",
        "  n//=10\n",
        "print(sum)\n"
      ],
      "metadata": {
        "colab": {
          "base_uri": "https://localhost:8080/"
        },
        "id": "fqhIiRFV1jHo",
        "outputId": "ca7dbf20-8a4b-432e-c494-ad3b02d26147"
      },
      "execution_count": 3,
      "outputs": [
        {
          "output_type": "stream",
          "name": "stdout",
          "text": [
            "10\n"
          ]
        }
      ]
    },
    {
      "cell_type": "code",
      "source": [
        "n=1234\n",
        "count=0\n",
        "while n>0:\n",
        "  count+=1\n",
        "  n//=10\n",
        "print(count)"
      ],
      "metadata": {
        "colab": {
          "base_uri": "https://localhost:8080/"
        },
        "id": "rucYs8F_2E7v",
        "outputId": "92de4321-ba11-433b-fde9-fde6927b8dcb"
      },
      "execution_count": 4,
      "outputs": [
        {
          "output_type": "stream",
          "name": "stdout",
          "text": [
            "4\n"
          ]
        }
      ]
    },
    {
      "cell_type": "code",
      "source": [
        "n=12\n",
        "while n>=1:\n",
        "  print(n)\n",
        "  n/=2"
      ],
      "metadata": {
        "colab": {
          "base_uri": "https://localhost:8080/"
        },
        "id": "_aEzih8F2QZN",
        "outputId": "9047b59d-7f52-456c-952e-e4c4a988c7ea"
      },
      "execution_count": 9,
      "outputs": [
        {
          "output_type": "stream",
          "name": "stdout",
          "text": [
            "12\n",
            "6.0\n",
            "3.0\n",
            "1.5\n"
          ]
        }
      ]
    },
    {
      "cell_type": "code",
      "source": [
        "n=int(input(\"enter number\"))\n",
        "sum=0\n",
        "n1=n\n",
        "while n>0:\n",
        "  r=n%10\n",
        "  sum=sum+r*r*r\n",
        "  n//=10\n",
        "print(sum)\n",
        "if(n1==sum):\n",
        "  print(\"arm\")\n",
        "else:\n",
        "  print(\"no\")"
      ],
      "metadata": {
        "colab": {
          "base_uri": "https://localhost:8080/"
        },
        "id": "dH2bfCTz219G",
        "outputId": "e284d8fb-ae5c-4edc-aef4-f5e1b6f7c51a"
      },
      "execution_count": 10,
      "outputs": [
        {
          "output_type": "stream",
          "name": "stdout",
          "text": [
            "enter number153\n",
            "153\n",
            "arm\n"
          ]
        }
      ]
    },
    {
      "cell_type": "code",
      "source": [
        "n=int(input(\"enter number\"))\n",
        "sum=0\n",
        "on=n\n",
        "while n>0:\n",
        "  r=n%10\n",
        "  sum=sum*10+r\n",
        "  n//=10\n",
        "print(sum)\n",
        "if(sum==on):\n",
        "  print(\"pali\")\n",
        "else:\n",
        "    print(\"no\")"
      ],
      "metadata": {
        "colab": {
          "base_uri": "https://localhost:8080/"
        },
        "id": "rnT2KPhi5R67",
        "outputId": "d1020cf4-b967-4024-b9d0-0b19194c91d4"
      },
      "execution_count": 12,
      "outputs": [
        {
          "output_type": "stream",
          "name": "stdout",
          "text": [
            "enter number132\n",
            "231\n",
            "no\n"
          ]
        }
      ]
    },
    {
      "cell_type": "code",
      "source": [
        "n=int(input(\"emter \"))\n",
        "on=n\n",
        "t=n*n\n",
        "sum=0\n",
        "while t>0:\n",
        "  r=t%10\n",
        "  sum=sum+r\n",
        "  t//=10\n",
        "print(sum)\n",
        "if(sum==on):\n",
        "  print(\"neon\")\n",
        "else:\n",
        "  print(\"not\")\n",
        "\n"
      ],
      "metadata": {
        "colab": {
          "base_uri": "https://localhost:8080/"
        },
        "id": "-ozxJS595m-u",
        "outputId": "ae1e71aa-15ba-42d1-f263-2d76e2f19816"
      },
      "execution_count": 15,
      "outputs": [
        {
          "output_type": "stream",
          "name": "stdout",
          "text": [
            "emter 9\n",
            "9\n",
            "neon\n"
          ]
        }
      ]
    },
    {
      "cell_type": "code",
      "source": [
        "n=int(input(\"enter n\"))\n",
        "f=2\n",
        "while n>1:\n",
        "  if n%f==0:\n",
        "    print(f)\n",
        "    n//=f\n",
        "  else:\n",
        "    f+=1"
      ],
      "metadata": {
        "colab": {
          "base_uri": "https://localhost:8080/"
        },
        "id": "P8mOZt2i8JQ-",
        "outputId": "b72cb7f8-7af9-4cda-f339-ba6af080e88a"
      },
      "execution_count": 23,
      "outputs": [
        {
          "output_type": "stream",
          "name": "stdout",
          "text": [
            "enter n10\n",
            "2\n",
            "5\n"
          ]
        }
      ]
    },
    {
      "cell_type": "code",
      "source": [
        "n=int(input(\"enter n\"))\n",
        "f=2\n",
        "if n>1:\n",
        "  while n>1:\n",
        "   if n%f==0:\n",
        "    print(\"not\")\n",
        "    break\n",
        "   else:\n",
        "    f+=1\n",
        "else:\n",
        "    print(\"prime\")\n",
        ""
      ],
      "metadata": {
        "colab": {
          "base_uri": "https://localhost:8080/"
        },
        "id": "uJyOgcLt9vAC",
        "outputId": "99022fda-4c64-4292-9b42-ab8237a746e5"
      },
      "execution_count": 29,
      "outputs": [
        {
          "output_type": "stream",
          "name": "stdout",
          "text": [
            "enter n9\n",
            "not\n"
          ]
        }
      ]
    },
    {
      "cell_type": "code",
      "source": [],
      "metadata": {
        "id": "rsfhbeHU-C4U"
      },
      "execution_count": null,
      "outputs": []
    }
  ]
}