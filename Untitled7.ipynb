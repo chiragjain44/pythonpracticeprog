{
 "cells": [
  {
   "cell_type": "code",
   "execution_count": 1,
   "id": "9bd2c642-2db7-4529-a491-e555e837477f",
   "metadata": {},
   "outputs": [],
   "source": [
    "\n"
   ]
  },
  {
   "cell_type": "code",
   "execution_count": 14,
   "id": "3e22727e-2c41-4aea-911a-545063c6c7be",
   "metadata": {},
   "outputs": [
    {
     "name": "stdin",
     "output_type": "stream",
     "text": [
      "rpock ,scissor ,paper rock\n"
     ]
    },
    {
     "name": "stdout",
     "output_type": "stream",
     "text": [
      "scissor\n",
      "compr win\n"
     ]
    }
   ],
   "source": [
    "import random\n",
    "i=input(\"rpock ,scissor ,paper\")\n",
    "l=[\"rock\",\"scissor\",\"paper\"]\n",
    "cc=random.choice(l)\n",
    "print(cc)\n",
    "if i==cc:\n",
    "    print(\"tie\")\n",
    "elif i==\"rock\":\n",
    "    if cc==\"paper\":\n",
    "        print(\"comp win\")\n",
    "    else:\n",
    "        print(\"user win\")\n",
    "elif i==\"paper\":\n",
    "    if cc==\"rock\":\n",
    "        print(\"comp win \")\n",
    "    else:\n",
    "        print(\"user[p win\")\n",
    "elif i==\"scissor\":\n",
    "    if cc==\"rock\":\n",
    "        print(\"usedp win\")\n",
    "    else:\n",
    "        print(\"comp win\")\n",
    "\n",
    "    "
   ]
  },
  {
   "cell_type": "code",
   "execution_count": null,
   "id": "06b946da-b7f7-48df-b38e-c28c9261cfec",
   "metadata": {},
   "outputs": [],
   "source": []
  }
 ],
 "metadata": {
  "kernelspec": {
   "display_name": "Python 3 (ipykernel)",
   "language": "python",
   "name": "python3"
  },
  "language_info": {
   "codemirror_mode": {
    "name": "ipython",
    "version": 3
   },
   "file_extension": ".py",
   "mimetype": "text/x-python",
   "name": "python",
   "nbconvert_exporter": "python",
   "pygments_lexer": "ipython3",
   "version": "3.12.7"
  }
 },
 "nbformat": 4,
 "nbformat_minor": 5
}
