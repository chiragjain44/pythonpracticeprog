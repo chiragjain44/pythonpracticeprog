{
  "nbformat": 4,
  "nbformat_minor": 0,
  "metadata": {
    "colab": {
      "provenance": []
    },
    "kernelspec": {
      "name": "python3",
      "display_name": "Python 3"
    },
    "language_info": {
      "name": "python"
    }
  },
  "cells": [
    {
      "cell_type": "code",
      "execution_count": null,
      "metadata": {
        "id": "mRc9VcxEslil"
      },
      "outputs": [],
      "source": [
        "#1stques"
      ]
    },
    {
      "cell_type": "code",
      "source": [
        "n=int(input(\"enter price\"))\n",
        "total=int(input(\"enter items\"))\n",
        "if(n>50):\n",
        "  if(total>3):\n",
        "    a=n*total\n",
        "    print(f\"dis for{a} is{a-(a*0.1)}\")"
      ],
      "metadata": {
        "colab": {
          "base_uri": "https://localhost:8080/"
        },
        "id": "RZGtkmGGstdN",
        "outputId": "3f9ef52d-d75c-4150-9b8e-3b8aa13f177b"
      },
      "execution_count": null,
      "outputs": [
        {
          "output_type": "stream",
          "name": "stdout",
          "text": [
            "enter price500\n",
            "enter items4\n",
            "dis for2000 is1800.0\n"
          ]
        }
      ]
    },
    {
      "cell_type": "code",
      "source": [
        "car=input(\"enter type of car\")\n",
        "day=int(input(\"enter day\"))\n",
        "if(car=='economic'):\n",
        "  price=40\n",
        "  print(price*day)\n",
        "  if(day>7):\n",
        "    price=40*day\n",
        "    print(price)\n",
        "    dis=(40-(40*0.2))*day\n",
        "    print(dis)"
      ],
      "metadata": {
        "colab": {
          "base_uri": "https://localhost:8080/"
        },
        "id": "hGPCqUBttP1s",
        "outputId": "0b709c47-b5a2-4273-c68d-b2e87994b104"
      },
      "execution_count": null,
      "outputs": [
        {
          "output_type": "stream",
          "name": "stdout",
          "text": [
            "enter type of careconomic\n",
            "enter day4\n",
            "160\n"
          ]
        }
      ]
    },
    {
      "cell_type": "code",
      "source": [
        "#6th\n",
        "sat=int(input(\"enter\"))\n",
        "cat=int(input(\"enter\"))\n",
        "gpa=int(input(\"enter gpa\"))\n",
        "ath=input(\"enter yes or no\")\n",
        "comho=int(input(\"enter hours\"))\n",
        "if(sat>1000,cat>25)and gpa>4:\n",
        "  print(\"you are admitted\")\n",
        "\n",
        "elif(ath=='yes',comho>100)and gpa>3:\n",
        "\n",
        "      print(\"admission with special\")\n",
        "\n",
        "else:\n",
        "    print(\"not special \")"
      ],
      "metadata": {
        "colab": {
          "base_uri": "https://localhost:8080/"
        },
        "id": "IJ_2zwZOuWGs",
        "outputId": "33a04913-8abc-42a1-f121-e5cc0c882caa"
      },
      "execution_count": null,
      "outputs": [
        {
          "output_type": "stream",
          "name": "stdout",
          "text": [
            "enter1200\n",
            "enter28\n",
            "enter gpa4\n",
            "enter yes or nono\n",
            "enter hours33\n",
            "admission with special\n"
          ]
        }
      ]
    },
    {
      "cell_type": "code",
      "source": [
        "\n",
        "pre=500\n",
        "smoke=input(\"enter yes or no:\")\n",
        "\n",
        "mc=input(\"enter medi cal condition yes or no\")\n",
        "age=int(input(\"enter age\"))\n",
        "if(smoke=='yes'):\n",
        " pre= pre+200\n",
        "\n",
        "\n",
        "\n",
        "if(mc=='yes'):\n",
        "  pre=pre+300\n",
        "\n",
        "  if(age>60):\n",
        "   pre= pre+150\n",
        "print(pre)"
      ],
      "metadata": {
        "colab": {
          "base_uri": "https://localhost:8080/"
        },
        "id": "5W1zpIg6yv_j",
        "outputId": "e865420a-7887-4d7f-fcff-bcafc24c5f75"
      },
      "execution_count": null,
      "outputs": [
        {
          "output_type": "stream",
          "name": "stdout",
          "text": [
            "enter yes or no:yes\n",
            "enter medi cal condition yes or noyes\n",
            "enter age88\n",
            "1150\n"
          ]
        }
      ]
    },
    {
      "cell_type": "code",
      "source": [
        "# Ask for the student's SAT/ACT score, GPA, community service hours, and athletic status\n",
        "sat_score = int(input(\"Enter your SAT score: \"))\n",
        "act_score = int(input(\"Enter your ACT score: \"))\n",
        "gpa = float(input(\"Enter your GPA: \"))\n",
        "community_service_hours = int(input(\"Enter your community service hours: \"))\n",
        "athletic_status = input(\"Are you an athlete? (yes/no): \").strip().lower()\n",
        "\n",
        "# Determine if the student gets special consideration\n",
        "special_consideration = (athletic_status == \"yes\" or community_service_hours > 100)\n",
        "\n",
        "# Determine if the student is admitted\n",
        "if (sat_score >= 1200 or act_score >= 28) and gpa >= 3.5:\n",
        "    print(\"You are admitted.\")\n",
        "elif special_consideration and gpa >= 3.0:\n",
        "    print(\"You are admitted with special consideration.\")\n",
        "else:\n",
        "    print(\"You are not admitted.\")\n"
      ],
      "metadata": {
        "colab": {
          "base_uri": "https://localhost:8080/"
        },
        "id": "Qj0ibvrOV8Fg",
        "outputId": "2c435479-4a19-436d-8628-233ed1e31bce"
      },
      "execution_count": null,
      "outputs": [
        {
          "name": "stdout",
          "output_type": "stream",
          "text": [
            "Enter your SAT score: 1300\n"
          ]
        }
      ]
    },
    {
      "cell_type": "code",
      "source": [],
      "metadata": {
        "id": "vKprZUMumGNg"
      },
      "execution_count": null,
      "outputs": []
    }
  ]
}