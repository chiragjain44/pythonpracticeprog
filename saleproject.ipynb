{
 "cells": [
  {
   "cell_type": "code",
   "execution_count": 3,
   "id": "6ef24d0d-ea93-40e6-8a70-67973ae55b2c",
   "metadata": {},
   "outputs": [],
   "source": [
    "\n",
    "# Create a sample sales dataset as a CSV file\n",
    "\n",
    "import pandas as pd\n",
    "\n",
    "# Sample sales data\n",
    "data = {\n",
    "    \"Date\": [\n",
    "        \"2024-01-05\", \"2024-01-10\", \"2024-01-15\", \"2024-01-20\", \"2024-01-25\",\n",
    "        \"2024-02-01\", \"2024-02-05\", \"2024-02-10\", \"2024-02-15\", \"2024-02-20\",\n",
    "        \"2024-03-05\", \"2024-03-10\", \"2024-03-15\", \"2024-03-20\", \"2024-03-25\",\n",
    "        \"2024-04-01\", \"2024-04-05\", \"2024-04-10\", \"2024-04-15\", \"2024-04-20\"\n",
    "    ],\n",
    "    \"Product\": [\n",
    "        \"Laptop\", \"Smartphone\", \"Tablet\", \"Headphones\", \"Smartwatch\",\n",
    "        \"Monitor\", \"Keyboard\", \"Mouse\", \"Speaker\", \"Router\",\n",
    "        \"Laptop\", \"Smartphone\", \"Tablet\", \"Headphones\", \"Smartwatch\",\n",
    "        \"Monitor\", \"Keyboard\", \"Mouse\", \"Speaker\", \"Router\"\n",
    "    ],\n",
    "    \"Category\": [\n",
    "        \"Electronics\", \"Electronics\", \"Electronics\", \"Accessories\", \"Accessories\",\n",
    "        \"Electronics\", \"Accessories\", \"Accessories\", \"Accessories\", \"Electronics\",\n",
    "        \"Electronics\", \"Electronics\", \"Electronics\", \"Accessories\", \"Accessories\",\n",
    "        \"Electronics\", \"Accessories\", \"Accessories\", \"Accessories\", \"Electronics\"\n",
    "    ],\n",
    "    \"Quantity\": [3, 5, 2, 10, 4, 6, 8, 12, 5, 7, 2, 6, 3, 8, 3, 4, 10, 15, 6, 5],\n",
    "    \"Price\": [800, 600, 400, 50, 200, 300, 40, 25, 150, 120, 850, 650, 420, 55, 210, 320, 42, 27, 160, 130]\n",
    "}\n",
    "df=pd.DataFrame(data)"
   ]
  },
  {
   "cell_type": "code",
   "execution_count": 6,
   "id": "c362c94d-b558-46f4-befa-5e5e6f3ba695",
   "metadata": {},
   "outputs": [],
   "source": [
    "df.to_csv(\"D://pandas//sales_data.csv\")\n"
   ]
  },
  {
   "cell_type": "code",
   "execution_count": 11,
   "id": "6e933556-d7e2-4972-a6a4-ea9a7f3eba77",
   "metadata": {},
   "outputs": [],
   "source": [
    "import matplotlib.pyplot as plt\n",
    "import seaborn as sns"
   ]
  },
  {
   "cell_type": "code",
   "execution_count": 12,
   "id": "91e678e3-6d72-4ea9-9c69-5ff75076119b",
   "metadata": {},
   "outputs": [
    {
     "data": {
      "text/html": [
       "<div>\n",
       "<style scoped>\n",
       "    .dataframe tbody tr th:only-of-type {\n",
       "        vertical-align: middle;\n",
       "    }\n",
       "\n",
       "    .dataframe tbody tr th {\n",
       "        vertical-align: top;\n",
       "    }\n",
       "\n",
       "    .dataframe thead th {\n",
       "        text-align: right;\n",
       "    }\n",
       "</style>\n",
       "<table border=\"1\" class=\"dataframe\">\n",
       "  <thead>\n",
       "    <tr style=\"text-align: right;\">\n",
       "      <th></th>\n",
       "      <th>Date</th>\n",
       "      <th>Product</th>\n",
       "      <th>Category</th>\n",
       "      <th>Quantity</th>\n",
       "      <th>Price</th>\n",
       "    </tr>\n",
       "  </thead>\n",
       "  <tbody>\n",
       "    <tr>\n",
       "      <th>0</th>\n",
       "      <td>2024-01-05</td>\n",
       "      <td>Laptop</td>\n",
       "      <td>Electronics</td>\n",
       "      <td>3</td>\n",
       "      <td>800</td>\n",
       "    </tr>\n",
       "    <tr>\n",
       "      <th>1</th>\n",
       "      <td>2024-01-10</td>\n",
       "      <td>Smartphone</td>\n",
       "      <td>Electronics</td>\n",
       "      <td>5</td>\n",
       "      <td>600</td>\n",
       "    </tr>\n",
       "    <tr>\n",
       "      <th>2</th>\n",
       "      <td>2024-01-15</td>\n",
       "      <td>Tablet</td>\n",
       "      <td>Electronics</td>\n",
       "      <td>2</td>\n",
       "      <td>400</td>\n",
       "    </tr>\n",
       "    <tr>\n",
       "      <th>3</th>\n",
       "      <td>2024-01-20</td>\n",
       "      <td>Headphones</td>\n",
       "      <td>Accessories</td>\n",
       "      <td>10</td>\n",
       "      <td>50</td>\n",
       "    </tr>\n",
       "    <tr>\n",
       "      <th>4</th>\n",
       "      <td>2024-01-25</td>\n",
       "      <td>Smartwatch</td>\n",
       "      <td>Accessories</td>\n",
       "      <td>4</td>\n",
       "      <td>200</td>\n",
       "    </tr>\n",
       "  </tbody>\n",
       "</table>\n",
       "</div>"
      ],
      "text/plain": [
       "         Date     Product     Category  Quantity  Price\n",
       "0  2024-01-05      Laptop  Electronics         3    800\n",
       "1  2024-01-10  Smartphone  Electronics         5    600\n",
       "2  2024-01-15      Tablet  Electronics         2    400\n",
       "3  2024-01-20  Headphones  Accessories        10     50\n",
       "4  2024-01-25  Smartwatch  Accessories         4    200"
      ]
     },
     "execution_count": 12,
     "metadata": {},
     "output_type": "execute_result"
    }
   ],
   "source": [
    "df.head()"
   ]
  },
  {
   "cell_type": "code",
   "execution_count": 21,
   "id": "2d25de39-016c-467e-81e0-ff5c6322bb4b",
   "metadata": {},
   "outputs": [],
   "source": [
    "#first step \n",
    "#data cleaning"
   ]
  },
  {
   "cell_type": "code",
   "execution_count": 23,
   "id": "96deed96-bd33-4d98-a74d-bc8decbf53a7",
   "metadata": {},
   "outputs": [
    {
     "data": {
      "text/plain": [
       "Date        0\n",
       "Product     0\n",
       "Category    0\n",
       "Quantity    0\n",
       "Price       0\n",
       "dtype: int64"
      ]
     },
     "execution_count": 23,
     "metadata": {},
     "output_type": "execute_result"
    }
   ],
   "source": [
    "df.isnull().sum()#check missing values "
   ]
  },
  {
   "cell_type": "code",
   "execution_count": 25,
   "id": "4746310c-1b93-40f0-bd21-6dceb93f726e",
   "metadata": {},
   "outputs": [
    {
     "name": "stderr",
     "output_type": "stream",
     "text": [
      "C:\\Users\\Lenovo\\AppData\\Local\\Temp\\ipykernel_17960\\4231475340.py:2: FutureWarning: A value is trying to be set on a copy of a DataFrame or Series through chained assignment using an inplace method.\n",
      "The behavior will change in pandas 3.0. This inplace method will never work because the intermediate object on which we are setting values always behaves as a copy.\n",
      "\n",
      "For example, when doing 'df[col].method(value, inplace=True)', try using 'df.method({col: value}, inplace=True)' or df[col] = df[col].method(value) instead, to perform the operation inplace on the original object.\n",
      "\n",
      "\n",
      "  df[\"Price\"].fillna(df[\"Price\"].median(), inplace=True)\n"
     ]
    }
   ],
   "source": [
    "# Fill missing values (Example: Fill missing price with the median price)\n",
    "df[\"Price\"].fillna(df[\"Price\"].median(), inplace=True)#there are no missing value "
   ]
  },
  {
   "cell_type": "code",
   "execution_count": 30,
   "id": "692c7d28-34ef-4aa3-8111-6b976b49f515",
   "metadata": {},
   "outputs": [
    {
     "data": {
      "text/html": [
       "<div>\n",
       "<style scoped>\n",
       "    .dataframe tbody tr th:only-of-type {\n",
       "        vertical-align: middle;\n",
       "    }\n",
       "\n",
       "    .dataframe tbody tr th {\n",
       "        vertical-align: top;\n",
       "    }\n",
       "\n",
       "    .dataframe thead th {\n",
       "        text-align: right;\n",
       "    }\n",
       "</style>\n",
       "<table border=\"1\" class=\"dataframe\">\n",
       "  <thead>\n",
       "    <tr style=\"text-align: right;\">\n",
       "      <th></th>\n",
       "      <th>Date</th>\n",
       "      <th>Product</th>\n",
       "      <th>Category</th>\n",
       "      <th>Quantity</th>\n",
       "      <th>Price</th>\n",
       "    </tr>\n",
       "  </thead>\n",
       "  <tbody>\n",
       "    <tr>\n",
       "      <th>0</th>\n",
       "      <td>2024-01-05</td>\n",
       "      <td>Laptop</td>\n",
       "      <td>Electronics</td>\n",
       "      <td>3</td>\n",
       "      <td>800</td>\n",
       "    </tr>\n",
       "    <tr>\n",
       "      <th>1</th>\n",
       "      <td>2024-01-10</td>\n",
       "      <td>Smartphone</td>\n",
       "      <td>Electronics</td>\n",
       "      <td>5</td>\n",
       "      <td>600</td>\n",
       "    </tr>\n",
       "    <tr>\n",
       "      <th>2</th>\n",
       "      <td>2024-01-15</td>\n",
       "      <td>Tablet</td>\n",
       "      <td>Electronics</td>\n",
       "      <td>2</td>\n",
       "      <td>400</td>\n",
       "    </tr>\n",
       "    <tr>\n",
       "      <th>3</th>\n",
       "      <td>2024-01-20</td>\n",
       "      <td>Headphones</td>\n",
       "      <td>Accessories</td>\n",
       "      <td>10</td>\n",
       "      <td>50</td>\n",
       "    </tr>\n",
       "    <tr>\n",
       "      <th>4</th>\n",
       "      <td>2024-01-25</td>\n",
       "      <td>Smartwatch</td>\n",
       "      <td>Accessories</td>\n",
       "      <td>4</td>\n",
       "      <td>200</td>\n",
       "    </tr>\n",
       "  </tbody>\n",
       "</table>\n",
       "</div>"
      ],
      "text/plain": [
       "        Date     Product     Category  Quantity  Price\n",
       "0 2024-01-05      Laptop  Electronics         3    800\n",
       "1 2024-01-10  Smartphone  Electronics         5    600\n",
       "2 2024-01-15      Tablet  Electronics         2    400\n",
       "3 2024-01-20  Headphones  Accessories        10     50\n",
       "4 2024-01-25  Smartwatch  Accessories         4    200"
      ]
     },
     "execution_count": 30,
     "metadata": {},
     "output_type": "execute_result"
    }
   ],
   "source": [
    "df.head()"
   ]
  },
  {
   "cell_type": "code",
   "execution_count": 27,
   "id": "b3e66ea7-a5d9-4aa9-b787-8faf9f25fe26",
   "metadata": {},
   "outputs": [],
   "source": [
    "df[\"Date\"] = pd.to_datetime(df[\"Date\"])  # Convert to datetime\n"
   ]
  },
  {
   "cell_type": "code",
   "execution_count": 29,
   "id": "c30b468e-0a56-4ddf-8860-7082573a6b99",
   "metadata": {},
   "outputs": [
    {
     "data": {
      "text/html": [
       "<div>\n",
       "<style scoped>\n",
       "    .dataframe tbody tr th:only-of-type {\n",
       "        vertical-align: middle;\n",
       "    }\n",
       "\n",
       "    .dataframe tbody tr th {\n",
       "        vertical-align: top;\n",
       "    }\n",
       "\n",
       "    .dataframe thead th {\n",
       "        text-align: right;\n",
       "    }\n",
       "</style>\n",
       "<table border=\"1\" class=\"dataframe\">\n",
       "  <thead>\n",
       "    <tr style=\"text-align: right;\">\n",
       "      <th></th>\n",
       "      <th>Date</th>\n",
       "      <th>Product</th>\n",
       "      <th>Category</th>\n",
       "      <th>Quantity</th>\n",
       "      <th>Price</th>\n",
       "    </tr>\n",
       "  </thead>\n",
       "  <tbody>\n",
       "    <tr>\n",
       "      <th>15</th>\n",
       "      <td>2024-04-01</td>\n",
       "      <td>Monitor</td>\n",
       "      <td>Electronics</td>\n",
       "      <td>4</td>\n",
       "      <td>320</td>\n",
       "    </tr>\n",
       "    <tr>\n",
       "      <th>16</th>\n",
       "      <td>2024-04-05</td>\n",
       "      <td>Keyboard</td>\n",
       "      <td>Accessories</td>\n",
       "      <td>10</td>\n",
       "      <td>42</td>\n",
       "    </tr>\n",
       "    <tr>\n",
       "      <th>17</th>\n",
       "      <td>2024-04-10</td>\n",
       "      <td>Mouse</td>\n",
       "      <td>Accessories</td>\n",
       "      <td>15</td>\n",
       "      <td>27</td>\n",
       "    </tr>\n",
       "    <tr>\n",
       "      <th>18</th>\n",
       "      <td>2024-04-15</td>\n",
       "      <td>Speaker</td>\n",
       "      <td>Accessories</td>\n",
       "      <td>6</td>\n",
       "      <td>160</td>\n",
       "    </tr>\n",
       "    <tr>\n",
       "      <th>19</th>\n",
       "      <td>2024-04-20</td>\n",
       "      <td>Router</td>\n",
       "      <td>Electronics</td>\n",
       "      <td>5</td>\n",
       "      <td>130</td>\n",
       "    </tr>\n",
       "  </tbody>\n",
       "</table>\n",
       "</div>"
      ],
      "text/plain": [
       "         Date   Product     Category  Quantity  Price\n",
       "15 2024-04-01   Monitor  Electronics         4    320\n",
       "16 2024-04-05  Keyboard  Accessories        10     42\n",
       "17 2024-04-10     Mouse  Accessories        15     27\n",
       "18 2024-04-15   Speaker  Accessories         6    160\n",
       "19 2024-04-20    Router  Electronics         5    130"
      ]
     },
     "execution_count": 29,
     "metadata": {},
     "output_type": "execute_result"
    }
   ],
   "source": [
    "df.tail()"
   ]
  },
  {
   "cell_type": "code",
   "execution_count": null,
   "id": "ba7f9673-30c7-4f4d-bf2f-d2fad57465c4",
   "metadata": {},
   "outputs": [],
   "source": [
    "#add new column"
   ]
  },
  {
   "cell_type": "code",
   "execution_count": 34,
   "id": "1acd93d6-ebc3-404a-b303-15fbf67b3b5d",
   "metadata": {},
   "outputs": [],
   "source": [
    "df['total_sales']=df['Quantity']*df['Price']"
   ]
  },
  {
   "cell_type": "code",
   "execution_count": 35,
   "id": "9bed376c-aad4-455f-96d0-8ffc5eaa2afd",
   "metadata": {},
   "outputs": [
    {
     "data": {
      "text/html": [
       "<div>\n",
       "<style scoped>\n",
       "    .dataframe tbody tr th:only-of-type {\n",
       "        vertical-align: middle;\n",
       "    }\n",
       "\n",
       "    .dataframe tbody tr th {\n",
       "        vertical-align: top;\n",
       "    }\n",
       "\n",
       "    .dataframe thead th {\n",
       "        text-align: right;\n",
       "    }\n",
       "</style>\n",
       "<table border=\"1\" class=\"dataframe\">\n",
       "  <thead>\n",
       "    <tr style=\"text-align: right;\">\n",
       "      <th></th>\n",
       "      <th>Date</th>\n",
       "      <th>Product</th>\n",
       "      <th>Category</th>\n",
       "      <th>Quantity</th>\n",
       "      <th>Price</th>\n",
       "      <th>total_sales</th>\n",
       "    </tr>\n",
       "  </thead>\n",
       "  <tbody>\n",
       "    <tr>\n",
       "      <th>0</th>\n",
       "      <td>2024-01-05</td>\n",
       "      <td>Laptop</td>\n",
       "      <td>Electronics</td>\n",
       "      <td>3</td>\n",
       "      <td>800</td>\n",
       "      <td>2400</td>\n",
       "    </tr>\n",
       "    <tr>\n",
       "      <th>1</th>\n",
       "      <td>2024-01-10</td>\n",
       "      <td>Smartphone</td>\n",
       "      <td>Electronics</td>\n",
       "      <td>5</td>\n",
       "      <td>600</td>\n",
       "      <td>3000</td>\n",
       "    </tr>\n",
       "    <tr>\n",
       "      <th>2</th>\n",
       "      <td>2024-01-15</td>\n",
       "      <td>Tablet</td>\n",
       "      <td>Electronics</td>\n",
       "      <td>2</td>\n",
       "      <td>400</td>\n",
       "      <td>800</td>\n",
       "    </tr>\n",
       "    <tr>\n",
       "      <th>3</th>\n",
       "      <td>2024-01-20</td>\n",
       "      <td>Headphones</td>\n",
       "      <td>Accessories</td>\n",
       "      <td>10</td>\n",
       "      <td>50</td>\n",
       "      <td>500</td>\n",
       "    </tr>\n",
       "    <tr>\n",
       "      <th>4</th>\n",
       "      <td>2024-01-25</td>\n",
       "      <td>Smartwatch</td>\n",
       "      <td>Accessories</td>\n",
       "      <td>4</td>\n",
       "      <td>200</td>\n",
       "      <td>800</td>\n",
       "    </tr>\n",
       "  </tbody>\n",
       "</table>\n",
       "</div>"
      ],
      "text/plain": [
       "        Date     Product     Category  Quantity  Price  total_sales\n",
       "0 2024-01-05      Laptop  Electronics         3    800         2400\n",
       "1 2024-01-10  Smartphone  Electronics         5    600         3000\n",
       "2 2024-01-15      Tablet  Electronics         2    400          800\n",
       "3 2024-01-20  Headphones  Accessories        10     50          500\n",
       "4 2024-01-25  Smartwatch  Accessories         4    200          800"
      ]
     },
     "execution_count": 35,
     "metadata": {},
     "output_type": "execute_result"
    }
   ],
   "source": [
    "df.head()"
   ]
  },
  {
   "cell_type": "code",
   "execution_count": 36,
   "id": "c598bbb3-5be5-4660-a585-95f9ae11d757",
   "metadata": {},
   "outputs": [],
   "source": [
    "#so we can anylize total of revenue "
   ]
  },
  {
   "cell_type": "code",
   "execution_count": 38,
   "id": "72221c10-48f1-4add-9089-4658bc84d9f9",
   "metadata": {},
   "outputs": [],
   "source": [
    "total_revenue=df['total_sales'].sum()"
   ]
  },
  {
   "cell_type": "code",
   "execution_count": 40,
   "id": "1c1e95a5-db3d-4273-9a63-2e891c7b8dc8",
   "metadata": {},
   "outputs": [
    {
     "data": {
      "text/plain": [
       "23155"
      ]
     },
     "execution_count": 40,
     "metadata": {},
     "output_type": "execute_result"
    }
   ],
   "source": [
    "total_revenue"
   ]
  },
  {
   "cell_type": "code",
   "execution_count": 41,
   "id": "0e26b0db-38a2-46bc-a5b2-14d7015f44e1",
   "metadata": {},
   "outputs": [],
   "source": [
    "#finding top selling product"
   ]
  },
  {
   "cell_type": "code",
   "execution_count": 48,
   "id": "4dc44279-2d72-4a83-a2f2-350e5106c21a",
   "metadata": {},
   "outputs": [],
   "source": [
    "topsell=df.groupby('Product')['total_sales'].sum().sort_values(ascending=False)"
   ]
  },
  {
   "cell_type": "code",
   "execution_count": 50,
   "id": "a566a7d3-bed7-4b33-a71f-bb399744e148",
   "metadata": {},
   "outputs": [
    {
     "data": {
      "text/plain": [
       "Product\n",
       "Smartphone    6900\n",
       "Laptop        4100\n",
       "Monitor       3080\n",
       "Tablet        2060\n",
       "Speaker       1710\n",
       "Router        1490\n",
       "Smartwatch    1430\n",
       "Headphones     940\n",
       "Keyboard       740\n",
       "Mouse          705\n",
       "Name: total_sales, dtype: int64"
      ]
     },
     "execution_count": 50,
     "metadata": {},
     "output_type": "execute_result"
    }
   ],
   "source": [
    "topsell"
   ]
  },
  {
   "cell_type": "code",
   "execution_count": 51,
   "id": "f16467e1-80a5-4671-b3e2-0caa39be3682",
   "metadata": {},
   "outputs": [
    {
     "data": {
      "text/plain": [
       "Product\n",
       "Smartphone    6900\n",
       "Name: total_sales, dtype: int64"
      ]
     },
     "execution_count": 51,
     "metadata": {},
     "output_type": "execute_result"
    }
   ],
   "source": [
    "topsell.head(1)#this is the topselling product "
   ]
  },
  {
   "cell_type": "code",
   "execution_count": 73,
   "id": "15c9b376-ef19-48f6-9789-ff6d29fd8db7",
   "metadata": {},
   "outputs": [
    {
     "data": {
      "image/png": "[encoded data removed]",
      "text/plain": [
       "<Figure size 640x480 with 1 Axes>"
      ]
     },
     "metadata": {},
     "output_type": "display_data"
    }
   ],
   "source": [
    "df[\"Month\"] = df[\"Date\"].dt.to_period(\"M\")  # Extract Month-Year\n",
    "monthly_sales = df.groupby(\"Month\")[\"total_sales\"].sum()\n",
    "\n",
    "# Plot Sales Trend\n",
    "#plt.figure(figsize=(10,5) )#we also give size \n",
    "sns.lineplot(x=monthly_sales.index.astype(str), y=monthly_sales.values, marker=\"o\", color=\"blue\")\n",
    "plt.title(\"Monthly Sales Trend\")\n",
    "plt.xlabel(\"Month\")\n",
    "plt.ylabel(\"total sale ($)\")\n",
    "plt.show()\n"
   ]
  },
  {
   "cell_type": "code",
   "execution_count": 60,
   "id": "4e5abd26-309b-4b68-b682-a38d83573544",
   "metadata": {},
   "outputs": [],
   "source": [
    "#category sale by using top sales"
   ]
  },
  {
   "cell_type": "code",
   "execution_count": 61,
   "id": "ccd297af-14a3-45b4-a647-829c499ff987",
   "metadata": {},
   "outputs": [],
   "source": [
    "category_sales=df.groupby('Category')['total_sales'].sum()"
   ]
  },
  {
   "cell_type": "code",
   "execution_count": 70,
   "id": "90f2b1e2-95bc-4794-ae20-2d276e9545ed",
   "metadata": {},
   "outputs": [
    {
     "data": {
      "text/plain": [
       "Text(0, 0.5, 'total sales ')"
      ]
     },
     "execution_count": 70,
     "metadata": {},
     "output_type": "execute_result"
    },
    {
     "data": {
      "image/png": "[encoded data removed]",
      "text/plain": [
       "<Figure size 640x480 with 1 Axes>"
      ]
     },
     "metadata": {},
     "output_type": "display_data"
    }
   ],
   "source": [
    "category_sales.plot(kind=\"bar\",color=['red','orange'],title='category wise sales plot')\n",
    "plt.xlabel('categories')\n",
    "plt.ylabel('total sales ')"
   ]
  },
  {
   "cell_type": "code",
   "execution_count": 74,
   "id": "31baea0c-9ee9-491c-a1c6-15fa22cf45fc",
   "metadata": {},
   "outputs": [
    {
     "data": {
      "text/html": [
       "<div>\n",
       "<style scoped>\n",
       "    .dataframe tbody tr th:only-of-type {\n",
       "        vertical-align: middle;\n",
       "    }\n",
       "\n",
       "    .dataframe tbody tr th {\n",
       "        vertical-align: top;\n",
       "    }\n",
       "\n",
       "    .dataframe thead th {\n",
       "        text-align: right;\n",
       "    }\n",
       "</style>\n",
       "<table border=\"1\" class=\"dataframe\">\n",
       "  <thead>\n",
       "    <tr style=\"text-align: right;\">\n",
       "      <th></th>\n",
       "      <th>Date</th>\n",
       "      <th>Product</th>\n",
       "      <th>Category</th>\n",
       "      <th>Quantity</th>\n",
       "      <th>Price</th>\n",
       "      <th>total_sales</th>\n",
       "      <th>Month</th>\n",
       "    </tr>\n",
       "  </thead>\n",
       "  <tbody>\n",
       "    <tr>\n",
       "      <th>0</th>\n",
       "      <td>2024-01-05</td>\n",
       "      <td>Laptop</td>\n",
       "      <td>Electronics</td>\n",
       "      <td>3</td>\n",
       "      <td>800</td>\n",
       "      <td>2400</td>\n",
       "      <td>2024-01</td>\n",
       "    </tr>\n",
       "    <tr>\n",
       "      <th>1</th>\n",
       "      <td>2024-01-10</td>\n",
       "      <td>Smartphone</td>\n",
       "      <td>Electronics</td>\n",
       "      <td>5</td>\n",
       "      <td>600</td>\n",
       "      <td>3000</td>\n",
       "      <td>2024-01</td>\n",
       "    </tr>\n",
       "    <tr>\n",
       "      <th>2</th>\n",
       "      <td>2024-01-15</td>\n",
       "      <td>Tablet</td>\n",
       "      <td>Electronics</td>\n",
       "      <td>2</td>\n",
       "      <td>400</td>\n",
       "      <td>800</td>\n",
       "      <td>2024-01</td>\n",
       "    </tr>\n",
       "    <tr>\n",
       "      <th>3</th>\n",
       "      <td>2024-01-20</td>\n",
       "      <td>Headphones</td>\n",
       "      <td>Accessories</td>\n",
       "      <td>10</td>\n",
       "      <td>50</td>\n",
       "      <td>500</td>\n",
       "      <td>2024-01</td>\n",
       "    </tr>\n",
       "    <tr>\n",
       "      <th>4</th>\n",
       "      <td>2024-01-25</td>\n",
       "      <td>Smartwatch</td>\n",
       "      <td>Accessories</td>\n",
       "      <td>4</td>\n",
       "      <td>200</td>\n",
       "      <td>800</td>\n",
       "      <td>2024-01</td>\n",
       "    </tr>\n",
       "    <tr>\n",
       "      <th>5</th>\n",
       "      <td>2024-02-01</td>\n",
       "      <td>Monitor</td>\n",
       "      <td>Electronics</td>\n",
       "      <td>6</td>\n",
       "      <td>300</td>\n",
       "      <td>1800</td>\n",
       "      <td>2024-02</td>\n",
       "    </tr>\n",
       "    <tr>\n",
       "      <th>6</th>\n",
       "      <td>2024-02-05</td>\n",
       "      <td>Keyboard</td>\n",
       "      <td>Accessories</td>\n",
       "      <td>8</td>\n",
       "      <td>40</td>\n",
       "      <td>320</td>\n",
       "      <td>2024-02</td>\n",
       "    </tr>\n",
       "    <tr>\n",
       "      <th>7</th>\n",
       "      <td>2024-02-10</td>\n",
       "      <td>Mouse</td>\n",
       "      <td>Accessories</td>\n",
       "      <td>12</td>\n",
       "      <td>25</td>\n",
       "      <td>300</td>\n",
       "      <td>2024-02</td>\n",
       "    </tr>\n",
       "    <tr>\n",
       "      <th>8</th>\n",
       "      <td>2024-02-15</td>\n",
       "      <td>Speaker</td>\n",
       "      <td>Accessories</td>\n",
       "      <td>5</td>\n",
       "      <td>150</td>\n",
       "      <td>750</td>\n",
       "      <td>2024-02</td>\n",
       "    </tr>\n",
       "    <tr>\n",
       "      <th>9</th>\n",
       "      <td>2024-02-20</td>\n",
       "      <td>Router</td>\n",
       "      <td>Electronics</td>\n",
       "      <td>7</td>\n",
       "      <td>120</td>\n",
       "      <td>840</td>\n",
       "      <td>2024-02</td>\n",
       "    </tr>\n",
       "    <tr>\n",
       "      <th>10</th>\n",
       "      <td>2024-03-05</td>\n",
       "      <td>Laptop</td>\n",
       "      <td>Electronics</td>\n",
       "      <td>2</td>\n",
       "      <td>850</td>\n",
       "      <td>1700</td>\n",
       "      <td>2024-03</td>\n",
       "    </tr>\n",
       "    <tr>\n",
       "      <th>11</th>\n",
       "      <td>2024-03-10</td>\n",
       "      <td>Smartphone</td>\n",
       "      <td>Electronics</td>\n",
       "      <td>6</td>\n",
       "      <td>650</td>\n",
       "      <td>3900</td>\n",
       "      <td>2024-03</td>\n",
       "    </tr>\n",
       "    <tr>\n",
       "      <th>12</th>\n",
       "      <td>2024-03-15</td>\n",
       "      <td>Tablet</td>\n",
       "      <td>Electronics</td>\n",
       "      <td>3</td>\n",
       "      <td>420</td>\n",
       "      <td>1260</td>\n",
       "      <td>2024-03</td>\n",
       "    </tr>\n",
       "    <tr>\n",
       "      <th>13</th>\n",
       "      <td>2024-03-20</td>\n",
       "      <td>Headphones</td>\n",
       "      <td>Accessories</td>\n",
       "      <td>8</td>\n",
       "      <td>55</td>\n",
       "      <td>440</td>\n",
       "      <td>2024-03</td>\n",
       "    </tr>\n",
       "    <tr>\n",
       "      <th>14</th>\n",
       "      <td>2024-03-25</td>\n",
       "      <td>Smartwatch</td>\n",
       "      <td>Accessories</td>\n",
       "      <td>3</td>\n",
       "      <td>210</td>\n",
       "      <td>630</td>\n",
       "      <td>2024-03</td>\n",
       "    </tr>\n",
       "    <tr>\n",
       "      <th>15</th>\n",
       "      <td>2024-04-01</td>\n",
       "      <td>Monitor</td>\n",
       "      <td>Electronics</td>\n",
       "      <td>4</td>\n",
       "      <td>320</td>\n",
       "      <td>1280</td>\n",
       "      <td>2024-04</td>\n",
       "    </tr>\n",
       "    <tr>\n",
       "      <th>16</th>\n",
       "      <td>2024-04-05</td>\n",
       "      <td>Keyboard</td>\n",
       "      <td>Accessories</td>\n",
       "      <td>10</td>\n",
       "      <td>42</td>\n",
       "      <td>420</td>\n",
       "      <td>2024-04</td>\n",
       "    </tr>\n",
       "    <tr>\n",
       "      <th>17</th>\n",
       "      <td>2024-04-10</td>\n",
       "      <td>Mouse</td>\n",
       "      <td>Accessories</td>\n",
       "      <td>15</td>\n",
       "      <td>27</td>\n",
       "      <td>405</td>\n",
       "      <td>2024-04</td>\n",
       "    </tr>\n",
       "    <tr>\n",
       "      <th>18</th>\n",
       "      <td>2024-04-15</td>\n",
       "      <td>Speaker</td>\n",
       "      <td>Accessories</td>\n",
       "      <td>6</td>\n",
       "      <td>160</td>\n",
       "      <td>960</td>\n",
       "      <td>2024-04</td>\n",
       "    </tr>\n",
       "    <tr>\n",
       "      <th>19</th>\n",
       "      <td>2024-04-20</td>\n",
       "      <td>Router</td>\n",
       "      <td>Electronics</td>\n",
       "      <td>5</td>\n",
       "      <td>130</td>\n",
       "      <td>650</td>\n",
       "      <td>2024-04</td>\n",
       "    </tr>\n",
       "  </tbody>\n",
       "</table>\n",
       "</div>"
      ],
      "text/plain": [
       "         Date     Product     Category  Quantity  Price  total_sales    Month\n",
       "0  2024-01-05      Laptop  Electronics         3    800         2400  2024-01\n",
       "1  2024-01-10  Smartphone  Electronics         5    600         3000  2024-01\n",
       "2  2024-01-15      Tablet  Electronics         2    400          800  2024-01\n",
       "3  2024-01-20  Headphones  Accessories        10     50          500  2024-01\n",
       "4  2024-01-25  Smartwatch  Accessories         4    200          800  2024-01\n",
       "5  2024-02-01     Monitor  Electronics         6    300         1800  2024-02\n",
       "6  2024-02-05    Keyboard  Accessories         8     40          320  2024-02\n",
       "7  2024-02-10       Mouse  Accessories        12     25          300  2024-02\n",
       "8  2024-02-15     Speaker  Accessories         5    150          750  2024-02\n",
       "9  2024-02-20      Router  Electronics         7    120          840  2024-02\n",
       "10 2024-03-05      Laptop  Electronics         2    850         1700  2024-03\n",
       "11 2024-03-10  Smartphone  Electronics         6    650         3900  2024-03\n",
       "12 2024-03-15      Tablet  Electronics         3    420         1260  2024-03\n",
       "13 2024-03-20  Headphones  Accessories         8     55          440  2024-03\n",
       "14 2024-03-25  Smartwatch  Accessories         3    210          630  2024-03\n",
       "15 2024-04-01     Monitor  Electronics         4    320         1280  2024-04\n",
       "16 2024-04-05    Keyboard  Accessories        10     42          420  2024-04\n",
       "17 2024-04-10       Mouse  Accessories        15     27          405  2024-04\n",
       "18 2024-04-15     Speaker  Accessories         6    160          960  2024-04\n",
       "19 2024-04-20      Router  Electronics         5    130          650  2024-04"
      ]
     },
     "execution_count": 74,
     "metadata": {},
     "output_type": "execute_result"
    }
   ],
   "source": [
    "df"
   ]
  },
  {
   "cell_type": "code",
   "execution_count": null,
   "id": "e531a867-8d50-4766-96d5-8faba0c2a1b7",
   "metadata": {},
   "outputs": [],
   "source": [
    "#operations in that project is\n",
    "#data cleaning \n",
    "#total revenue \n",
    "#find top selling product \n",
    "#create linegram of monthly sales \n",
    "#create bar of category wise sale "
   ]
  }
 ],
 "metadata": {
  "kernelspec": {
   "display_name": "Python 3 (ipykernel)",
   "language": "python",
   "name": "python3"
  },
  "language_info": {
   "codemirror_mode": {
    "name": "ipython",
    "version": 3
   },
   "file_extension": ".py",
   "mimetype": "text/x-python",
   "name": "python",
   "nbconvert_exporter": "python",
   "pygments_lexer": "ipython3",
   "version": "3.12.7"
  }
 },
 "nbformat": 4,
 "nbformat_minor": 5
}
