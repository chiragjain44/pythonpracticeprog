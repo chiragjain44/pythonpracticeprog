{
 "cells": [
  {
   "cell_type": "code",
   "execution_count": 13,
   "id": "d5353bc3-ded3-4464-97fe-f0bd6ec6c8c0",
   "metadata": {},
   "outputs": [],
   "source": [
    "a=90\n",
    "b=20\n",
    "c=30"
   ]
  },
  {
   "cell_type": "code",
   "execution_count": 14,
   "id": "ff225c79-9399-40c2-adab-58f80d15c5ca",
   "metadata": {},
   "outputs": [
    {
     "name": "stdout",
     "output_type": "stream",
     "text": [
      "90 20 30\n"
     ]
    }
   ],
   "source": [
    "print(a,b,c)"
   ]
  },
  {
   "cell_type": "code",
   "execution_count": 18,
   "id": "74493529-5daf-47d3-8dab-6ed0a5509afe",
   "metadata": {},
   "outputs": [
    {
     "name": "stdout",
     "output_type": "stream",
     "text": [
      "shivam\n"
     ]
    }
   ],
   "source": [
    "if (a>b) & (a>c):\n",
    "    print(\"shivam\")\n",
    "elif (b>a) & (b>c):\n",
    "    print(\"navi\")\n",
    "else:\n",
    "    print(\"lokesh\")"
   ]
  },
  {
   "cell_type": "code",
   "execution_count": 19,
   "id": "fb572b76-dd35-4be8-b96b-676ddae013ce",
   "metadata": {},
   "outputs": [],
   "source": [
    "t1=('a',2,4)"
   ]
  },
  {
   "cell_type": "markdown",
   "id": "0a6bcb29-0569-4590-91f4-02808807a1e0",
   "metadata": {},
   "source": [
    "# "
   ]
  },
  {
   "cell_type": "code",
   "execution_count": 20,
   "id": "4221fa4d-375a-4b99-9b7b-4e0ef630469f",
   "metadata": {},
   "outputs": [
    {
     "data": {
      "text/plain": [
       "('a', 2, 4)"
      ]
     },
     "execution_count": 20,
     "metadata": {},
     "output_type": "execute_result"
    }
   ],
   "source": [
    "t1"
   ]
  },
  {
   "cell_type": "code",
   "execution_count": 21,
   "id": "a30654cf-7c64-47f2-a46d-424b9c85ca81",
   "metadata": {},
   "outputs": [
    {
     "name": "stdout",
     "output_type": "stream",
     "text": [
      "werong\n"
     ]
    }
   ],
   "source": [
    "if t1[1]>t1[2]:\n",
    "    print(\"right\")\n",
    "else:\n",
    "    print(\"werong\")"
   ]
  },
  {
   "cell_type": "code",
   "execution_count": 22,
   "id": "a5e842e7-a9f3-4614-b9cc-1d753be51f59",
   "metadata": {},
   "outputs": [],
   "source": [
    "l1=['a',99,444.4]"
   ]
  },
  {
   "cell_type": "code",
   "execution_count": 23,
   "id": "84f0c766-e872-4ccc-8e64-93f755ea5a9a",
   "metadata": {},
   "outputs": [
    {
     "data": {
      "text/plain": [
       "['a', 99, 444.4]"
      ]
     },
     "execution_count": 23,
     "metadata": {},
     "output_type": "execute_result"
    }
   ],
   "source": [
    "l1"
   ]
  },
  {
   "cell_type": "code",
   "execution_count": 26,
   "id": "d9885e8c-eeab-45b9-9e22-9c9acaef92c0",
   "metadata": {},
   "outputs": [
    {
     "name": "stdout",
     "output_type": "stream",
     "text": [
      "1\n",
      "2\n",
      "3\n",
      "4\n",
      "5\n",
      "6\n",
      "7\n",
      "8\n",
      "9\n",
      "10\n"
     ]
    }
   ],
   "source": [
    "i=1\n",
    "while i<=10:\n",
    "    print(i)\n",
    "    i=i+1"
   ]
  },
  {
   "cell_type": "code",
   "execution_count": null,
   "id": "1e7cdf66-d01a-43b5-9f29-8f68af279b00",
   "metadata": {},
   "outputs": [],
   "source": [
    "for i=1:i<=10:i=i+1:\n"
   ]
  }
 ],
 "metadata": {
  "kernelspec": {
   "display_name": "Python 3 (ipykernel)",
   "language": "python",
   "name": "python3"
  },
  "language_info": {
   "codemirror_mode": {
    "name": "ipython",
    "version": 3
   },
   "file_extension": ".py",
   "mimetype": "text/x-python",
   "name": "python",
   "nbconvert_exporter": "python",
   "pygments_lexer": "ipython3",
   "version": "3.12.7"
  }
 },
 "nbformat": 4,
 "nbformat_minor": 5
}
