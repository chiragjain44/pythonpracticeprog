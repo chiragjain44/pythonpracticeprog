{
 "cells": [
  {
   "cell_type": "code",
   "execution_count": 1,
   "id": "6289b044",
   "metadata": {},
   "outputs": [
    {
     "name": "stdout",
     "output_type": "stream",
     "text": [
      "6\n"
     ]
    }
   ],
   "source": [
    "# Q.1  Write a program who can add sum of digits . \n",
    "i = 123 \n",
    "sum = 0 \n",
    "while(i>0):\n",
    "    d = i%10 \n",
    "    i = i//10\n",
    "    sum = sum + d \n",
    "    \n",
    "print(sum) "
   ]
  },
  {
   "cell_type": "code",
   "execution_count": 2,
   "id": "ae71a471",
   "metadata": {},
   "outputs": [],
   "source": [
    "def sum_of_dig():\n",
    "    i = 123\n",
    "    sum = 0\n",
    "    while(i>0):\n",
    "        d = i%10 \n",
    "        i = i//10 \n",
    "        sum = sum + d \n",
    "    print(sum) "
   ]
  },
  {
   "cell_type": "code",
   "execution_count": 3,
   "id": "9af44d0d",
   "metadata": {},
   "outputs": [
    {
     "name": "stdout",
     "output_type": "stream",
     "text": [
      "6\n"
     ]
    }
   ],
   "source": [
    "sum_of_dig()"
   ]
  },
  {
   "cell_type": "code",
   "execution_count": 4,
   "id": "bc4d0438",
   "metadata": {},
   "outputs": [],
   "source": [
    "def sum_of_dig(a):\n",
    "    sum = 0 \n",
    "    while(a>0):\n",
    "        d = a%10 \n",
    "        a = a//10\n",
    "        sum = sum + d \n",
    "    print(sum) \n",
    "    "
   ]
  },
  {
   "cell_type": "code",
   "execution_count": 5,
   "id": "dbc39ed3",
   "metadata": {},
   "outputs": [
    {
     "name": "stdout",
     "output_type": "stream",
     "text": [
      "15\n"
     ]
    }
   ],
   "source": [
    "sum_of_dig(456)"
   ]
  },
  {
   "cell_type": "code",
   "execution_count": 6,
   "id": "a4f4728d",
   "metadata": {},
   "outputs": [
    {
     "name": "stdout",
     "output_type": "stream",
     "text": [
      "321\n"
     ]
    }
   ],
   "source": [
    "# Q.2 Write a function who can \n",
    "i = 123 \n",
    "rev = 0 \n",
    "while(i>0):\n",
    "    rev = (rev*10)+i%10 \n",
    "    i = i//10 \n",
    "print(rev)     "
   ]
  },
  {
   "cell_type": "code",
   "execution_count": 7,
   "id": "4e04fc9e",
   "metadata": {},
   "outputs": [],
   "source": [
    "# # step-1 (i = 123 , rev = 0)\n",
    "# while(123>0):\n",
    "#     rev = (0*10)+(123%10) = 0 + 3 = 3 \n",
    "#     i = 123//10 = 12 \n",
    "\n",
    "# # step-2 (i = 12 , rev = 3)\n",
    "# while(12>0):\n",
    "#     rev = (3*10) + (12%10) = 30+2 = 32\n",
    "#     i = 12//10 = 1 \n",
    "    \n",
    "# #step-3(i = 1 , rev = 32)\n",
    "# while(1>0):\n",
    "#     rev = (32*10) + (1%10) = 320 + 1 = 321 \n",
    "#     i = 1//10 = 0 \n",
    "    \n",
    "# # Final Output ---> 321"
   ]
  },
  {
   "cell_type": "code",
   "execution_count": 8,
   "id": "af9472ce",
   "metadata": {},
   "outputs": [],
   "source": [
    "# i = 123 \n",
    "# d = str(i) \n",
    "# d\n",
    "# for i in range(len(d) , 0 , -1):\n",
    "#     print(i , end = \"\")"
   ]
  },
  {
   "cell_type": "code",
   "execution_count": 9,
   "id": "b0f08846",
   "metadata": {},
   "outputs": [],
   "source": [
    "# a = 123 \n",
    "# b = str(a)\n",
    "# sum = 0 \n",
    "# for i in range(len(b)):\n",
    "#     sum = sum + (a%10)\n",
    "#     a = a//10 \n",
    "# print(sum) "
   ]
  },
  {
   "cell_type": "code",
   "execution_count": 10,
   "id": "6e78306b",
   "metadata": {},
   "outputs": [
    {
     "name": "stdout",
     "output_type": "stream",
     "text": [
      "321\n"
     ]
    }
   ],
   "source": [
    "# Q.2 Write a function who can reverse of a give number ?\n",
    "i = 123 \n",
    "rev = 0 \n",
    "while(i>0):\n",
    "    rev = (rev*10)+i%10 \n",
    "    i = i//10 \n",
    "print(rev)     "
   ]
  },
  {
   "cell_type": "code",
   "execution_count": 11,
   "id": "772329fe",
   "metadata": {},
   "outputs": [],
   "source": [
    "# # step-1 (i = 123 , rev = 0)\n",
    "# while(123>0):\n",
    "#     rev = (0*10)+(123%10) = 0 + 3 = 3 \n",
    "#     i = 123//10 = 12 \n",
    "\n",
    "# # step-2 (i = 12 , rev = 3)\n",
    "# while(12>0):\n",
    "#     rev = (3*10) + (12%10) = 30+2 = 32\n",
    "#     i = 12//10 = 1 \n",
    "    \n",
    "# #step-3(i = 1 , rev = 32)\n",
    "# while(1>0):\n",
    "#     rev = (32*10) + (1%10) = 320 + 1 = 321 \n",
    "#     i = 1//10 = 0 \n",
    "    \n",
    "# # Final Output ---> 321"
   ]
  },
  {
   "cell_type": "code",
   "execution_count": 12,
   "id": "8b1afdfe",
   "metadata": {},
   "outputs": [
    {
     "name": "stdout",
     "output_type": "stream",
     "text": [
      "321\n"
     ]
    }
   ],
   "source": [
    "def my_rev():   ####Without Argument And parameters\n",
    "    i = 123 \n",
    "    rev = 0 \n",
    "    while(i>0):\n",
    "        rev = (rev*10)+(i%10)\n",
    "        i = i//10       \n",
    "    print(rev)  \n",
    " \n",
    "\n",
    "my_rev() "
   ]
  },
  {
   "cell_type": "code",
   "execution_count": 13,
   "id": "c0e3b479",
   "metadata": {},
   "outputs": [
    {
     "name": "stdout",
     "output_type": "stream",
     "text": [
      "Enter number:123\n",
      "321\n"
     ]
    }
   ],
   "source": [
    "def my_rev(a):    ###With Arguments And Parameters \n",
    "    rev = 0\n",
    "    while(a>0):\n",
    "        rev = (rev*10) + (a%10)\n",
    "        a = a//10 \n",
    "    print(rev) \n",
    "\n",
    "my_rev(int(input(\"Enter number:\")))     "
   ]
  },
  {
   "cell_type": "code",
   "execution_count": 14,
   "id": "2ba04934",
   "metadata": {},
   "outputs": [],
   "source": [
    "a = 5"
   ]
  },
  {
   "cell_type": "code",
   "execution_count": 32,
   "id": "d4198c25",
   "metadata": {},
   "outputs": [
    {
     "name": "stdout",
     "output_type": "stream",
     "text": [
      "Sum of Even numbers =  12 Sum of odd numbers : 9\n"
     ]
    }
   ],
   "source": [
    "# Q.3 Write a program who\n",
    "i = 123456\n",
    "even = 0 \n",
    "odd = 0 \n",
    "while(i>0):\n",
    "    d = i%10 \n",
    "    \n",
    "    if(d%2==0):\n",
    "        even = even + d \n",
    "        \n",
    "    else:\n",
    "        odd = odd + d \n",
    "    i = i//10 \n",
    "print(\"Sum of Even numbers = \",even, \"Sum of odd numbers :\" , odd)"
   ]
  },
  {
   "cell_type": "code",
   "execution_count": 33,
   "id": "b6587c1e",
   "metadata": {},
   "outputs": [],
   "source": [
    "# # step-1 (i = 1234 , ev = 0 , od = 0)\n",
    "# while(1234>0):\n",
    "#     d = 1234%10 = 4 \n",
    "#     if(4%2==0):\n",
    "#         ev = 0 + 4 = 4 \n",
    "#     i = 1234//10 = 123 \n",
    "    \n",
    "# # step-2 (i = 123 , ev = 4 , od = 0)\n",
    "# while(123>0):\n",
    "#     d = 123%10 = 3\n",
    "#     if(3%2==0):\n",
    "#         return 0 \n",
    "#     else: \n",
    "#         od = 0 + 3 = 3 \n",
    "#     i = 123//10 = 12 \n",
    "    \n",
    "# # step-3 (i = 12 , ev = 4 , od = 3)\n",
    "# while(12>0):\n",
    "#     d = 12%10 = 2 \n",
    "#     if(2%2==0):\n",
    "#         return 4 + 2 = 6 \n",
    "#     i = 12//10 = 1 \n",
    "\n",
    "# # step-4 (i = 1 , ev = 6 , od = 3)\n",
    "# while(1>0):\n",
    "#     d = 1%10 = 1\n",
    "#     if(1%2==0):\n",
    "#         return 0\n",
    "#     else :\n",
    "#         return 3 + 1 = 4 \n",
    "    \n",
    "# # Final Output ---> even = 6 , odd = 4 "
   ]
  },
  {
   "cell_type": "code",
   "execution_count": 38,
   "id": "ee9d17fc",
   "metadata": {},
   "outputs": [
    {
     "name": "stdout",
     "output_type": "stream",
     "text": [
      "Sum of Even numbers =  6 Sum of odd numbers : 4\n"
     ]
    }
   ],
   "source": [
    "def checker():   ###Without Argumment and paramrters \n",
    "    i = 1234\n",
    "    even = 0 \n",
    "    odd = 0 \n",
    "    while(i>0):\n",
    "        d = i%10 \n",
    "    \n",
    "        if(d%2==0):\n",
    "            even = even + d \n",
    "        \n",
    "        else:\n",
    "            odd = odd + d \n",
    "        i = i//10 \n",
    "    print(\"Sum of Even numbers = \",even, \"Sum of odd numbers :\" , odd)\n",
    "        \n",
    "checker()"
   ]
  },
  {
   "cell_type": "code",
   "execution_count": 39,
   "id": "07874e4a",
   "metadata": {},
   "outputs": [
    {
     "name": "stdout",
     "output_type": "stream",
     "text": [
      "Sum of Even numbers =  6 Sum of odd numbers : 4\n"
     ]
    }
   ],
   "source": [
    "def checker(i):   ###With Argument And with Parameters \n",
    "    even = 0 \n",
    "    odd = 0 \n",
    "    while(i>0):\n",
    "        d = i%10 \n",
    "    \n",
    "        if(d%2==0):\n",
    "            even = even + d \n",
    "        \n",
    "        else:\n",
    "            odd = odd + d \n",
    "        i = i//10 \n",
    "    print(\"Sum of Even numbers = \",even, \"Sum of odd numbers :\" , odd)\n",
    "        \n",
    "checker(1234)"
   ]
  },
  {
   "cell_type": "code",
   "execution_count": 48,
   "id": "e554972b",
   "metadata": {},
   "outputs": [
    {
     "name": "stdout",
     "output_type": "stream",
     "text": [
      "6 4\n"
     ]
    }
   ],
   "source": [
    "a = 1234 \n",
    "b = str(a) \n",
    "ev = 0\n",
    "od = 0\n",
    "for i in range(len(b)):\n",
    "    c = int(b[i])\n",
    "    if(c%2==0):\n",
    "        ev = ev + c \n",
    "    else:\n",
    "        od = od + c \n",
    "print(ev,od) "
   ]
  },
  {
   "cell_type": "code",
   "execution_count": null,
   "id": "caa493d7",
   "metadata": {},
   "outputs": [],
   "source": []
  }
 ],
 "metadata": {
  "kernelspec": {
   "display_name": "Python 3 (ipykernel)",
   "language": "python",
   "name": "python3"
  },
  "language_info": {
   "codemirror_mode": {
    "name": "ipython",
    "version": 3
   },
   "file_extension": ".py",
   "mimetype": "text/x-python",
   "name": "python",
   "nbconvert_exporter": "python",
   "pygments_lexer": "ipython3",
   "version": "3.9.12"
  }
 },
 "nbformat": 4,
 "nbformat_minor": 5
}
