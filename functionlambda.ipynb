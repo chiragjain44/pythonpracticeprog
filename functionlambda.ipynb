{
 "cells": [
  {
   "cell_type": "code",
   "execution_count": 1,
   "id": "2a59b127-4a09-4b8e-b5d4-931d49bbf41f",
   "metadata": {},
   "outputs": [
    {
     "ename": "SyntaxError",
     "evalue": "expected ':' (1025314786.py, line 1)",
     "output_type": "error",
     "traceback": [
      "\u001b[1;36m  Cell \u001b[1;32mIn[1], line 1\u001b[1;36m\u001b[0m\n\u001b[1;33m    def add1()\u001b[0m\n\u001b[1;37m              ^\u001b[0m\n\u001b[1;31mSyntaxError\u001b[0m\u001b[1;31m:\u001b[0m expected ':'\n"
     ]
    }
   ],
   "source": [
    "def add1()"
   ]
  },
  {
   "cell_type": "code",
   "execution_count": 2,
   "id": "154097b3-e5ba-4d5b-8e54-d7c65cdde0e8",
   "metadata": {},
   "outputs": [],
   "source": [
    "def add1():\n",
    "    print(\"hello baby\")"
   ]
  },
  {
   "cell_type": "code",
   "execution_count": 3,
   "id": "777d050a-612c-47a4-9454-925a0962a3f0",
   "metadata": {},
   "outputs": [
    {
     "name": "stdout",
     "output_type": "stream",
     "text": [
      "hello baby\n"
     ]
    }
   ],
   "source": [
    "add1()"
   ]
  },
  {
   "cell_type": "code",
   "execution_count": 4,
   "id": "6d455b29-4a51-4179-8fdb-df1c2dbfe001",
   "metadata": {},
   "outputs": [],
   "source": [
    "def add2(x):\n",
    "    print(x+10)"
   ]
  },
  {
   "cell_type": "code",
   "execution_count": 5,
   "id": "ce27c943-de43-4107-9253-877e0cba5742",
   "metadata": {},
   "outputs": [
    {
     "name": "stdout",
     "output_type": "stream",
     "text": [
      "14\n"
     ]
    }
   ],
   "source": [
    "add2(4)"
   ]
  },
  {
   "cell_type": "code",
   "execution_count": 9,
   "id": "fdc05c0d-c172-445a-a544-c47d9feb82f2",
   "metadata": {},
   "outputs": [],
   "source": [
    "def odd_even(n):\n",
    "    if(n%2==0):\n",
    "        print(\"even\")\n",
    "    else:\n",
    "        print(\"odd\")"
   ]
  },
  {
   "cell_type": "code",
   "execution_count": 10,
   "id": "d7e23e84-e0e3-4cf8-ba20-500658d9de3c",
   "metadata": {},
   "outputs": [
    {
     "name": "stdout",
     "output_type": "stream",
     "text": [
      "even\n"
     ]
    }
   ],
   "source": [
    "odd_even(4)"
   ]
  },
  {
   "cell_type": "code",
   "execution_count": 11,
   "id": "f675c295-ca96-4b75-a2d1-717ffb810c6f",
   "metadata": {},
   "outputs": [
    {
     "name": "stdout",
     "output_type": "stream",
     "text": [
      "hello baby\n"
     ]
    },
    {
     "ename": "TypeError",
     "evalue": "'NoneType' object is not iterable",
     "output_type": "error",
     "traceback": [
      "\u001b[1;31m---------------------------------------------------------------------------\u001b[0m",
      "\u001b[1;31mTypeError\u001b[0m                                 Traceback (most recent call last)",
      "Cell \u001b[1;32mIn[11], line 1\u001b[0m\n\u001b[1;32m----> 1\u001b[0m \u001b[38;5;28;01mfor\u001b[39;00m i \u001b[38;5;129;01min\u001b[39;00m add1():\n\u001b[0;32m      2\u001b[0m     \u001b[38;5;28mprint\u001b[39m(\u001b[38;5;124m\"\u001b[39m\u001b[38;5;124mravuui\u001b[39m\u001b[38;5;124m\"\u001b[39m)\n",
      "\u001b[1;31mTypeError\u001b[0m: 'NoneType' object is not iterable"
     ]
    }
   ],
   "source": [
    "for i in add1():\n",
    "    print(\"ravuui\")"
   ]
  },
  {
   "cell_type": "code",
   "execution_count": 12,
   "id": "eb128172-7bca-47e2-8138-e9088a3ef355",
   "metadata": {},
   "outputs": [],
   "source": [
    "l5=['chirag','ravi',44]"
   ]
  },
  {
   "cell_type": "code",
   "execution_count": 13,
   "id": "e928bc6f-d707-456a-b541-3c2fa75a9e6f",
   "metadata": {},
   "outputs": [
    {
     "data": {
      "text/plain": [
       "['chirag', 'ravi', 44]"
      ]
     },
     "execution_count": 13,
     "metadata": {},
     "output_type": "execute_result"
    }
   ],
   "source": [
    "l5"
   ]
  },
  {
   "cell_type": "code",
   "execution_count": 14,
   "id": "85ecd8dd-ad82-4506-a9b2-4f6db741399e",
   "metadata": {},
   "outputs": [
    {
     "ename": "NameError",
     "evalue": "name 'ls' is not defined",
     "output_type": "error",
     "traceback": [
      "\u001b[1;31m---------------------------------------------------------------------------\u001b[0m",
      "\u001b[1;31mNameError\u001b[0m                                 Traceback (most recent call last)",
      "Cell \u001b[1;32mIn[14], line 1\u001b[0m\n\u001b[1;32m----> 1\u001b[0m \u001b[38;5;28;01mfor\u001b[39;00m i \u001b[38;5;129;01min\u001b[39;00m ls():\n\u001b[0;32m      2\u001b[0m     \u001b[38;5;28mprint\u001b[39m(\u001b[38;5;124m\"\u001b[39m\u001b[38;5;124mtodAY\u001b[39m\u001b[38;5;124m\"\u001b[39m)\n",
      "\u001b[1;31mNameError\u001b[0m: name 'ls' is not defined"
     ]
    }
   ],
   "source": [
    "for i in ls():\n",
    "    print(\"todAY\")"
   ]
  },
  {
   "cell_type": "code",
   "execution_count": 25,
   "id": "fc5a0873-7a76-4535-ac6d-0f1cb43ceb1d",
   "metadata": {},
   "outputs": [],
   "source": [
    "l1=[0,1,2,3,4,5,6,7,8]"
   ]
  },
  {
   "cell_type": "markdown",
   "id": "ec3f5c54-63d4-4569-9a17-e1db1af7a6e6",
   "metadata": {},
   "source": [
    "# "
   ]
  },
  {
   "cell_type": "code",
   "execution_count": 26,
   "id": "b41d2aa8-4a72-4fa3-805d-024e01b10b69",
   "metadata": {},
   "outputs": [],
   "source": [
    "final_list=list(filter(lambda x:(x<=0),l1))"
   ]
  },
  {
   "cell_type": "code",
   "execution_count": 27,
   "id": "e4222555-bff1-41ab-a2c5-a84e28a5f738",
   "metadata": {},
   "outputs": [
    {
     "data": {
      "text/plain": [
       "[0]"
      ]
     },
     "execution_count": 27,
     "metadata": {},
     "output_type": "execute_result"
    }
   ],
   "source": [
    "final_list"
   ]
  },
  {
   "cell_type": "code",
   "execution_count": 28,
   "id": "dc389d62-1b14-4331-be07-ec7250cf0b02",
   "metadata": {},
   "outputs": [],
   "source": [
    "new_list=list(map (lambda x:(x*2),l1))"
   ]
  },
  {
   "cell_type": "code",
   "execution_count": 29,
   "id": "9230817e-9672-42b5-9c9a-5b4c6ddf050e",
   "metadata": {},
   "outputs": [
    {
     "data": {
      "text/plain": [
       "[0, 2, 4, 6, 8, 10, 12, 14, 16]"
      ]
     },
     "execution_count": 29,
     "metadata": {},
     "output_type": "execute_result"
    }
   ],
   "source": [
    "new_list"
   ]
  },
  {
   "cell_type": "code",
   "execution_count": null,
   "id": "6e14ba14-bf9f-4375-837e-cc6b4ef323a4",
   "metadata": {},
   "outputs": [],
   "source": []
  }
 ],
 "metadata": {
  "kernelspec": {
   "display_name": "Python 3 (ipykernel)",
   "language": "python",
   "name": "python3"
  },
  "language_info": {
   "codemirror_mode": {
    "name": "ipython",
    "version": 3
   },
   "file_extension": ".py",
   "mimetype": "text/x-python",
   "name": "python",
   "nbconvert_exporter": "python",
   "pygments_lexer": "ipython3",
   "version": "3.12.7"
  }
 },
 "nbformat": 4,
 "nbformat_minor": 5
}
