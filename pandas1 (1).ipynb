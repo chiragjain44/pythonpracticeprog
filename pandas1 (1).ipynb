{
 "cells": [
  {
   "cell_type": "markdown",
   "id": "9004fff3-ded1-4770-93e6-d7f8cbe4e4aa",
   "metadata": {},
   "source": [
    "#pandas as an open source library which is used to handle data manuplation"
   ]
  },
  {
   "cell_type": "code",
   "execution_count": 1,
   "id": "31b04bed-ba7e-4854-9f1d-5ba1c3371db9",
   "metadata": {},
   "outputs": [
    {
     "name": "stdout",
     "output_type": "stream",
     "text": [
      "Collecting pandas\n",
      "  Downloading pandas-2.2.3-cp312-cp312-win_amd64.whl.metadata (19 kB)\n",
      "Requirement already satisfied: numpy>=1.26.0 in c:\\users\\lenovo\\anaconda3\\lib\\site-packages (from pandas) (2.2.3)\n",
      "Requirement already satisfied: python-dateutil>=2.8.2 in c:\\users\\lenovo\\anaconda3\\lib\\site-packages (from pandas) (2.9.0.post0)\n",
      "Requirement already satisfied: pytz>=2020.1 in c:\\users\\lenovo\\anaconda3\\lib\\site-packages (from pandas) (2024.1)\n",
      "Collecting tzdata>=2022.7 (from pandas)\n",
      "  Downloading tzdata-2025.1-py2.py3-none-any.whl.metadata (1.4 kB)\n",
      "Requirement already satisfied: six>=1.5 in c:\\users\\lenovo\\anaconda3\\lib\\site-packages (from python-dateutil>=2.8.2->pandas) (1.16.0)\n",
      "Downloading pandas-2.2.3-cp312-cp312-win_amd64.whl (11.5 MB)\n",
      "   ---------------------------------------- 0.0/11.5 MB ? eta -:--:--\n",
      "   ----------------- ---------------------- 5.0/11.5 MB 30.2 MB/s eta 0:00:01\n",
      "   --------------------------------- ------ 9.7/11.5 MB 24.1 MB/s eta 0:00:01\n",
      "   ---------------------------------------  11.3/11.5 MB 22.7 MB/s eta 0:00:01\n",
      "   ---------------------------------------- 11.5/11.5 MB 18.4 MB/s eta 0:00:00\n",
      "Downloading tzdata-2025.1-py2.py3-none-any.whl (346 kB)\n",
      "Installing collected packages: tzdata, pandas\n",
      "Successfully installed pandas-2.2.3 tzdata-2025.1\n"
     ]
    }
   ],
   "source": [
    "!pip install pandas"
   ]
  },
  {
   "cell_type": "code",
   "execution_count": 2,
   "id": "185d0870-0e9b-401f-97e1-49326676aa61",
   "metadata": {},
   "outputs": [],
   "source": [
    "#data structure of pandas\n",
    "# 1. Series (onedimensional array)\n",
    "# 2. DataFrame (multi dimentional array)\n"
   ]
  },
  {
   "cell_type": "markdown",
   "id": "03f1f0e1-98fb-40ca-92f2-b45355696e97",
   "metadata": {},
   "source": [
    "series"
   ]
  },
  {
   "cell_type": "code",
   "execution_count": 3,
   "id": "26f6c199-29a0-4bb6-aca6-3f21f34bc210",
   "metadata": {},
   "outputs": [],
   "source": [
    "import pandas as pd"
   ]
  },
  {
   "cell_type": "code",
   "execution_count": 4,
   "id": "e29ae758-13c8-4aba-a229-326fb75dd81f",
   "metadata": {},
   "outputs": [
    {
     "data": {
      "text/plain": [
       "0    1\n",
       "1    2\n",
       "2    3\n",
       "dtype: int64"
      ]
     },
     "execution_count": 4,
     "metadata": {},
     "output_type": "execute_result"
    }
   ],
   "source": [
    "a=pd.Series([1,2,3])\n",
    "a"
   ]
  },
  {
   "cell_type": "code",
   "execution_count": 5,
   "id": "c5f1011e-10d5-4ac2-85b0-32915357d5a1",
   "metadata": {},
   "outputs": [],
   "source": [
    "#dataframe"
   ]
  },
  {
   "cell_type": "code",
   "execution_count": 7,
   "id": "5f6b4a4e-6e93-4ac6-bdea-0360a1225944",
   "metadata": {},
   "outputs": [
    {
     "data": {
      "text/plain": [
       "dict"
      ]
     },
     "execution_count": 7,
     "metadata": {},
     "output_type": "execute_result"
    }
   ],
   "source": [
    "a={\n",
    "    \"empid\":[1,2,3],\n",
    "    \"empname\":[\"ravi\",\"devesh\",\"naina\"],\n",
    "    \"dept\":[\"hr\",\"it\",\"sales\"],\n",
    "    \"salary\":[10000,20000,30000]\n",
    "    \n",
    "}\n",
    "type(a)"
   ]
  },
  {
   "cell_type": "code",
   "execution_count": 8,
   "id": "cb10b781-17b0-4ba1-8c93-9f9a547f514b",
   "metadata": {},
   "outputs": [
    {
     "data": {
      "text/html": [
       "<div>\n",
       "<style scoped>\n",
       "    .dataframe tbody tr th:only-of-type {\n",
       "        vertical-align: middle;\n",
       "    }\n",
       "\n",
       "    .dataframe tbody tr th {\n",
       "        vertical-align: top;\n",
       "    }\n",
       "\n",
       "    .dataframe thead th {\n",
       "        text-align: right;\n",
       "    }\n",
       "</style>\n",
       "<table border=\"1\" class=\"dataframe\">\n",
       "  <thead>\n",
       "    <tr style=\"text-align: right;\">\n",
       "      <th></th>\n",
       "      <th>empid</th>\n",
       "      <th>empname</th>\n",
       "      <th>dept</th>\n",
       "      <th>salary</th>\n",
       "    </tr>\n",
       "  </thead>\n",
       "  <tbody>\n",
       "    <tr>\n",
       "      <th>0</th>\n",
       "      <td>1</td>\n",
       "      <td>ravi</td>\n",
       "      <td>hr</td>\n",
       "      <td>10000</td>\n",
       "    </tr>\n",
       "    <tr>\n",
       "      <th>1</th>\n",
       "      <td>2</td>\n",
       "      <td>devesh</td>\n",
       "      <td>it</td>\n",
       "      <td>20000</td>\n",
       "    </tr>\n",
       "    <tr>\n",
       "      <th>2</th>\n",
       "      <td>3</td>\n",
       "      <td>naina</td>\n",
       "      <td>sales</td>\n",
       "      <td>30000</td>\n",
       "    </tr>\n",
       "  </tbody>\n",
       "</table>\n",
       "</div>"
      ],
      "text/plain": [
       "   empid empname   dept  salary\n",
       "0      1    ravi     hr   10000\n",
       "1      2  devesh     it   20000\n",
       "2      3   naina  sales   30000"
      ]
     },
     "execution_count": 8,
     "metadata": {},
     "output_type": "execute_result"
    }
   ],
   "source": [
    "df=pd.DataFrame(a)\n",
    "df"
   ]
  },
  {
   "cell_type": "code",
   "execution_count": 9,
   "id": "255290eb-8339-4d21-a9b9-8f7d88fb2049",
   "metadata": {},
   "outputs": [
    {
     "data": {
      "text/plain": [
       "pandas.core.frame.DataFrame"
      ]
     },
     "execution_count": 9,
     "metadata": {},
     "output_type": "execute_result"
    }
   ],
   "source": [
    "type(df)"
   ]
  },
  {
   "cell_type": "code",
   "execution_count": 10,
   "id": "8ba7f509-8d3d-49a3-b0ff-361d5940a70c",
   "metadata": {},
   "outputs": [],
   "source": [
    "#export file in folder \n",
    "#syntax > df.to_csv(\"path//filename \")\n",
    "df.to_csv(\"D:\\\\pandas\\\\emp_info.csv\")"
   ]
  },
  {
   "cell_type": "code",
   "execution_count": 11,
   "id": "e3a3fd11-cb42-416d-a116-2a33f24711fa",
   "metadata": {},
   "outputs": [],
   "source": [
    "#import file from folder \n",
    "#open a folder in which yoy have datasets\n",
    "# copy the folder locatio/n\n",
    "# paste it into jupyter\n",
    "# df=pd.read_csv(\"pasterfolderlocation//filename.csv\")\n",
    "#method 1"
   ]
  },
  {
   "cell_type": "code",
   "execution_count": 20,
   "id": "e004bd9d-4801-425d-9c96-75e2869de070",
   "metadata": {},
   "outputs": [
    {
     "data": {
      "text/html": [
       "<div>\n",
       "<style scoped>\n",
       "    .dataframe tbody tr th:only-of-type {\n",
       "        vertical-align: middle;\n",
       "    }\n",
       "\n",
       "    .dataframe tbody tr th {\n",
       "        vertical-align: top;\n",
       "    }\n",
       "\n",
       "    .dataframe thead th {\n",
       "        text-align: right;\n",
       "    }\n",
       "</style>\n",
       "<table border=\"1\" class=\"dataframe\">\n",
       "  <thead>\n",
       "    <tr style=\"text-align: right;\">\n",
       "      <th></th>\n",
       "      <th>Unnamed: 0</th>\n",
       "      <th>empid</th>\n",
       "      <th>empname</th>\n",
       "      <th>dept</th>\n",
       "      <th>salary</th>\n",
       "    </tr>\n",
       "  </thead>\n",
       "  <tbody>\n",
       "    <tr>\n",
       "      <th>0</th>\n",
       "      <td>0</td>\n",
       "      <td>1</td>\n",
       "      <td>ravi</td>\n",
       "      <td>hr</td>\n",
       "      <td>10000</td>\n",
       "    </tr>\n",
       "    <tr>\n",
       "      <th>1</th>\n",
       "      <td>1</td>\n",
       "      <td>2</td>\n",
       "      <td>devesh</td>\n",
       "      <td>it</td>\n",
       "      <td>20000</td>\n",
       "    </tr>\n",
       "    <tr>\n",
       "      <th>2</th>\n",
       "      <td>2</td>\n",
       "      <td>3</td>\n",
       "      <td>naina</td>\n",
       "      <td>sales</td>\n",
       "      <td>30000</td>\n",
       "    </tr>\n",
       "  </tbody>\n",
       "</table>\n",
       "</div>"
      ],
      "text/plain": [
       "   Unnamed: 0  empid empname   dept  salary\n",
       "0           0      1    ravi     hr   10000\n",
       "1           1      2  devesh     it   20000\n",
       "2           2      3   naina  sales   30000"
      ]
     },
     "execution_count": 20,
     "metadata": {},
     "output_type": "execute_result"
    }
   ],
   "source": [
    "df=pd.read_csv(\"D:\\\\pandas\\\\emp_info.csv\")\n",
    "df#we also use df.head()"
   ]
  },
  {
   "cell_type": "code",
   "execution_count": 21,
   "id": "033a26e9-c0bf-4abb-93bc-fab7320c0fd4",
   "metadata": {},
   "outputs": [],
   "source": [
    "#method 2 to import file in jyputer\n",
    "#firtly going homepage in jupyter then upload file and open it \n",
    "#and then pd.read_csv(\"\")"
   ]
  },
  {
   "cell_type": "code",
   "execution_count": 23,
   "id": "3e66403b-1296-4e6f-b0c4-9f3a80bf9737",
   "metadata": {},
   "outputs": [
    {
     "data": {
      "text/html": [
       "<div>\n",
       "<style scoped>\n",
       "    .dataframe tbody tr th:only-of-type {\n",
       "        vertical-align: middle;\n",
       "    }\n",
       "\n",
       "    .dataframe tbody tr th {\n",
       "        vertical-align: top;\n",
       "    }\n",
       "\n",
       "    .dataframe thead th {\n",
       "        text-align: right;\n",
       "    }\n",
       "</style>\n",
       "<table border=\"1\" class=\"dataframe\">\n",
       "  <thead>\n",
       "    <tr style=\"text-align: right;\">\n",
       "      <th></th>\n",
       "      <th>Unnamed: 0</th>\n",
       "      <th>empid</th>\n",
       "      <th>empname</th>\n",
       "      <th>dept</th>\n",
       "      <th>salary</th>\n",
       "    </tr>\n",
       "  </thead>\n",
       "  <tbody>\n",
       "    <tr>\n",
       "      <th>0</th>\n",
       "      <td>0</td>\n",
       "      <td>1</td>\n",
       "      <td>ravi</td>\n",
       "      <td>hr</td>\n",
       "      <td>10000</td>\n",
       "    </tr>\n",
       "    <tr>\n",
       "      <th>1</th>\n",
       "      <td>1</td>\n",
       "      <td>2</td>\n",
       "      <td>devesh</td>\n",
       "      <td>it</td>\n",
       "      <td>20000</td>\n",
       "    </tr>\n",
       "    <tr>\n",
       "      <th>2</th>\n",
       "      <td>2</td>\n",
       "      <td>3</td>\n",
       "      <td>naina</td>\n",
       "      <td>sales</td>\n",
       "      <td>30000</td>\n",
       "    </tr>\n",
       "  </tbody>\n",
       "</table>\n",
       "</div>"
      ],
      "text/plain": [
       "   Unnamed: 0  empid empname   dept  salary\n",
       "0           0      1    ravi     hr   10000\n",
       "1           1      2  devesh     it   20000\n",
       "2           2      3   naina  sales   30000"
      ]
     },
     "execution_count": 23,
     "metadata": {},
     "output_type": "execute_result"
    }
   ],
   "source": [
    "df=pd.read_csv(\"emp_info.csv\")\n",
    "df"
   ]
  },
  {
   "cell_type": "code",
   "execution_count": 59,
   "id": "8d88e75f-67a7-43f2-8571-02f70fa7dac7",
   "metadata": {},
   "outputs": [],
   "source": [
    "import pandas as pd"
   ]
  },
  {
   "cell_type": "code",
   "execution_count": 60,
   "id": "341d3be1-7e62-4c5d-8217-6f0b711616cd",
   "metadata": {},
   "outputs": [
    {
     "name": "stdout",
     "output_type": "stream",
     "text": [
      "{'stu_id': [1, 2, 3, 4, 5, 6, 7, 8, 9, 10], 'stu_name': ['chirag', 'riya', 'nupur', 'diya', 'kashish', 'chelsi', 'arun', 'lalit', 'ashu', 'ananya'], 'semster': [1, 2, 3, 4, 5, 1, 2, 3, 4, 5], 'dept': ['it', 'cs', 'data', 'cs', 'networking', 'data', 'Networking', 'cs', 'it', 'cloud'], 'stu_city': ['kota', 'indergarh', 'jaipur', 'anta', 'ramganjmanedi', 'dudu', 'dausa', 'sawaimadhopur', 'neemuch', 'ajmer']}\n"
     ]
    }
   ],
   "source": [
    "studen={\n",
    "        \"stu_id\"  :[1,2,3,4,5,6,7,8,9,10],\n",
    "        \"stu_name\":[\"chirag\",\"riya\",\"nupur\",\"diya\",\"kashish\",\"chelsi\",\"arun\",\"lalit\",\"ashu\",\"ananya\"],\n",
    "        \"semster\" :[1,2,3,4,5,1,2,3,4,5],\n",
    "        \"dept\"    :[\"it\",\"cs\",\"data\",\"cs\",\"networking\",\"data\",\"Networking\",\"cs\",\"it\",\"cloud\"],\n",
    "        \"stu_city\":[\"kota\",\"indergarh\",\"jaipur\",\"anta\",\"ramganjmanedi\",\"dudu\",\"dausa\",\"sawaimadhopur\",\"neemuch\",\"ajmer\"]\n",
    "    \n",
    "}\n",
    "\n",
    "print(studen)"
   ]
  },
  {
   "cell_type": "code",
   "execution_count": 62,
   "id": "f7c638f7-045a-4491-82ec-0739d04b4bea",
   "metadata": {},
   "outputs": [],
   "source": [
    "sf=pd.DataFrame(studen)"
   ]
  },
  {
   "cell_type": "code",
   "execution_count": 63,
   "id": "dfc16460-0641-47ba-adad-56132b2f4ecd",
   "metadata": {},
   "outputs": [
    {
     "data": {
      "text/html": [
       "<div>\n",
       "<style scoped>\n",
       "    .dataframe tbody tr th:only-of-type {\n",
       "        vertical-align: middle;\n",
       "    }\n",
       "\n",
       "    .dataframe tbody tr th {\n",
       "        vertical-align: top;\n",
       "    }\n",
       "\n",
       "    .dataframe thead th {\n",
       "        text-align: right;\n",
       "    }\n",
       "</style>\n",
       "<table border=\"1\" class=\"dataframe\">\n",
       "  <thead>\n",
       "    <tr style=\"text-align: right;\">\n",
       "      <th></th>\n",
       "      <th>stu_id</th>\n",
       "      <th>stu_name</th>\n",
       "      <th>semster</th>\n",
       "      <th>dept</th>\n",
       "      <th>stu_city</th>\n",
       "    </tr>\n",
       "  </thead>\n",
       "  <tbody>\n",
       "    <tr>\n",
       "      <th>0</th>\n",
       "      <td>1</td>\n",
       "      <td>chirag</td>\n",
       "      <td>1</td>\n",
       "      <td>it</td>\n",
       "      <td>kota</td>\n",
       "    </tr>\n",
       "    <tr>\n",
       "      <th>1</th>\n",
       "      <td>2</td>\n",
       "      <td>riya</td>\n",
       "      <td>2</td>\n",
       "      <td>cs</td>\n",
       "      <td>indergarh</td>\n",
       "    </tr>\n",
       "    <tr>\n",
       "      <th>2</th>\n",
       "      <td>3</td>\n",
       "      <td>nupur</td>\n",
       "      <td>3</td>\n",
       "      <td>data</td>\n",
       "      <td>jaipur</td>\n",
       "    </tr>\n",
       "    <tr>\n",
       "      <th>3</th>\n",
       "      <td>4</td>\n",
       "      <td>diya</td>\n",
       "      <td>4</td>\n",
       "      <td>cs</td>\n",
       "      <td>anta</td>\n",
       "    </tr>\n",
       "    <tr>\n",
       "      <th>4</th>\n",
       "      <td>5</td>\n",
       "      <td>kashish</td>\n",
       "      <td>5</td>\n",
       "      <td>networking</td>\n",
       "      <td>ramganjmanedi</td>\n",
       "    </tr>\n",
       "    <tr>\n",
       "      <th>5</th>\n",
       "      <td>6</td>\n",
       "      <td>chelsi</td>\n",
       "      <td>1</td>\n",
       "      <td>data</td>\n",
       "      <td>dudu</td>\n",
       "    </tr>\n",
       "    <tr>\n",
       "      <th>6</th>\n",
       "      <td>7</td>\n",
       "      <td>arun</td>\n",
       "      <td>2</td>\n",
       "      <td>Networking</td>\n",
       "      <td>dausa</td>\n",
       "    </tr>\n",
       "    <tr>\n",
       "      <th>7</th>\n",
       "      <td>8</td>\n",
       "      <td>lalit</td>\n",
       "      <td>3</td>\n",
       "      <td>cs</td>\n",
       "      <td>sawaimadhopur</td>\n",
       "    </tr>\n",
       "    <tr>\n",
       "      <th>8</th>\n",
       "      <td>9</td>\n",
       "      <td>ashu</td>\n",
       "      <td>4</td>\n",
       "      <td>it</td>\n",
       "      <td>neemuch</td>\n",
       "    </tr>\n",
       "    <tr>\n",
       "      <th>9</th>\n",
       "      <td>10</td>\n",
       "      <td>ananya</td>\n",
       "      <td>5</td>\n",
       "      <td>cloud</td>\n",
       "      <td>ajmer</td>\n",
       "    </tr>\n",
       "  </tbody>\n",
       "</table>\n",
       "</div>"
      ],
      "text/plain": [
       "   stu_id stu_name  semster        dept       stu_city\n",
       "0       1   chirag        1          it           kota\n",
       "1       2     riya        2          cs      indergarh\n",
       "2       3    nupur        3        data         jaipur\n",
       "3       4     diya        4          cs           anta\n",
       "4       5  kashish        5  networking  ramganjmanedi\n",
       "5       6   chelsi        1        data           dudu\n",
       "6       7     arun        2  Networking          dausa\n",
       "7       8    lalit        3          cs  sawaimadhopur\n",
       "8       9     ashu        4          it        neemuch\n",
       "9      10   ananya        5       cloud          ajmer"
      ]
     },
     "execution_count": 63,
     "metadata": {},
     "output_type": "execute_result"
    }
   ],
   "source": [
    "sf"
   ]
  },
  {
   "cell_type": "code",
   "execution_count": 64,
   "id": "e2bf707f-6c37-4317-a09d-6d79eaf8d202",
   "metadata": {},
   "outputs": [],
   "source": [
    "sf.to_csv(\"D://pandas//nupu.csv\")"
   ]
  },
  {
   "cell_type": "code",
   "execution_count": 65,
   "id": "f137fe85-faab-47f0-bc43-37e9fd744562",
   "metadata": {},
   "outputs": [
    {
     "data": {
      "text/html": [
       "<div>\n",
       "<style scoped>\n",
       "    .dataframe tbody tr th:only-of-type {\n",
       "        vertical-align: middle;\n",
       "    }\n",
       "\n",
       "    .dataframe tbody tr th {\n",
       "        vertical-align: top;\n",
       "    }\n",
       "\n",
       "    .dataframe thead th {\n",
       "        text-align: right;\n",
       "    }\n",
       "</style>\n",
       "<table border=\"1\" class=\"dataframe\">\n",
       "  <thead>\n",
       "    <tr style=\"text-align: right;\">\n",
       "      <th></th>\n",
       "      <th>stu_id</th>\n",
       "      <th>stu_name</th>\n",
       "      <th>semster</th>\n",
       "      <th>dept</th>\n",
       "      <th>stu_city</th>\n",
       "    </tr>\n",
       "  </thead>\n",
       "  <tbody>\n",
       "    <tr>\n",
       "      <th>0</th>\n",
       "      <td>1</td>\n",
       "      <td>chirag</td>\n",
       "      <td>1</td>\n",
       "      <td>it</td>\n",
       "      <td>kota</td>\n",
       "    </tr>\n",
       "    <tr>\n",
       "      <th>1</th>\n",
       "      <td>2</td>\n",
       "      <td>riya</td>\n",
       "      <td>2</td>\n",
       "      <td>cs</td>\n",
       "      <td>indergarh</td>\n",
       "    </tr>\n",
       "    <tr>\n",
       "      <th>2</th>\n",
       "      <td>3</td>\n",
       "      <td>nupur</td>\n",
       "      <td>3</td>\n",
       "      <td>data</td>\n",
       "      <td>jaipur</td>\n",
       "    </tr>\n",
       "    <tr>\n",
       "      <th>3</th>\n",
       "      <td>4</td>\n",
       "      <td>diya</td>\n",
       "      <td>4</td>\n",
       "      <td>cs</td>\n",
       "      <td>anta</td>\n",
       "    </tr>\n",
       "    <tr>\n",
       "      <th>4</th>\n",
       "      <td>5</td>\n",
       "      <td>kashish</td>\n",
       "      <td>5</td>\n",
       "      <td>networking</td>\n",
       "      <td>ramganjmanedi</td>\n",
       "    </tr>\n",
       "    <tr>\n",
       "      <th>5</th>\n",
       "      <td>6</td>\n",
       "      <td>chelsi</td>\n",
       "      <td>1</td>\n",
       "      <td>data</td>\n",
       "      <td>dudu</td>\n",
       "    </tr>\n",
       "    <tr>\n",
       "      <th>6</th>\n",
       "      <td>7</td>\n",
       "      <td>arun</td>\n",
       "      <td>2</td>\n",
       "      <td>Networking</td>\n",
       "      <td>dausa</td>\n",
       "    </tr>\n",
       "    <tr>\n",
       "      <th>7</th>\n",
       "      <td>8</td>\n",
       "      <td>lalit</td>\n",
       "      <td>3</td>\n",
       "      <td>cs</td>\n",
       "      <td>sawaimadhopur</td>\n",
       "    </tr>\n",
       "    <tr>\n",
       "      <th>8</th>\n",
       "      <td>9</td>\n",
       "      <td>ashu</td>\n",
       "      <td>4</td>\n",
       "      <td>it</td>\n",
       "      <td>neemuch</td>\n",
       "    </tr>\n",
       "    <tr>\n",
       "      <th>9</th>\n",
       "      <td>10</td>\n",
       "      <td>ananya</td>\n",
       "      <td>5</td>\n",
       "      <td>cloud</td>\n",
       "      <td>ajmer</td>\n",
       "    </tr>\n",
       "  </tbody>\n",
       "</table>\n",
       "</div>"
      ],
      "text/plain": [
       "   stu_id stu_name  semster        dept       stu_city\n",
       "0       1   chirag        1          it           kota\n",
       "1       2     riya        2          cs      indergarh\n",
       "2       3    nupur        3        data         jaipur\n",
       "3       4     diya        4          cs           anta\n",
       "4       5  kashish        5  networking  ramganjmanedi\n",
       "5       6   chelsi        1        data           dudu\n",
       "6       7     arun        2  Networking          dausa\n",
       "7       8    lalit        3          cs  sawaimadhopur\n",
       "8       9     ashu        4          it        neemuch\n",
       "9      10   ananya        5       cloud          ajmer"
      ]
     },
     "execution_count": 65,
     "metadata": {},
     "output_type": "execute_result"
    }
   ],
   "source": [
    "sf"
   ]
  },
  {
   "cell_type": "code",
   "execution_count": null,
   "id": "9ecf522c-dfda-46ac-81e4-6cb9c6fbbe6c",
   "metadata": {},
   "outputs": [],
   "source": []
  },
  {
   "cell_type": "code",
   "execution_count": null,
   "id": "4d3db5e5-9c6b-4b17-bd6c-09298e2bab56",
   "metadata": {},
   "outputs": [],
   "source": []
  }
 ],
 "metadata": {
  "kernelspec": {
   "display_name": "Python 3 (ipykernel)",
   "language": "python",
   "name": "python3"
  },
  "language_info": {
   "codemirror_mode": {
    "name": "ipython",
    "version": 3
   },
   "file_extension": ".py",
   "mimetype": "text/x-python",
   "name": "python",
   "nbconvert_exporter": "python",
   "pygments_lexer": "ipython3",
   "version": "3.12.7"
  }
 },
 "nbformat": 4,
 "nbformat_minor": 5
}
