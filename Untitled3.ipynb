{
  "nbformat": 4,
  "nbformat_minor": 0,
  "metadata": {
    "colab": {
      "provenance": []
    },
    "kernelspec": {
      "name": "python3",
      "display_name": "Python 3"
    },
    "language_info": {
      "name": "python"
    }
  },
  "cells": [
    {
      "cell_type": "code",
      "execution_count": null,
      "metadata": {
        "id": "vAMQR-na4N0m"
      },
      "outputs": [],
      "source": [
        "#1que\n"
      ]
    },
    {
      "cell_type": "code",
      "source": [
        "price=int(input(\"enter price\"))\n",
        "if(price>50):\n",
        "  cart=int(input(\"how many peices you want\"))\n",
        "  a=cart*price\n",
        "  if(cart>3):\n",
        "    print(f\"additional dis{a} is {a-(a*0.05)}\")\n",
        "else:\n",
        "  print(\"enter price greater than 50\")"
      ],
      "metadata": {
        "colab": {
          "base_uri": "https://localhost:8080/"
        },
        "id": "p4byW88F4PSv",
        "outputId": "d7e22151-2eaf-4e30-9ceb-ca47902035e2"
      },
      "execution_count": null,
      "outputs": [
        {
          "output_type": "stream",
          "name": "stdout",
          "text": [
            "enter price100\n",
            "how many peices you want4\n",
            "additional dis400 is 380.0\n"
          ]
        }
      ]
    },
    {
      "cell_type": "code",
      "source": [
        "#2nd"
      ],
      "metadata": {
        "id": "0dyFHxmO49KZ"
      },
      "execution_count": null,
      "outputs": []
    },
    {
      "cell_type": "code",
      "source": [
        "car=input(\"enter type of car\")\n",
        "if(car=='economic'):\n",
        "  day=int(input(\"enter days\"))\n",
        "  price=40\n",
        "  if(day>7):\n",
        "    tc=(price-10)*day\n",
        "    print(tc)\n",
        "  else:\n",
        "    tc=price*day\n",
        "    print(tc)\n",
        "\n",
        "if(car=='luxury'):\n",
        "  day=int(input(\"enter days\"))\n",
        "  price=70\n",
        "  if(day>7):\n",
        "    tc=(price-15)*day\n",
        "    print(tc)\n",
        "  else:\n",
        "    tc=price*day\n",
        "    print(tc)"
      ],
      "metadata": {
        "colab": {
          "base_uri": "https://localhost:8080/"
        },
        "id": "YnjU4xgz6HZ8",
        "outputId": "625b45d8-991d-4daa-ae56-2a3037281a5d"
      },
      "execution_count": null,
      "outputs": [
        {
          "output_type": "stream",
          "name": "stdout",
          "text": [
            "enter type of carluxury\n",
            "enter days8\n",
            "440\n"
          ]
        }
      ]
    },
    {
      "cell_type": "code",
      "source": [
        "#3rs"
      ],
      "metadata": {
        "id": "7yF8XPVJ85XJ"
      },
      "execution_count": null,
      "outputs": []
    },
    {
      "cell_type": "code",
      "source": [
        "salary=int(input(\"enter salry\"))\n",
        "if(salary>=3000):\n",
        "  cs=int(input(\"enter credit score\"))\n",
        "  if(cs>=700):\n",
        "    print(\"loan is approved\")\n",
        "elif(2500<=salary<3000):\n",
        "  consginer=int(input(\"enter verification code to approve to salary\"))\n",
        "  if(consginer==5644):\n",
        "    print(\"loan is approved\")\n",
        "  else:\n",
        "      print(\"not aprooved\")"
      ],
      "metadata": {
        "colab": {
          "base_uri": "https://localhost:8080/"
        },
        "id": "SNvRiqDD-TU2",
        "outputId": "6c48e2c6-a9b4-4385-e5b6-db91abc60fb7"
      },
      "execution_count": null,
      "outputs": [
        {
          "output_type": "stream",
          "name": "stdout",
          "text": [
            "enter salry2566\n",
            "enter verification code to approve to salary5644\n",
            "loan is approved\n"
          ]
        }
      ]
    },
    {
      "cell_type": "code",
      "source": [
        "#4ques"
      ],
      "metadata": {
        "id": "eFXhPy14_OlX"
      },
      "execution_count": null,
      "outputs": []
    },
    {
      "cell_type": "code",
      "source": [
        "premium = 500\n",
        "\n",
        "\n",
        "smokes = input(\"Do you smoke (yes/no): \")\n",
        "age = int(input(\"Enter your age \"))\n",
        "pre_existing_condition = input(\"Do you have a pre-existing medical condition (yes/no): \")\n",
        "\n",
        "\n",
        "if (smokes == \"yes\"):\n",
        "    premium += 200\n",
        "\n",
        "if (age > 60):\n",
        "    premium += 150\n",
        "\n",
        "if (pre_existing_condition == \"yes\"):\n",
        "    premium += 300\n",
        "\n",
        "# Display the total premium\n",
        "print(\"Your total premium is $\", premium)"
      ],
      "metadata": {
        "colab": {
          "base_uri": "https://localhost:8080/"
        },
        "id": "D7nC4Mm9_W0z",
        "outputId": "b9703ee0-0feb-473c-a26d-c1cbaebf2ed8"
      },
      "execution_count": null,
      "outputs": [
        {
          "output_type": "stream",
          "name": "stdout",
          "text": [
            "Do you smoke (yes/no): y\n",
            "Enter your age 67\n",
            "Do you have a pre-existing medical condition (yes/no): y\n",
            "Your total premium is $ 650\n"
          ]
        }
      ]
    },
    {
      "cell_type": "code",
      "source": [
        "#5qu"
      ],
      "metadata": {
        "id": "o8gGDKrnA4Jh"
      },
      "execution_count": null,
      "outputs": []
    },
    {
      "cell_type": "code",
      "source": [
        "mealtime=int(input(\"enter time\"))\n",
        "price=int(input(\"enter price\"))\n",
        "if(6<=mealtime<11):\n",
        "  print(f\"disc {price}is {price-(price*0.2)}\")\n",
        "elif(11<=mealtime<16):\n",
        "  print(f\"{price}without discount\")\n",
        "elif(16<=mealtime<22):\n",
        "  print(f\"dis on {price}is {price-(price*0.1)}\")\n",
        "elif(22<=mealtime<6):\n",
        "  print(f\"surcharge on{price}is {price+(price*1.0)}\")\n"
      ],
      "metadata": {
        "colab": {
          "base_uri": "https://localhost:8080/"
        },
        "id": "2xe9vWrGC7Ya",
        "outputId": "8def9d96-db6d-4e4b-eab2-10040f01fd7c"
      },
      "execution_count": null,
      "outputs": [
        {
          "output_type": "stream",
          "name": "stdout",
          "text": [
            "enter time17\n",
            "enter price1000\n",
            "dis on 1000is 900.0\n"
          ]
        }
      ]
    },
    {
      "cell_type": "code",
      "source": [
        "#6thqu\n",
        "sat=int(input(\"enter sat score\"))\n",
        "act=int(input(\"enter act score\"))\n",
        "if(sat>1200 or act>28):\n",
        "  gpa=float(input(\"enter gpa\"))\n",
        "  if(gpa>=3.5):\n",
        "    print(\"admission granted\")\n",
        "\n",
        "\n",
        "elif():\n",
        "   com_ser=int(input(\"enter hours\"))\n",
        "   gpa=float(input(\"enter\"))\n",
        "   if(com_ser>100,gpa<3.5):\n",
        "    print(\"admission granted beacause of special consideration\")\n",
        "\n",
        "\n"
      ],
      "metadata": {
        "colab": {
          "base_uri": "https://localhost:8080/"
        },
        "id": "274ZlLNaEXKh",
        "outputId": "a48dc064-eca9-4bac-82c8-261f5609ac83"
      },
      "execution_count": null,
      "outputs": [
        {
          "name": "stdout",
          "output_type": "stream",
          "text": [
            "enter sat score1111\n",
            "enter act score11\n",
            "enter gpa3.1\n"
          ]
        }
      ]
    },
    {
      "cell_type": "code",
      "source": [
        "#7th"
      ],
      "metadata": {
        "id": "ZQEqA44wHxqG"
      },
      "execution_count": null,
      "outputs": []
    },
    {
      "cell_type": "code",
      "source": [
        "n=int(input(\"enter your MPG:\"))\n",
        "n2=int(input(\"enter your price :\"))\n",
        "\n",
        "if(n>30):\n",
        "  print(f\"your price is:{n2-500}\")\n",
        "elif(n==30):\n",
        "  print(f\"your price is:{n2-1000}\")\n",
        "elif(20<n<30):\n",
        "  print(f\"your price is:{n2}\")\n",
        "elif(20<n):\n",
        "  print(f\"your price is:{n2+300}\")"
      ],
      "metadata": {
        "colab": {
          "base_uri": "https://localhost:8080/"
        },
        "id": "ZIpXsLZRKkhB",
        "outputId": "cb817ca4-d68e-4364-8f26-4f8ebb4309f4"
      },
      "execution_count": null,
      "outputs": [
        {
          "output_type": "stream",
          "name": "stdout",
          "text": [
            "enter your MPG:40\n",
            "enter your price :1000\n",
            "your price is:500\n"
          ]
        }
      ]
    },
    {
      "cell_type": "code",
      "source": [
        "#8"
      ],
      "metadata": {
        "id": "enlafEYkM-K8"
      },
      "execution_count": null,
      "outputs": []
    },
    {
      "cell_type": "code",
      "source": [
        "n=int(input(\"enter your rating:\"))\n",
        "n2=int(input(\"enter your salary :\"))\n",
        "year=int(input(\"enter experience\"))\n",
        "if(n>=4.5):\n",
        "  print(f\"your annual salary is :{n2+(n2*0.2)}\")\n",
        "elif(3<=n<4.4):\n",
        "  print(f\"your annual salary is :{n2+(n2*0.1)}\")\n",
        "elif(n<3):\n",
        "  print(\"no bonus\")\n",
        "if(year>5):\n",
        "  print(f\"{n2+(n2*0.05)}\")"
      ],
      "metadata": {
        "colab": {
          "base_uri": "https://localhost:8080/"
        },
        "id": "x22gYkdmNDfP",
        "outputId": "c9587b50-c67e-4b09-ae87-3a1d26c43211"
      },
      "execution_count": 3,
      "outputs": [
        {
          "output_type": "stream",
          "name": "stdout",
          "text": [
            "enter your rating:2\n",
            "enter your salary :1000\n",
            "enter experience6\n",
            "no bonus\n",
            "1050.0\n"
          ]
        }
      ]
    },
    {
      "cell_type": "code",
      "source": [
        "#9"
      ],
      "metadata": {
        "id": "Tp1L1WUaNGte"
      },
      "execution_count": 2,
      "outputs": []
    },
    {
      "cell_type": "code",
      "source": [
        "\n",
        "n=int(input(\"enter your steps:\"))\n",
        "if(n==100):\n",
        "  print(\"you earn 100 points\")\n",
        "elif(80<=n<=99):\n",
        "  print(\"you earn 50 points\")\n",
        "elif(20<n<80):\n",
        "  print(\"no points\")\n",
        "elif(20>=n):\n",
        "  print(\"you earn 150 points\")"
      ],
      "metadata": {
        "colab": {
          "base_uri": "https://localhost:8080/"
        },
        "id": "gaRAlPu8NODJ",
        "outputId": "bb97df03-2467-4d39-a3c6-5333bad62bc5"
      },
      "execution_count": null,
      "outputs": [
        {
          "output_type": "stream",
          "name": "stdout",
          "text": [
            "enter your steps:55\n",
            "no points\n"
          ]
        }
      ]
    },
    {
      "cell_type": "code",
      "source": [
        "#10"
      ],
      "metadata": {
        "id": "XINJSntpNSyl"
      },
      "execution_count": null,
      "outputs": []
    },
    {
      "cell_type": "code",
      "source": [
        "aqi=int(input(\"enter aqi\"))\n",
        "if(aqi<50):\n",
        "  print(\"ggod\")\n",
        "elif(50<=aqi<100):\n",
        "  print(\"moderate\")\n",
        "elif(100<=aqi<150):\n",
        "  print(\"unhealthy\")\n",
        "else:\n",
        "  print(\"unhealthy for alll\")"
      ],
      "metadata": {
        "colab": {
          "base_uri": "https://localhost:8080/"
        },
        "id": "n22tStR5NaC2",
        "outputId": "bc6cdbf7-9f37-4eed-c6d8-ec6e71bcb373"
      },
      "execution_count": null,
      "outputs": [
        {
          "output_type": "stream",
          "name": "stdout",
          "text": [
            "enter aqi100\n",
            "unhealthy\n"
          ]
        }
      ]
    },
    {
      "cell_type": "code",
      "source": [
        "# Ask for the student's SAT/ACT score, GPA, community service hours, and athletic status\n",
        "sat_score = int(input(\"Enter your SAT score: \"))\n",
        "act_score = int(input(\"Enter your ACT score: \"))\n",
        "gpa = float(input(\"Enter your GPA: \"))\n",
        "community_service_hours = int(input(\"Enter your community service hours: \"))\n",
        "athletic_status = input(\"Are you an athlete? (yes/no): \").strip().lower()\n",
        "\n",
        "# Determine if the student gets special consideration\n",
        "special_consideration = (athletic_status == \"yes\" or community_service_hours > 100)\n",
        "\n",
        "# Determine if the student is admitted\n",
        "if (sat_score >= 1200 or act_score >= 28) and gpa >= 3.5:\n",
        "    print(\"You are admitted.\")\n",
        "elif special_consideration and gpa >= 3.0:\n",
        "    print(\"You are admitted with special consideration.\")\n",
        "else:\n",
        "    print(\"You are not admitted.\")"
      ],
      "metadata": {
        "id": "mfmr9YpPNelu"
      },
      "execution_count": null,
      "outputs": []
    },
    {
      "cell_type": "code",
      "source": [],
      "metadata": {
        "id": "0OL0VNT-ltUU"
      },
      "execution_count": null,
      "outputs": []
    }
  ]
}