{
  "nbformat": 4,
  "nbformat_minor": 0,
  "metadata": {
    "colab": {
      "provenance": []
    },
    "kernelspec": {
      "name": "python3",
      "display_name": "Python 3"
    },
    "language_info": {
      "name": "python"
    }
  },
  "cells": [
    {
      "cell_type": "code",
      "execution_count": null,
      "metadata": {
        "id": "AVPyo2xedJQH"
      },
      "outputs": [],
      "source": [
        "#lists is a datatype\n"
      ]
    },
    {
      "cell_type": "code",
      "source": [
        "a=[\"chirag\",\"jain\",66,33]\n",
        "print(a)\n",
        "print(a[2])"
      ],
      "metadata": {
        "colab": {
          "base_uri": "https://localhost:8080/"
        },
        "id": "hdm71anqdNTO",
        "outputId": "ad308b80-bd79-4d93-fc33-8bf36b6ff6c1"
      },
      "execution_count": null,
      "outputs": [
        {
          "output_type": "stream",
          "name": "stdout",
          "text": [
            "['chirag', 'jain', 66, 33]\n",
            "66\n"
          ]
        }
      ]
    },
    {
      "cell_type": "code",
      "source": [
        "#len function\n",
        "len(a)"
      ],
      "metadata": {
        "colab": {
          "base_uri": "https://localhost:8080/"
        },
        "id": "sacFHyj-dSBT",
        "outputId": "40f6ecc6-ea70-4dc2-fea9-5452372ec02e"
      },
      "execution_count": null,
      "outputs": [
        {
          "output_type": "execute_result",
          "data": {
            "text/plain": [
              "4"
            ]
          },
          "metadata": {},
          "execution_count": 4
        }
      ]
    },
    {
      "cell_type": "code",
      "source": [
        "#index function\n",
        "a.index(\"chirag\")"
      ],
      "metadata": {
        "colab": {
          "base_uri": "https://localhost:8080/"
        },
        "id": "Y-7ClB07dYwe",
        "outputId": "ad4819af-67b7-4097-950e-fa7e09b887dc"
      },
      "execution_count": null,
      "outputs": [
        {
          "output_type": "execute_result",
          "data": {
            "text/plain": [
              "0"
            ]
          },
          "metadata": {},
          "execution_count": 5
        }
      ]
    },
    {
      "cell_type": "code",
      "source": [
        "a=[\"chirag\",\"aakash\",88,\"ravi\",44]\n",
        "for i in range(len(a)):\n",
        "  print(a[i])"
      ],
      "metadata": {
        "colab": {
          "base_uri": "https://localhost:8080/"
        },
        "id": "3TrISRH4dc-U",
        "outputId": "a3425bbd-89d0-4d53-dd25-912b9e765ad5"
      },
      "execution_count": null,
      "outputs": [
        {
          "output_type": "stream",
          "name": "stdout",
          "text": [
            "chirag\n",
            "aakash\n",
            "88\n",
            "ravi\n",
            "44\n"
          ]
        }
      ]
    },
    {
      "cell_type": "code",
      "source": [
        "c=[\"nupur\",\"riya\",\"diya\",23,43]\n",
        "c[2]=\"sakshi\" #change the value in ;lsit\n",
        "print(c)"
      ],
      "metadata": {
        "colab": {
          "base_uri": "https://localhost:8080/"
        },
        "id": "J0RnIsMpdqHy",
        "outputId": "c258cb8a-0fbe-428c-874a-a26ee7cc77ec"
      },
      "execution_count": null,
      "outputs": [
        {
          "output_type": "stream",
          "name": "stdout",
          "text": [
            "['nupur', 'riya', 'sakshi', 23, 43]\n"
          ]
        }
      ]
    },
    {
      "cell_type": "code",
      "source": [
        "#loop in list\n",
        "for i in c:\n",
        "  print(i)"
      ],
      "metadata": {
        "colab": {
          "base_uri": "https://localhost:8080/"
        },
        "id": "RcYv_hywdwXu",
        "outputId": "ef1f678c-a2fc-4008-a1f2-00dabdaf6e1e"
      },
      "execution_count": null,
      "outputs": [
        {
          "output_type": "stream",
          "name": "stdout",
          "text": [
            "nupur\n",
            "riya\n",
            "sakshi\n",
            "23\n",
            "43\n"
          ]
        }
      ]
    },
    {
      "cell_type": "code",
      "source": [
        "#pop function to rempove last value of list\n",
        "c=[\"chirag\",\"nupur\",\"nirvan\",56,76]\n",
        "c.pop()\n",
        "print(c)"
      ],
      "metadata": {
        "colab": {
          "base_uri": "https://localhost:8080/"
        },
        "id": "XEGipaEaeMYy",
        "outputId": "cf0d6788-beb2-4ddf-e6eb-61810c021378"
      },
      "execution_count": null,
      "outputs": [
        {
          "output_type": "stream",
          "name": "stdout",
          "text": [
            "['chirag', 'nupur', 'nirvan', 56]\n"
          ]
        }
      ]
    },
    {
      "cell_type": "code",
      "source": [
        "#min\n",
        "a=[1,2,3]\n",
        "min(a)"
      ],
      "metadata": {
        "colab": {
          "base_uri": "https://localhost:8080/"
        },
        "id": "PD7sXLr1eZ44",
        "outputId": "b8a6e38e-5896-4032-e0a3-b7333388d758"
      },
      "execution_count": null,
      "outputs": [
        {
          "output_type": "execute_result",
          "data": {
            "text/plain": [
              "1"
            ]
          },
          "metadata": {},
          "execution_count": 23
        }
      ]
    },
    {
      "cell_type": "code",
      "source": [
        "#max\n",
        "max(a)"
      ],
      "metadata": {
        "colab": {
          "base_uri": "https://localhost:8080/"
        },
        "id": "P0fb4UoRetNq",
        "outputId": "36bbe3d7-808c-40fc-e892-cc0db33ca713"
      },
      "execution_count": null,
      "outputs": [
        {
          "output_type": "execute_result",
          "data": {
            "text/plain": [
              "3"
            ]
          },
          "metadata": {},
          "execution_count": 24
        }
      ]
    },
    {
      "cell_type": "code",
      "source": [
        "#append to add element in list\n",
        "a=[\"aakaash\",\"riya\"]\n",
        "a.append(44)\n",
        "print(a)"
      ],
      "metadata": {
        "colab": {
          "base_uri": "https://localhost:8080/"
        },
        "id": "3FIj-_MVfIqj",
        "outputId": "52becba5-9251-4b91-c068-ec4391dc570d"
      },
      "execution_count": null,
      "outputs": [
        {
          "output_type": "stream",
          "name": "stdout",
          "text": [
            "['aakaash', 'riya', 44]\n"
          ]
        }
      ]
    },
    {
      "cell_type": "code",
      "source": [
        "#insert(index,value) add value in specified index by user\n",
        "a=[\"chirag\",\"rrrr\",66]\n",
        "a.insert(1,55)\n",
        "print(a)"
      ],
      "metadata": {
        "colab": {
          "base_uri": "https://localhost:8080/"
        },
        "id": "WXzaaR8gfWwo",
        "outputId": "8590eb41-359d-4bfc-9945-f61ddf0c2754"
      },
      "execution_count": null,
      "outputs": [
        {
          "output_type": "stream",
          "name": "stdout",
          "text": [
            "['chirag', 55, 'rrrr', 66]\n"
          ]
        }
      ]
    },
    {
      "cell_type": "code",
      "source": [
        "#remove() remove value in list\n",
        "a=[\"chirag\",66,665]\n",
        "a.remove(66)\n",
        "print(a)"
      ],
      "metadata": {
        "colab": {
          "base_uri": "https://localhost:8080/"
        },
        "id": "s3Ts_NMyfqHb",
        "outputId": "9fb3bde2-7d5f-4ab2-a3b9-81ff5f778b25"
      },
      "execution_count": null,
      "outputs": [
        {
          "output_type": "stream",
          "name": "stdout",
          "text": [
            "['chirag', 665]\n"
          ]
        }
      ]
    },
    {
      "cell_type": "code",
      "source": [
        "#count count frequency of value\n",
        "a=[1,2,3,4,3,2,13,21,1,1,1,2,2]\n",
        "a.count(2)"
      ],
      "metadata": {
        "colab": {
          "base_uri": "https://localhost:8080/"
        },
        "id": "QDpkmRZggh-x",
        "outputId": "130db7f3-a5ef-4f1d-dc09-9a6f36502d98"
      },
      "execution_count": null,
      "outputs": [
        {
          "output_type": "execute_result",
          "data": {
            "text/plain": [
              "4"
            ]
          },
          "metadata": {},
          "execution_count": 33
        }
      ]
    },
    {
      "cell_type": "code",
      "source": [
        "#properti of list"
      ],
      "metadata": {
        "id": "9XeO6EiRheCs"
      },
      "execution_count": null,
      "outputs": []
    },
    {
      "cell_type": "code",
      "source": [
        "#concatenation\n",
        "a=[2,2,3,4,\"chirag\"]\n",
        "b=[\"nupu\",\"riya\"]\n",
        "c=a+b\n",
        "print(c)"
      ],
      "metadata": {
        "colab": {
          "base_uri": "https://localhost:8080/"
        },
        "id": "9U_mF8uqh2T-",
        "outputId": "49c38e5d-80b7-4f2d-e3e8-23bb85b09398"
      },
      "execution_count": null,
      "outputs": [
        {
          "output_type": "stream",
          "name": "stdout",
          "text": [
            "[2, 2, 3, 4, 'chirag', 'nupu', 'riya']\n"
          ]
        }
      ]
    },
    {
      "cell_type": "code",
      "source": [
        "#replication\n",
        "a=[1,2,3,4]\n",
        "a*3"
      ],
      "metadata": {
        "colab": {
          "base_uri": "https://localhost:8080/"
        },
        "id": "mBj9wHLSh9bQ",
        "outputId": "dfd58b7b-764c-4f4e-a2ae-4929328d17e0"
      },
      "execution_count": null,
      "outputs": [
        {
          "output_type": "execute_result",
          "data": {
            "text/plain": [
              "[1, 2, 3, 4, 1, 2, 3, 4, 1, 2, 3, 4]"
            ]
          },
          "metadata": {},
          "execution_count": 37
        }
      ]
    },
    {
      "cell_type": "code",
      "source": [
        "#in str we can use only count\n",
        "s=\"chirag is good\"\n",
        "len(s)"
      ],
      "metadata": {
        "colab": {
          "base_uri": "https://localhost:8080/"
        },
        "id": "8tOUtLYnihHd",
        "outputId": "1181ada4-1b06-413c-be42-00d1b4f24878"
      },
      "execution_count": null,
      "outputs": [
        {
          "output_type": "execute_result",
          "data": {
            "text/plain": [
              "14"
            ]
          },
          "metadata": {},
          "execution_count": 38
        }
      ]
    },
    {
      "cell_type": "code",
      "source": [
        "s.count(\"i\")"
      ],
      "metadata": {
        "colab": {
          "base_uri": "https://localhost:8080/"
        },
        "id": "kw1amUXFimRf",
        "outputId": "c35bacaa-868f-4e87-99f2-118db5335ba3"
      },
      "execution_count": null,
      "outputs": [
        {
          "output_type": "execute_result",
          "data": {
            "text/plain": [
              "2"
            ]
          },
          "metadata": {},
          "execution_count": 40
        }
      ]
    },
    {
      "cell_type": "code",
      "source": [
        "#useer define list\n",
        "a=[]\n",
        "size=int(input(\"enter size\"))\n",
        "for i in range(size):\n",
        "  val=input(\"enter item\")\n",
        "  a.append(val)\n",
        "print(a)"
      ],
      "metadata": {
        "colab": {
          "base_uri": "https://localhost:8080/"
        },
        "id": "5E1RCPFLiq4i",
        "outputId": "5e6282b6-558c-4a01-f052-2c63fe96d856"
      },
      "execution_count": null,
      "outputs": [
        {
          "output_type": "stream",
          "name": "stdout",
          "text": [
            "enter size2\n",
            "enter itemaakash\n",
            "enter itemjain'\n",
            "['aakash', \"jain'\"]\n"
          ]
        }
      ]
    },
    {
      "cell_type": "code",
      "source": [
        "#wap to get user input list and sum the given numbers which is get by user\n"
      ],
      "metadata": {
        "id": "tUEPCu-Sjul0"
      },
      "execution_count": null,
      "outputs": []
    },
    {
      "cell_type": "code",
      "source": [
        "a=[]\n",
        "size=int(input(\"enter size\"))\n",
        "for i in range(size):\n",
        "  val=int(input(\"enter num\"))\n",
        "  a.append(val)\n",
        "print(a)\n",
        "sum=0\n",
        "for i in range(len(a)):\n",
        "  sum=sum+a[i]\n",
        "print(sum)"
      ],
      "metadata": {
        "colab": {
          "base_uri": "https://localhost:8080/"
        },
        "id": "Am729R-vkDyn",
        "outputId": "76103b2f-067c-40d2-9d84-8bf2e6ad3710"
      },
      "execution_count": null,
      "outputs": [
        {
          "output_type": "stream",
          "name": "stdout",
          "text": [
            "enter size3\n",
            "enter num1\n",
            "enter num2\n",
            "enter num3\n",
            "[1, 2, 3]\n",
            "6\n"
          ]
        }
      ]
    },
    {
      "cell_type": "code",
      "source": [
        "#wap to check frequency of word in list\n",
        "a=[]\n",
        "size=int(input(\"enter size\"))\n",
        "for i in range(size):\n",
        "  val=input(\"enter values \")\n",
        "  a.append(val)\n",
        "print(a)\n",
        "b=input(\"enter word which we are counting\")\n",
        "a.count(b)"
      ],
      "metadata": {
        "colab": {
          "base_uri": "https://localhost:8080/"
        },
        "id": "r7pwCC9AkpAG",
        "outputId": "86b037eb-9b11-4f06-c17b-5823f8429167"
      },
      "execution_count": null,
      "outputs": [
        {
          "name": "stdout",
          "output_type": "stream",
          "text": [
            "enter size2\n",
            "enter values chi\n",
            "enter values chi\n",
            "['chi', 'chi']\n",
            "enter word which we are countingchi\n"
          ]
        },
        {
          "output_type": "execute_result",
          "data": {
            "text/plain": [
              "2"
            ]
          },
          "metadata": {},
          "execution_count": 50
        }
      ]
    },
    {
      "cell_type": "code",
      "source": [
        "#tuples"
      ],
      "metadata": {
        "id": "DEc4TfiXl-ge"
      },
      "execution_count": null,
      "outputs": []
    },
    {
      "cell_type": "code",
      "source": [
        "a=(\"chirag\",\"sam\",\"ravi\",12,122,23)\n",
        "type(a)"
      ],
      "metadata": {
        "colab": {
          "base_uri": "https://localhost:8080/"
        },
        "id": "g3f-rve1lwqg",
        "outputId": "e4f25032-915c-481f-c167-660d66e52c87"
      },
      "execution_count": null,
      "outputs": [
        {
          "output_type": "execute_result",
          "data": {
            "text/plain": [
              "tuple"
            ]
          },
          "metadata": {},
          "execution_count": 2
        }
      ]
    },
    {
      "cell_type": "code",
      "source": [
        "a.count(12)"
      ],
      "metadata": {
        "colab": {
          "base_uri": "https://localhost:8080/"
        },
        "id": "IIC-Vvcvl4Lg",
        "outputId": "d7ffa3e5-7197-4dc4-91ee-21cdb5b84db8"
      },
      "execution_count": null,
      "outputs": [
        {
          "output_type": "execute_result",
          "data": {
            "text/plain": [
              "1"
            ]
          },
          "metadata": {},
          "execution_count": 5
        }
      ]
    },
    {
      "cell_type": "code",
      "source": [
        "a.index(122)"
      ],
      "metadata": {
        "colab": {
          "base_uri": "https://localhost:8080/"
        },
        "id": "7Afn1faxl7Bf",
        "outputId": "68782305-e838-40d1-ea05-31c986868088"
      },
      "execution_count": null,
      "outputs": [
        {
          "output_type": "execute_result",
          "data": {
            "text/plain": [
              "4"
            ]
          },
          "metadata": {},
          "execution_count": 6
        }
      ]
    },
    {
      "cell_type": "code",
      "source": [
        "#wap to get user input in tuple"
      ],
      "metadata": {
        "id": "ScozAAOOmAYV"
      },
      "execution_count": null,
      "outputs": []
    },
    {
      "cell_type": "code",
      "source": [
        "a=[]\n",
        "size=int(input(\"enter size\"))\n",
        "for i in range(size):\n",
        "  val=input(\"enter values\")\n",
        "  a.append(val)\n",
        "print(a)\n",
        "#convert list into tuple\n",
        "tup=tuple(a)\n",
        "print(tup)"
      ],
      "metadata": {
        "colab": {
          "base_uri": "https://localhost:8080/"
        },
        "id": "sipscdn3mN6U",
        "outputId": "dbed2ff1-7962-4ebe-ba4d-e5ec6e276f51"
      },
      "execution_count": null,
      "outputs": [
        {
          "output_type": "stream",
          "name": "stdout",
          "text": [
            "enter size3\n",
            "enter valueschir\n",
            "enter values33\n",
            "enter valuesrav\n",
            "['chir', '33', 'rav']\n",
            "('chir', '33', 'rav')\n"
          ]
        }
      ]
    },
    {
      "cell_type": "code",
      "source": [
        "#loop in tuple\n",
        "a=(\"chirag\",\"riya\",\"divya\")\n",
        "for i in a:\n",
        "  print(i)"
      ],
      "metadata": {
        "colab": {
          "base_uri": "https://localhost:8080/"
        },
        "id": "pUEP3XLZmdUx",
        "outputId": "489d8bce-87ac-4142-db78-29172356f14b"
      },
      "execution_count": null,
      "outputs": [
        {
          "output_type": "stream",
          "name": "stdout",
          "text": [
            "chirag\n",
            "riya\n",
            "divya\n"
          ]
        }
      ]
    },
    {
      "cell_type": "code",
      "source": [
        "a=(\"ravhi\",\"nupur\",\"sish\",55)\n",
        "for i in range(len(a)):\n",
        "  print(a[i])"
      ],
      "metadata": {
        "colab": {
          "base_uri": "https://localhost:8080/"
        },
        "id": "V2Zztl6tm8KZ",
        "outputId": "752a3be4-5a9c-45eb-fae2-64a5176d0b0b"
      },
      "execution_count": null,
      "outputs": [
        {
          "output_type": "stream",
          "name": "stdout",
          "text": [
            "ravhi\n",
            "nupur\n",
            "sish\n",
            "55\n"
          ]
        }
      ]
    },
    {
      "cell_type": "code",
      "source": [
        "#properties in tuple\n",
        "#it is immutable\n"
      ],
      "metadata": {
        "id": "am988q78nJhj"
      },
      "execution_count": null,
      "outputs": []
    },
    {
      "cell_type": "code",
      "source": [
        "#conactenatin\n",
        "a=(\"chirag\",\"cc\")\n",
        "b=(\"chrrr\",\"ram\")\n",
        "c=a+b\n",
        "print(c)"
      ],
      "metadata": {
        "colab": {
          "base_uri": "https://localhost:8080/"
        },
        "id": "XTBJnLWjnUa6",
        "outputId": "dc2e2c3f-9dce-4794-9785-ecbb0bab7ad5"
      },
      "execution_count": null,
      "outputs": [
        {
          "output_type": "stream",
          "name": "stdout",
          "text": [
            "('chirag', 'cc', 'chrrr', 'ram')\n"
          ]
        }
      ]
    },
    {
      "cell_type": "code",
      "source": [
        "#replication\n",
        "b=a*3\n",
        "print(b)"
      ],
      "metadata": {
        "colab": {
          "base_uri": "https://localhost:8080/"
        },
        "id": "J7cSP4AAnbwK",
        "outputId": "aa347347-f491-41dc-ffbf-aebd08118a18"
      },
      "execution_count": null,
      "outputs": [
        {
          "output_type": "stream",
          "name": "stdout",
          "text": [
            "('chirag', 'cc', 'chirag', 'cc', 'chirag', 'cc')\n"
          ]
        }
      ]
    },
    {
      "cell_type": "code",
      "source": [
        "#check immutable\n",
        "a=(\"ravi\",\"nupur\")\n",
        "a[1]=\"ram\""
      ],
      "metadata": {
        "colab": {
          "base_uri": "https://localhost:8080/",
          "height": 176
        },
        "id": "-8yZQww0npCr",
        "outputId": "7b294e48-0e94-49a3-abc1-a8381f322ab5"
      },
      "execution_count": null,
      "outputs": [
        {
          "output_type": "error",
          "ename": "TypeError",
          "evalue": "'tuple' object does not support item assignment",
          "traceback": [
            "\u001b[0;31m---------------------------------------------------------------------------\u001b[0m",
            "\u001b[0;31mTypeError\u001b[0m                                 Traceback (most recent call last)",
            "\u001b[0;32m<ipython-input-23-3ca8f481071d>\u001b[0m in \u001b[0;36m<cell line: 0>\u001b[0;34m()\u001b[0m\n\u001b[1;32m      1\u001b[0m \u001b[0;31m#check immutable\u001b[0m\u001b[0;34m\u001b[0m\u001b[0;34m\u001b[0m\u001b[0m\n\u001b[1;32m      2\u001b[0m \u001b[0ma\u001b[0m\u001b[0;34m=\u001b[0m\u001b[0;34m(\u001b[0m\u001b[0;34m\"ravi\"\u001b[0m\u001b[0;34m,\u001b[0m\u001b[0;34m\"nupur\"\u001b[0m\u001b[0;34m)\u001b[0m\u001b[0;34m\u001b[0m\u001b[0;34m\u001b[0m\u001b[0m\n\u001b[0;32m----> 3\u001b[0;31m \u001b[0ma\u001b[0m\u001b[0;34m[\u001b[0m\u001b[0;36m1\u001b[0m\u001b[0;34m]\u001b[0m\u001b[0;34m=\u001b[0m\u001b[0;34m\"ram\"\u001b[0m\u001b[0;34m\u001b[0m\u001b[0;34m\u001b[0m\u001b[0m\n\u001b[0m",
            "\u001b[0;31mTypeError\u001b[0m: 'tuple' object does not support item assignment"
          ]
        }
      ]
    },
    {
      "cell_type": "code",
      "source": [
        "#to change value we can first change tuple in list\n",
        "b=list(a)\n",
        "print(b)\n",
        "b[1]=\"simarn\"\n",
        "print(b)\n",
        "c=tuple(b)\n",
        "print(c)"
      ],
      "metadata": {
        "colab": {
          "base_uri": "https://localhost:8080/"
        },
        "id": "JaoqHtXen2Tw",
        "outputId": "8cd3a37d-c6a6-4b2d-a49c-d881e60bdfdb"
      },
      "execution_count": null,
      "outputs": [
        {
          "output_type": "stream",
          "name": "stdout",
          "text": [
            "['ravi', 'nupur']\n",
            "['ravi', 'simarn']\n",
            "('ravi', 'simarn')\n"
          ]
        }
      ]
    },
    {
      "cell_type": "code",
      "source": [
        "#sum functio\n",
        "a=(1,2,3)\n",
        "sum(a)\n"
      ],
      "metadata": {
        "colab": {
          "base_uri": "https://localhost:8080/"
        },
        "id": "F99AMV36oBoy",
        "outputId": "ed70721e-b978-4f08-fb4c-34f89a13cd5a"
      },
      "execution_count": null,
      "outputs": [
        {
          "output_type": "execute_result",
          "data": {
            "text/plain": [
              "6"
            ]
          },
          "metadata": {},
          "execution_count": 30
        }
      ]
    },
    {
      "cell_type": "code",
      "source": [
        "#wap to get user input then add more item\n",
        "a=[]\n",
        "size=int(input(\"enter size\"))\n",
        "for i in range(size):\n",
        "  val=input(\"enter value\")\n",
        "  a.append(val)\n",
        "print(a)\n",
        "am=int(input(\"how many itwm want more\"))\n",
        "for i in range(am):\n",
        "  val2=input(\"enter more values\")\n",
        "  a.append(val2)\n",
        "print(a)\n",
        "b=tuple(a)\n",
        "print(b)"
      ],
      "metadata": {
        "colab": {
          "base_uri": "https://localhost:8080/"
        },
        "id": "zhBlNDzFoaOn",
        "outputId": "0eb6cee7-1337-4849-cc0c-5010833d6a36"
      },
      "execution_count": null,
      "outputs": [
        {
          "output_type": "stream",
          "name": "stdout",
          "text": [
            "enter size2\n",
            "enter valuesam\n",
            "enter valuenam\n",
            "['sam', 'nam']\n",
            "how many itwm want more2\n",
            "enter more valuesraj \n",
            "enter more values22\n",
            "['sam', 'nam', 'raj ', '22']\n",
            "('sam', 'nam', 'raj ', '22')\n"
          ]
        }
      ]
    },
    {
      "cell_type": "code",
      "source": [
        "a=[]\n",
        "size=int(input(\"enter size\"))\n",
        "for i in range(size):\n",
        "  val=input(\"enter values\")\n",
        "  a.append(val)\n",
        "print(a)\n",
        "val2=input(\"enter value\")\n",
        "a.append(val2)\n",
        "print(a)\n",
        "\n",
        "\n",
        "b=tuple(a)\n",
        "print(b)\n",
        "b.count(\"sam\")\n",
        "\n",
        "\n"
      ],
      "metadata": {
        "colab": {
          "base_uri": "https://localhost:8080/"
        },
        "id": "4I6BZrXUovCB",
        "outputId": "a0a81fe9-6211-46b3-d493-cf011b75733c"
      },
      "execution_count": null,
      "outputs": [
        {
          "output_type": "stream",
          "name": "stdout",
          "text": [
            "enter size2\n",
            "enter valuesam\n",
            "enter valuessam\n",
            "['am', 'sam']\n",
            "enter valuesam\n",
            "['am', 'sam', 'sam']\n",
            "('am', 'sam', 'sam')\n"
          ]
        },
        {
          "output_type": "execute_result",
          "data": {
            "text/plain": [
              "2"
            ]
          },
          "metadata": {},
          "execution_count": 43
        }
      ]
    },
    {
      "cell_type": "code",
      "source": [
        "a=[]\n",
        "size=int(input(\"enter aizse\"))\n",
        "for i in range(size):\n",
        "  val=input(\"enter value\")\n",
        "  a.append(val)\n",
        "print(a)\n",
        "am=int(input(\"how many size more\"))\n",
        "for i in range(am):\n",
        "  val2=input(\"enter value \")\n",
        "  a.append(val2)\n",
        "print(a)\n",
        "#check count\n",
        "co=input(\"element you wanna count\")\n",
        "a.count(co)\n",
        "print(a)\n",
        "b=tuple(a)\n",
        "print(b)\n"
      ],
      "metadata": {
        "colab": {
          "base_uri": "https://localhost:8080/",
          "height": 356
        },
        "id": "im0JEpSyqIT6",
        "outputId": "28fa7036-d3f7-41db-f706-3397358c2b85"
      },
      "execution_count": null,
      "outputs": [
        {
          "output_type": "error",
          "ename": "KeyboardInterrupt",
          "evalue": "Interrupted by user",
          "traceback": [
            "\u001b[0;31m---------------------------------------------------------------------------\u001b[0m",
            "\u001b[0;31mKeyboardInterrupt\u001b[0m                         Traceback (most recent call last)",
            "\u001b[0;32m<ipython-input-46-d282ad1400b7>\u001b[0m in \u001b[0;36m<cell line: 0>\u001b[0;34m()\u001b[0m\n\u001b[1;32m      1\u001b[0m \u001b[0ma\u001b[0m\u001b[0;34m=\u001b[0m\u001b[0;34m[\u001b[0m\u001b[0;34m]\u001b[0m\u001b[0;34m\u001b[0m\u001b[0;34m\u001b[0m\u001b[0m\n\u001b[0;32m----> 2\u001b[0;31m \u001b[0msize\u001b[0m\u001b[0;34m=\u001b[0m\u001b[0mint\u001b[0m\u001b[0;34m(\u001b[0m\u001b[0minput\u001b[0m\u001b[0;34m(\u001b[0m\u001b[0;34m\"enter aizse\"\u001b[0m\u001b[0;34m)\u001b[0m\u001b[0;34m)\u001b[0m\u001b[0;34m\u001b[0m\u001b[0;34m\u001b[0m\u001b[0m\n\u001b[0m\u001b[1;32m      3\u001b[0m \u001b[0;32mfor\u001b[0m \u001b[0mi\u001b[0m \u001b[0;32min\u001b[0m \u001b[0mrange\u001b[0m\u001b[0;34m(\u001b[0m\u001b[0msize\u001b[0m\u001b[0;34m)\u001b[0m\u001b[0;34m:\u001b[0m\u001b[0;34m\u001b[0m\u001b[0;34m\u001b[0m\u001b[0m\n\u001b[1;32m      4\u001b[0m   \u001b[0mval\u001b[0m\u001b[0;34m=\u001b[0m\u001b[0minput\u001b[0m\u001b[0;34m(\u001b[0m\u001b[0;34m\"enter value\"\u001b[0m\u001b[0;34m)\u001b[0m\u001b[0;34m\u001b[0m\u001b[0;34m\u001b[0m\u001b[0m\n\u001b[1;32m      5\u001b[0m   \u001b[0ma\u001b[0m\u001b[0;34m.\u001b[0m\u001b[0mappend\u001b[0m\u001b[0;34m(\u001b[0m\u001b[0mval\u001b[0m\u001b[0;34m)\u001b[0m\u001b[0;34m\u001b[0m\u001b[0;34m\u001b[0m\u001b[0m\n",
            "\u001b[0;32m/usr/local/lib/python3.11/dist-packages/ipykernel/kernelbase.py\u001b[0m in \u001b[0;36mraw_input\u001b[0;34m(self, prompt)\u001b[0m\n\u001b[1;32m    849\u001b[0m                 \u001b[0;34m\"raw_input was called, but this frontend does not support input requests.\"\u001b[0m\u001b[0;34m\u001b[0m\u001b[0;34m\u001b[0m\u001b[0m\n\u001b[1;32m    850\u001b[0m             )\n\u001b[0;32m--> 851\u001b[0;31m         return self._input_request(str(prompt),\n\u001b[0m\u001b[1;32m    852\u001b[0m             \u001b[0mself\u001b[0m\u001b[0;34m.\u001b[0m\u001b[0m_parent_ident\u001b[0m\u001b[0;34m,\u001b[0m\u001b[0;34m\u001b[0m\u001b[0;34m\u001b[0m\u001b[0m\n\u001b[1;32m    853\u001b[0m             \u001b[0mself\u001b[0m\u001b[0;34m.\u001b[0m\u001b[0m_parent_header\u001b[0m\u001b[0;34m,\u001b[0m\u001b[0;34m\u001b[0m\u001b[0;34m\u001b[0m\u001b[0m\n",
            "\u001b[0;32m/usr/local/lib/python3.11/dist-packages/ipykernel/kernelbase.py\u001b[0m in \u001b[0;36m_input_request\u001b[0;34m(self, prompt, ident, parent, password)\u001b[0m\n\u001b[1;32m    893\u001b[0m             \u001b[0;32mexcept\u001b[0m \u001b[0mKeyboardInterrupt\u001b[0m\u001b[0;34m:\u001b[0m\u001b[0;34m\u001b[0m\u001b[0;34m\u001b[0m\u001b[0m\n\u001b[1;32m    894\u001b[0m                 \u001b[0;31m# re-raise KeyboardInterrupt, to truncate traceback\u001b[0m\u001b[0;34m\u001b[0m\u001b[0;34m\u001b[0m\u001b[0m\n\u001b[0;32m--> 895\u001b[0;31m                 \u001b[0;32mraise\u001b[0m \u001b[0mKeyboardInterrupt\u001b[0m\u001b[0;34m(\u001b[0m\u001b[0;34m\"Interrupted by user\"\u001b[0m\u001b[0;34m)\u001b[0m \u001b[0;32mfrom\u001b[0m \u001b[0;32mNone\u001b[0m\u001b[0;34m\u001b[0m\u001b[0;34m\u001b[0m\u001b[0m\n\u001b[0m\u001b[1;32m    896\u001b[0m             \u001b[0;32mexcept\u001b[0m \u001b[0mException\u001b[0m \u001b[0;32mas\u001b[0m \u001b[0me\u001b[0m\u001b[0;34m:\u001b[0m\u001b[0;34m\u001b[0m\u001b[0;34m\u001b[0m\u001b[0m\n\u001b[1;32m    897\u001b[0m                 \u001b[0mself\u001b[0m\u001b[0;34m.\u001b[0m\u001b[0mlog\u001b[0m\u001b[0;34m.\u001b[0m\u001b[0mwarning\u001b[0m\u001b[0;34m(\u001b[0m\u001b[0;34m\"Invalid Message:\"\u001b[0m\u001b[0;34m,\u001b[0m \u001b[0mexc_info\u001b[0m\u001b[0;34m=\u001b[0m\u001b[0;32mTrue\u001b[0m\u001b[0;34m)\u001b[0m\u001b[0;34m\u001b[0m\u001b[0;34m\u001b[0m\u001b[0m\n",
            "\u001b[0;31mKeyboardInterrupt\u001b[0m: Interrupted by user"
          ]
        }
      ]
    },
    {
      "cell_type": "code",
      "source": [
        "#wap to delete value in tuple in tuple we can first create list because tuple is immutable doesnt modufy at runtime\n",
        "a=[]\n",
        "size=int(input(\"enter size\"))\n",
        "for i in range(size):\n",
        "  val=input(\"enter values\")\n",
        "  a.append(val)\n",
        "print(a)\n",
        "\n",
        "delw=input(\"which item you want to dekete\")\n",
        "a.remove(delw)\n",
        "print(a)\n",
        "b=tuple(a)\n",
        "print(b)\n"
      ],
      "metadata": {
        "colab": {
          "base_uri": "https://localhost:8080/"
        },
        "id": "TsknCh0Url6h",
        "outputId": "1e05fc19-20a4-4c62-bfbf-69a9c3d5e4e3"
      },
      "execution_count": null,
      "outputs": [
        {
          "output_type": "stream",
          "name": "stdout",
          "text": [
            "enter size3\n",
            "enter valuessam\n",
            "enter valuesram\n",
            "enter valuesnam\n",
            "['sam', 'ram', 'nam']\n",
            "which item you want to deketenam\n",
            "['sam', 'ram']\n",
            "('sam', 'ram')\n"
          ]
        }
      ]
    },
    {
      "cell_type": "code",
      "source": [
        "a=[]\n",
        "size=int(input(\"enter size\"))\n",
        "for i in range(size):\n",
        "  val=input(\"enter value\")\n",
        "  a.append(val)\n",
        "print(a)\n",
        "m=a[-1::-1]\n",
        "print(m)\n"
      ],
      "metadata": {
        "colab": {
          "base_uri": "https://localhost:8080/"
        },
        "id": "sKxw-lUrsG_3",
        "outputId": "02f2bb00-127f-4089-d6a2-b21eb916aa4c"
      },
      "execution_count": null,
      "outputs": [
        {
          "output_type": "stream",
          "name": "stdout",
          "text": [
            "enter size2\n",
            "enter value1\n",
            "enter value2\n",
            "['1', '2']\n",
            "['2', '1']\n"
          ]
        }
      ]
    },
    {
      "cell_type": "code",
      "source": [
        "a=(\"1\",\"2\",\"3\")\n",
        "m=a[-1::-1]\n",
        "print(m)"
      ],
      "metadata": {
        "colab": {
          "base_uri": "https://localhost:8080/"
        },
        "id": "tE9hPzZgtnwQ",
        "outputId": "258b8134-b250-4356-b4fd-804765197f6b"
      },
      "execution_count": null,
      "outputs": [
        {
          "output_type": "stream",
          "name": "stdout",
          "text": [
            "('3', '2', '1')\n"
          ]
        }
      ]
    },
    {
      "cell_type": "code",
      "source": [
        "menu={\n",
        "    'pizza':50,\n",
        "    'coffe':100,\n",
        "    'pasta':80,\n",
        "    'burger':40\n",
        "}\n",
        "print(\"welcome to my restraun\")\n",
        "print(\"pizza:50\\ncoffe:100\\npasta:80\\nburger:40\")\n",
        "item1=input(\"enter item name\")\n",
        "to=0\n",
        "if item1 in menu:\n",
        "  to+=menu[item1]\n",
        "  print(f\"your {item1} is added and pay{to} ruppes\")\n",
        "else:\n",
        "  print(\"change the dish\")\n",
        "\n",
        "n=input(\"do you want more order yes or no\")\n",
        "if n=='yes':\n",
        "  item2=input(\"enter second itam name\")\n",
        "  to+=menu[item2]\n",
        "  print(f\"your{item2} is been added and pay {to} rupees\")\n",
        "else:\n",
        "  print(\"ok we understood \")\n",
        "\n",
        "print(to)\n",
        "print(\"thanks for visiting in our restaurant\")\n"
      ],
      "metadata": {
        "colab": {
          "base_uri": "https://localhost:8080/"
        },
        "id": "rGuJZJK0uRjs",
        "outputId": "e382320f-648a-4edf-acfb-7ce54a767d76"
      },
      "execution_count": null,
      "outputs": [
        {
          "output_type": "stream",
          "name": "stdout",
          "text": [
            "welcome to my restraun\n",
            "pizza:50\n",
            "coffe:100\n",
            "pasta:80\n",
            "burger:40\n",
            "enter item nameburger\n",
            "your burger is added and pay40 ruppes\n",
            "do you want more order yes or noyes\n",
            "enter second itam namecoffe\n",
            "yourcoffe is been added and pay 140 rupees\n",
            "140\n",
            "thanks for visiting in our restaurant\n"
          ]
        }
      ]
    },
    {
      "cell_type": "code",
      "source": [
        "m=10\n",
        "n=1\n",
        "for i in range(n,m):\n",
        "  print(m)"
      ],
      "metadata": {
        "colab": {
          "base_uri": "https://localhost:8080/"
        },
        "id": "eIC9qzFAEith",
        "outputId": "dbe0376a-c587-47b1-87a2-81d5ac5fe06d"
      },
      "execution_count": null,
      "outputs": [
        {
          "output_type": "stream",
          "name": "stdout",
          "text": [
            "10\n",
            "10\n",
            "10\n",
            "10\n",
            "10\n",
            "10\n",
            "10\n",
            "10\n",
            "10\n"
          ]
        }
      ]
    },
    {
      "cell_type": "code",
      "source": [
        "a=[1,2,3,4]\n",
        "sum(a)"
      ],
      "metadata": {
        "colab": {
          "base_uri": "https://localhost:8080/"
        },
        "id": "ZPtypYYiJiYd",
        "outputId": "71d332d2-7acc-4238-e59f-45b83f21bcb7"
      },
      "execution_count": null,
      "outputs": [
        {
          "output_type": "execute_result",
          "data": {
            "text/plain": [
              "10"
            ]
          },
          "metadata": {},
          "execution_count": 1
        }
      ]
    },
    {
      "cell_type": "code",
      "source": [
        "a=[]\n",
        "size=int(input(\"enter size\"))\n",
        "sum=0\n",
        "for i in range(size):\n",
        "  val=int(input(\"enter values\"))\n",
        "  a.append(val)\n",
        "  sum+=val\n",
        "print(a)\n",
        "print(sum)\n",
        "\n"
      ],
      "metadata": {
        "colab": {
          "base_uri": "https://localhost:8080/"
        },
        "id": "n1ce2n__IhvN",
        "outputId": "6a03bbdb-7120-45d0-de5f-a9955d8f6a7e"
      },
      "execution_count": null,
      "outputs": [
        {
          "output_type": "stream",
          "name": "stdout",
          "text": [
            "enter size2\n",
            "enter values1\n",
            "enter values2\n",
            "[1, 2]\n",
            "3\n"
          ]
        }
      ]
    },
    {
      "cell_type": "code",
      "source": [
        "a=[1,2,3]\n",
        "max(a)"
      ],
      "metadata": {
        "colab": {
          "base_uri": "https://localhost:8080/"
        },
        "id": "GOGOuNKEJD7G",
        "outputId": "06172732-179b-4ab8-95ee-e3e73c07debe"
      },
      "execution_count": null,
      "outputs": [
        {
          "output_type": "execute_result",
          "data": {
            "text/plain": [
              "3"
            ]
          },
          "metadata": {},
          "execution_count": 3
        }
      ]
    },
    {
      "cell_type": "code",
      "source": [
        "#priogram to remove duplicate number in python\n",
        "a=[1,2,3,2,1,2,1,4,5]\n",
        "b=[]\n",
        "for num in a:\n",
        "  if num not in b:\n",
        "    b.append(num)\n",
        "print(b)"
      ],
      "metadata": {
        "colab": {
          "base_uri": "https://localhost:8080/"
        },
        "id": "AEeMfz9wKYJ_",
        "outputId": "c0cb79f3-505e-40af-bdc6-53a5f5c1329f"
      },
      "execution_count": null,
      "outputs": [
        {
          "output_type": "stream",
          "name": "stdout",
          "text": [
            "[1, 2, 3, 4, 5]\n"
          ]
        }
      ]
    },
    {
      "cell_type": "code",
      "source": [
        "#counting duplicte num\n",
        "from ast import Num\n",
        "a=[1,2,3,1,2,3,3]\n",
        "b=[]\n",
        "for num in a:\n",
        "  if num not in b:\n",
        "    print(f\"{num} in {a.count(num)}\")\n",
        "    b.append(num)\n",
        "print(b)\n",
        "\n"
      ],
      "metadata": {
        "colab": {
          "base_uri": "https://localhost:8080/"
        },
        "id": "7okLuATFKjC1",
        "outputId": "19bee4e1-2165-4ea1-e8db-f110fd561301"
      },
      "execution_count": null,
      "outputs": [
        {
          "output_type": "stream",
          "name": "stdout",
          "text": [
            "1 in 2\n",
            "2 in 2\n",
            "3 in 3\n",
            "[1, 2, 3]\n"
          ]
        }
      ]
    },
    {
      "cell_type": "code",
      "source": [
        "numbers = [1, 2, 3, 4, 2, 3, 5, 6, 1, 2, 3, 4]\n",
        "\n",
        "unique_numbers = []  # To keep track of processed numbers\n",
        "\n",
        "for num in numbers:\n",
        "    if num not in unique_numbers:\n",
        "        print(f\"{num}: {numbers.count(num)}\")\n",
        "        unique_numbers.append(num)"
      ],
      "metadata": {
        "colab": {
          "base_uri": "https://localhost:8080/"
        },
        "id": "oHc9jW0KMQ_2",
        "outputId": "2cdfe0d6-950a-4235-ade5-81b96ee13273"
      },
      "execution_count": null,
      "outputs": [
        {
          "output_type": "stream",
          "name": "stdout",
          "text": [
            "1: 2\n",
            "2: 3\n",
            "3: 3\n",
            "4: 2\n",
            "5: 1\n",
            "6: 1\n"
          ]
        }
      ]
    },
    {
      "cell_type": "code",
      "source": [
        "a=[1,2,3]\n",
        "print(a[-1::-1])"
      ],
      "metadata": {
        "colab": {
          "base_uri": "https://localhost:8080/"
        },
        "id": "HN741cYjNCuv",
        "outputId": "3b8717ff-ebb6-483d-fff7-fb9c85b0449e"
      },
      "execution_count": null,
      "outputs": [
        {
          "output_type": "stream",
          "name": "stdout",
          "text": [
            "[3, 2, 1]\n"
          ]
        }
      ]
    },
    {
      "cell_type": "code",
      "source": [
        "for i in range(0,11):\n",
        "  print(i)"
      ],
      "metadata": {
        "colab": {
          "base_uri": "https://localhost:8080/"
        },
        "id": "yXBVSRHKNGmr",
        "outputId": "728267a7-d19a-46dc-d53d-eed6a320da98"
      },
      "execution_count": null,
      "outputs": [
        {
          "output_type": "stream",
          "name": "stdout",
          "text": [
            "0\n",
            "1\n",
            "2\n",
            "3\n",
            "4\n",
            "5\n",
            "6\n",
            "7\n",
            "8\n",
            "9\n",
            "10\n"
          ]
        }
      ]
    },
    {
      "cell_type": "code",
      "source": [
        "f=1#factorial\n",
        "n=5\n",
        "for i in range(1,n+1):\n",
        "  f=f*i\n",
        "\n",
        "print(f)"
      ],
      "metadata": {
        "colab": {
          "base_uri": "https://localhost:8080/"
        },
        "id": "QF2LxjwCNNvI",
        "outputId": "b52b02e0-89bf-47cb-f945-c3aedcae542c"
      },
      "execution_count": null,
      "outputs": [
        {
          "output_type": "stream",
          "name": "stdout",
          "text": [
            "120\n"
          ]
        }
      ]
    },
    {
      "cell_type": "code",
      "source": [
        "f=1;\n",
        "n=5;\n",
        "if(n<0):\n",
        "  print(\"not\")\n",
        "else:\n",
        "  for i in range(1,n+1):\n",
        "     f=f*i\n",
        "print(f)"
      ],
      "metadata": {
        "colab": {
          "base_uri": "https://localhost:8080/"
        },
        "id": "H9qVVXrlNbME",
        "outputId": "5eb451f3-048e-4cc0-cef8-3525761ae168"
      },
      "execution_count": null,
      "outputs": [
        {
          "output_type": "stream",
          "name": "stdout",
          "text": [
            "120\n"
          ]
        }
      ]
    },
    {
      "cell_type": "code",
      "source": [
        "count=0#print even number or count it\n",
        "for i in range(2,51,2):\n",
        "  print(i ,end=\" \")\n",
        "  count+=1\n",
        "print(count)"
      ],
      "metadata": {
        "colab": {
          "base_uri": "https://localhost:8080/"
        },
        "id": "x31Hcid_OHDD",
        "outputId": "f066bdc2-64b0-460d-cfad-032c90836ca6"
      },
      "execution_count": null,
      "outputs": [
        {
          "output_type": "stream",
          "name": "stdout",
          "text": [
            "2 4 6 8 10 12 14 16 18 20 22 24 26 28 30 32 34 36 38 40 42 44 46 48 50 25\n"
          ]
        }
      ]
    },
    {
      "cell_type": "code",
      "source": [
        "n=10\n",
        "a=0\n",
        "b=1\n",
        "for i in range(n):\n",
        "  print(a)\n",
        "  next=a+b\n",
        "  a=b\n",
        "  b=next\n",
        "\n"
      ],
      "metadata": {
        "colab": {
          "base_uri": "https://localhost:8080/"
        },
        "id": "SP2MJxZoOZYZ",
        "outputId": "2f724c5c-d61d-4343-fa3a-f174c974c36f"
      },
      "execution_count": null,
      "outputs": [
        {
          "output_type": "stream",
          "name": "stdout",
          "text": [
            "0\n",
            "1\n",
            "1\n",
            "2\n",
            "3\n",
            "5\n",
            "8\n",
            "13\n",
            "21\n",
            "34\n"
          ]
        }
      ]
    },
    {
      "cell_type": "code",
      "source": [
        "sum=0\n",
        "n=1234\n",
        "while n>0:\n",
        "  r=n%10\n",
        "  sum=sum+r\n",
        "  n//=10\n",
        "print(sum)"
      ],
      "metadata": {
        "colab": {
          "base_uri": "https://localhost:8080/"
        },
        "id": "wPb_tFXtO9AC",
        "outputId": "66b6a223-5918-493a-ae10-d689f8dc4121"
      },
      "execution_count": null,
      "outputs": [
        {
          "output_type": "stream",
          "name": "stdout",
          "text": [
            "10\n"
          ]
        }
      ]
    },
    {
      "cell_type": "code",
      "source": [
        "sum=0\n",
        "n=124\n",
        "for i in range(len(str(n))):\n",
        "  sum=sum+n%10\n",
        "  n//=10\n",
        "print(sum)"
      ],
      "metadata": {
        "colab": {
          "base_uri": "https://localhost:8080/"
        },
        "id": "LP5ZFKNkRBfE",
        "outputId": "b680d59b-3aba-468d-bf8d-ef18c456c6c2"
      },
      "execution_count": null,
      "outputs": [
        {
          "output_type": "stream",
          "name": "stdout",
          "text": [
            "7\n"
          ]
        }
      ]
    },
    {
      "cell_type": "code",
      "source": [
        "n=171\n",
        "num=n\n",
        "sum=0\n",
        "while n>0:\n",
        "  r=n%10\n",
        "  sum=sum*10+r\n",
        "  n//=10\n",
        "print(sum)\n",
        "if sum==num :\n",
        "    print(\"pali\")\n",
        "else:\n",
        "    print(\"not\")\n"
      ],
      "metadata": {
        "colab": {
          "base_uri": "https://localhost:8080/"
        },
        "id": "Vpn9McYeS-xW",
        "outputId": "ef8dac4f-8a65-492a-ea5f-0e3929e41d7e"
      },
      "execution_count": null,
      "outputs": [
        {
          "output_type": "stream",
          "name": "stdout",
          "text": [
            "171\n",
            "pali\n"
          ]
        }
      ]
    },
    {
      "cell_type": "code",
      "source": [
        "#dictionary in python\n"
      ],
      "metadata": {
        "id": "M5guFe1oThVa"
      },
      "execution_count": null,
      "outputs": []
    },
    {
      "cell_type": "code",
      "source": [
        "a={\n",
        "    \"name\":\"chirag\",\n",
        "    \"age\":20,\n",
        "    \"course\":\"bca\"\n",
        "}\n",
        "print(a)"
      ],
      "metadata": {
        "colab": {
          "base_uri": "https://localhost:8080/"
        },
        "id": "XGPfOPRtHXdE",
        "outputId": "d8bcbf2b-6297-42b1-d3e5-98d0fcc2cb1a"
      },
      "execution_count": null,
      "outputs": [
        {
          "output_type": "stream",
          "name": "stdout",
          "text": [
            "{'name': 'chirag', 'age': 20, 'course': 'bca'}\n"
          ]
        }
      ]
    },
    {
      "cell_type": "code",
      "source": [
        "type(a)"
      ],
      "metadata": {
        "colab": {
          "base_uri": "https://localhost:8080/"
        },
        "id": "fm4w8NjaHiuj",
        "outputId": "8675ad8f-3861-44c2-83ed-20b558870348"
      },
      "execution_count": null,
      "outputs": [
        {
          "output_type": "execute_result",
          "data": {
            "text/plain": [
              "dict"
            ]
          },
          "metadata": {},
          "execution_count": 3
        }
      ]
    },
    {
      "cell_type": "code",
      "source": [
        "#loop"
      ],
      "metadata": {
        "id": "prZe3IgbHlgf"
      },
      "execution_count": null,
      "outputs": []
    },
    {
      "cell_type": "code",
      "source": [
        "for i in a.keys():\n",
        "  print(i)"
      ],
      "metadata": {
        "colab": {
          "base_uri": "https://localhost:8080/"
        },
        "id": "TROLxvP3Hol8",
        "outputId": "e2475aef-298e-40ab-ad5d-e47a82340ba6"
      },
      "execution_count": null,
      "outputs": [
        {
          "output_type": "stream",
          "name": "stdout",
          "text": [
            "age\n",
            "course\n"
          ]
        }
      ]
    },
    {
      "cell_type": "code",
      "source": [
        "for i in a.values():\n",
        "  print(a)"
      ],
      "metadata": {
        "colab": {
          "base_uri": "https://localhost:8080/"
        },
        "id": "tw1-0sCdH9tS",
        "outputId": "42d9baf1-ea94-4094-8ef2-042848dc2d2e"
      },
      "execution_count": null,
      "outputs": [
        {
          "output_type": "stream",
          "name": "stdout",
          "text": [
            "{'age': 20, 'course': 'bca'}\n",
            "{'age': 20, 'course': 'bca'}\n"
          ]
        }
      ]
    },
    {
      "cell_type": "code",
      "source": [
        "for x,y in a.items():\n",
        "  print(x,y)"
      ],
      "metadata": {
        "colab": {
          "base_uri": "https://localhost:8080/"
        },
        "id": "bzkIPmIoILm3",
        "outputId": "58b17a52-431e-4a81-ec21-cba04f083d28"
      },
      "execution_count": null,
      "outputs": [
        {
          "output_type": "stream",
          "name": "stdout",
          "text": [
            "age 20\n",
            "course bca\n"
          ]
        }
      ]
    },
    {
      "cell_type": "code",
      "source": [
        "for i in range(len(a)):\n",
        "  print(i)"
      ],
      "metadata": {
        "colab": {
          "base_uri": "https://localhost:8080/"
        },
        "id": "YxGf7yDuIU3g",
        "outputId": "f8e17f49-f850-42de-8003-aa80832a7eb5"
      },
      "execution_count": null,
      "outputs": [
        {
          "output_type": "stream",
          "name": "stdout",
          "text": [
            "0\n",
            "1\n"
          ]
        }
      ]
    },
    {
      "cell_type": "code",
      "source": [
        "print(a)\n",
        "a[\"age\"]=88 #update values\n",
        "print(a)"
      ],
      "metadata": {
        "colab": {
          "base_uri": "https://localhost:8080/"
        },
        "id": "luPhTzFpIpP2",
        "outputId": "50ccc7b3-8bb7-488e-d82c-c0d579348404"
      },
      "execution_count": null,
      "outputs": [
        {
          "output_type": "stream",
          "name": "stdout",
          "text": [
            "{'age': 20, 'course': 'bca'}\n",
            "{'age': 88, 'course': 'bca'}\n"
          ]
        }
      ]
    },
    {
      "cell_type": "code",
      "source": [
        "a.update({\"course\":\"aakash\"})#2nd method to update va;lues\n",
        "print(a)"
      ],
      "metadata": {
        "colab": {
          "base_uri": "https://localhost:8080/"
        },
        "id": "6gNvL6ZxI034",
        "outputId": "477cf713-bfbc-4193-b818-34d0a326a735"
      },
      "execution_count": null,
      "outputs": [
        {
          "output_type": "stream",
          "name": "stdout",
          "text": [
            "{'age': 88, 'course': 'aakash', 'name': 'aakash'}\n"
          ]
        }
      ]
    },
    {
      "cell_type": "code",
      "source": [
        "print(a)"
      ],
      "metadata": {
        "colab": {
          "base_uri": "https://localhost:8080/"
        },
        "id": "WwbvbBVDJDyL",
        "outputId": "5c586b69-5cda-4e19-caf3-355ed20cb67a"
      },
      "execution_count": null,
      "outputs": [
        {
          "output_type": "stream",
          "name": "stdout",
          "text": [
            "{'age': 88, 'course': 'aakash', 'name': 'aakash'}\n"
          ]
        }
      ]
    },
    {
      "cell_type": "code",
      "source": [
        "for i in a.keys():\n",
        "  print(i)"
      ],
      "metadata": {
        "colab": {
          "base_uri": "https://localhost:8080/"
        },
        "id": "88NW0Ls3JMNy",
        "outputId": "62b3d134-96b5-4922-e0bc-19c321e27a37"
      },
      "execution_count": null,
      "outputs": [
        {
          "output_type": "stream",
          "name": "stdout",
          "text": [
            "age\n",
            "course\n",
            "name\n"
          ]
        }
      ]
    },
    {
      "cell_type": "code",
      "source": [
        "a.pop(\"name\")# remover sepecific pair\n",
        "print(a)"
      ],
      "metadata": {
        "colab": {
          "base_uri": "https://localhost:8080/"
        },
        "id": "eVl0dmdLJRG2",
        "outputId": "64694a52-01cc-4f3c-f127-bd04972f38b0"
      },
      "execution_count": null,
      "outputs": [
        {
          "output_type": "stream",
          "name": "stdout",
          "text": [
            "{'age': 88, 'course': 'aakash'}\n"
          ]
        }
      ]
    },
    {
      "cell_type": "code",
      "source": [
        "a.popitem()#removes last elemnet of key value\n",
        "print(a)"
      ],
      "metadata": {
        "colab": {
          "base_uri": "https://localhost:8080/"
        },
        "id": "1v07wIedJhAx",
        "outputId": "42bd681f-b955-45bd-f214-a4a807d23ece"
      },
      "execution_count": null,
      "outputs": [
        {
          "output_type": "stream",
          "name": "stdout",
          "text": [
            "{'age': 88}\n"
          ]
        }
      ]
    },
    {
      "cell_type": "code",
      "source": [
        "a.clear()\n",
        "print(a)"
      ],
      "metadata": {
        "colab": {
          "base_uri": "https://localhost:8080/"
        },
        "id": "hokgeMTgJkxO",
        "outputId": "76718925-4fbb-413e-8608-57ad750c8891"
      },
      "execution_count": null,
      "outputs": [
        {
          "output_type": "stream",
          "name": "stdout",
          "text": [
            "{}\n"
          ]
        }
      ]
    },
    {
      "cell_type": "code",
      "source": [
        "#sets in pyth9on\n"
      ],
      "metadata": {
        "id": "2ToCfH5JJ6UJ"
      },
      "execution_count": null,
      "outputs": []
    },
    {
      "cell_type": "code",
      "source": [
        "a={1,2,3}\n",
        "type(a)"
      ],
      "metadata": {
        "id": "Axl-8st9DyPs"
      },
      "execution_count": null,
      "outputs": []
    },
    {
      "cell_type": "code",
      "source": [],
      "metadata": {
        "id": "sv3t3AmND10X"
      },
      "execution_count": null,
      "outputs": []
    }
  ]
}