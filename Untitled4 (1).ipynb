{
 "cells": [
  {
   "cell_type": "code",
   "execution_count": 1,
   "id": "0bc574da-3258-4a78-8fed-5ff4c3556217",
   "metadata": {},
   "outputs": [],
   "source": [
    "#functions"
   ]
  },
  {
   "cell_type": "code",
   "execution_count": 2,
   "id": "f3a4ef71-40b3-4559-b615-2304123d015b",
   "metadata": {},
   "outputs": [],
   "source": [
    "# two types of function\n",
    "#1. pre defined functipn like print() input()\n",
    "#2. manually difined function \n",
    "#syntax \n",
    "#def nameoffunction :\n",
    " #       logic\n",
    "#callfunction\n",
    "\n"
   ]
  },
  {
   "cell_type": "code",
   "execution_count": 5,
   "id": "abc32840-0bf4-4a08-a8cc-6115be03ce27",
   "metadata": {},
   "outputs": [
    {
     "name": "stdout",
     "output_type": "stream",
     "text": [
      "11\n"
     ]
    }
   ],
   "source": [
    "def add():\n",
    "    a=2\n",
    "    b=9\n",
    "    c=a+b\n",
    "    print(c)\n",
    "add()\n",
    "    "
   ]
  },
  {
   "cell_type": "code",
   "execution_count": 6,
   "id": "3c2e3f3b-0544-4f82-9d0d-c03173ebbd26",
   "metadata": {},
   "outputs": [],
   "source": [
    "#method 2 parameter with arguments"
   ]
  },
  {
   "cell_type": "code",
   "execution_count": 7,
   "id": "5df93b6b-1681-4d20-bee4-7b8aede8750e",
   "metadata": {},
   "outputs": [
    {
     "name": "stdout",
     "output_type": "stream",
     "text": [
      "3\n"
     ]
    }
   ],
   "source": [
    "def add(a,b):\n",
    "    c=a+b\n",
    "    print(c)\n",
    "add(1,2)"
   ]
  },
  {
   "cell_type": "code",
   "execution_count": 8,
   "id": "66b56270-5463-4646-8c4c-c78018895c3e",
   "metadata": {},
   "outputs": [
    {
     "name": "stdin",
     "output_type": "stream",
     "text": [
      "enter 1\n",
      "enter 2 2\n"
     ]
    },
    {
     "name": "stdout",
     "output_type": "stream",
     "text": [
      "3\n"
     ]
    }
   ],
   "source": [
    "#metrhod 3\n",
    "def add():\n",
    "    a=int(input(\"enter\"))\n",
    "    b=int(input(\"enter 2\"))\n",
    "    c=a+b\n",
    "    print(c)\n",
    "add()"
   ]
  },
  {
   "cell_type": "code",
   "execution_count": 9,
   "id": "89b2ba4a-8fa7-4523-8d79-187c2e14a791",
   "metadata": {},
   "outputs": [
    {
     "name": "stdout",
     "output_type": "stream",
     "text": [
      "120\n"
     ]
    }
   ],
   "source": [
    "#wap of fctoriw;\n",
    "def fact():\n",
    "    n=5\n",
    "    f=1\n",
    "    for i in range(1,n+1):\n",
    "        f=f*i\n",
    "    print(f)\n",
    "fact()"
   ]
  },
  {
   "cell_type": "code",
   "execution_count": 10,
   "id": "6e40bba7-4025-40f8-b306-e7656026e866",
   "metadata": {},
   "outputs": [
    {
     "name": "stdout",
     "output_type": "stream",
     "text": [
      "even\n"
     ]
    }
   ],
   "source": [
    "#wap to check even or odd\n",
    "def eveodd():\n",
    "    a=4\n",
    "    if(a%2==0):\n",
    "        print(\"even\")\n",
    "    else:\n",
    "        print(\"odd\")\n",
    "eveodd()"
   ]
  },
  {
   "cell_type": "code",
   "execution_count": 11,
   "id": "09fea64b-7c24-481d-a654-ce446964ed95",
   "metadata": {},
   "outputs": [
    {
     "name": "stdout",
     "output_type": "stream",
     "text": [
      "4\n"
     ]
    }
   ],
   "source": [
    "#wap to count digit\n",
    "def cou():\n",
    "    count=0\n",
    "    n=1234\n",
    "    while n>0:\n",
    "        n//=10\n",
    "        count+=1\n",
    "    print(count)\n",
    "cou()\n",
    "        "
   ]
  },
  {
   "cell_type": "code",
   "execution_count": 13,
   "id": "e4179da0-1384-430e-b1c6-6d165f34ebca",
   "metadata": {},
   "outputs": [
    {
     "name": "stdout",
     "output_type": "stream",
     "text": [
      "153\n",
      "armstriong\n"
     ]
    }
   ],
   "source": [
    "#armstrong\n",
    "def arm():\n",
    "    n=153\n",
    "    num=n\n",
    "    sum=0\n",
    "    while n>0:\n",
    "        r=n%10\n",
    "        sum=sum+r*r*r\n",
    "        n//=10\n",
    "    print(sum)\n",
    "    if sum==num:\n",
    "        print(\"armstriong\")\n",
    "    else:\n",
    "        print(\"not\")\n",
    "arm()"
   ]
  },
  {
   "cell_type": "code",
   "execution_count": 16,
   "id": "facd8198-81e9-4836-a2cf-6bc4e2889c53",
   "metadata": {},
   "outputs": [
    {
     "name": "stdout",
     "output_type": "stream",
     "text": [
      "231\n",
      "not\n"
     ]
    }
   ],
   "source": [
    "#pali\n",
    "def pali(n):\n",
    "    num=n\n",
    "    sum=0\n",
    "    while n>0:\n",
    "        r=n%10\n",
    "        sum=sum*10+r\n",
    "        n//=10\n",
    "    print(sum)\n",
    "    if(num==sum):\n",
    "        print(\"pakiiindorme\")\n",
    "    else:\n",
    "        print(\"not\")\n",
    "pali(132)"
   ]
  },
  {
   "cell_type": "code",
   "execution_count": 19,
   "id": "4bb074ef-3c15-44b2-902a-9c0ce1355f26",
   "metadata": {},
   "outputs": [
    {
     "name": "stdout",
     "output_type": "stream",
     "text": [
      "27\n"
     ]
    }
   ],
   "source": [
    "#square of num\n",
    "def sq():\n",
    "    n=3\n",
    "    s=n**2\n",
    "    print(s)\n",
    "sq()"
   ]
  },
  {
   "cell_type": "code",
   "execution_count": 20,
   "id": "5faf934f-ee1f-44fb-b661-2554573654cd",
   "metadata": {},
   "outputs": [
    {
     "name": "stdout",
     "output_type": "stream",
     "text": [
      "125\n"
     ]
    }
   ],
   "source": [
    "def cu():\n",
    "    n=5\n",
    "    s=n**3\n",
    "    print(s)\n",
    "cu()"
   ]
  },
  {
   "cell_type": "code",
   "execution_count": 24,
   "id": "a0c76ea1-6fcd-4b93-860b-51fe1c5b3b93",
   "metadata": {},
   "outputs": [
    {
     "name": "stdout",
     "output_type": "stream",
     "text": [
      "Shopping List:\n",
      "1. Apples\n",
      "2. Bread\n",
      "3. Milk\n"
     ]
    }
   ],
   "source": [
    "print(\"Shopping List:\\n1. Apples\\n2. Bread\\n3. Milk\")"
   ]
  },
  {
   "cell_type": "code",
   "execution_count": 30,
   "id": "be177b95-a33f-4b4e-bb68-72390e46fb46",
   "metadata": {},
   "outputs": [
    {
     "name": "stdin",
     "output_type": "stream",
     "text": [
      "How much money do you spend per month:  10000\n"
     ]
    },
    {
     "name": "stdout",
     "output_type": "stream",
     "text": [
      "0.0215\n"
     ]
    }
   ],
   "source": [
    "money = int(input(\"How much money do you spend per month: \"))\n",
    "\n",
    "# the number of miles per unit of money\n",
    "n_miles = 2\n",
    "\n",
    "# earned miles\n",
    "miles_per_month = money * n_miles\n",
    "\n",
    "# the distance between London and Paris\n",
    "distance = 215\n",
    "\n",
    "# how many months do you need to get\n",
    "# a free trip from London to Paris and back\n",
    "print(distance * 2 / miles_per_month)\n"
   ]
  },
  {
   "cell_type": "code",
   "execution_count": 31,
   "id": "38d39524-fb67-4820-8cb1-f71c2b1ea606",
   "metadata": {},
   "outputs": [
    {
     "name": "stdout",
     "output_type": "stream",
     "text": [
      "10\n"
     ]
    }
   ],
   "source": [
    "#sum of digit\n",
    "def sd():\n",
    "    i=1234\n",
    "    sum=0\n",
    "    while i>0:\n",
    "        d=i%10\n",
    "        sum=sum+d\n",
    "        i//=10\n",
    "    print(sum)\n",
    "sd()"
   ]
  },
  {
   "cell_type": "code",
   "execution_count": 32,
   "id": "c413319d-df12-43f0-bceb-f8baba0ef11c",
   "metadata": {},
   "outputs": [
    {
     "name": "stdout",
     "output_type": "stream",
     "text": [
      "12\n"
     ]
    }
   ],
   "source": [
    "def sd(n):\n",
    "    sum=0\n",
    "    while n>0:\n",
    "        d=n%10\n",
    "        sum=sum+d\n",
    "        n//=10\n",
    "    print(sum)\n",
    "sd(12333)"
   ]
  },
  {
   "cell_type": "code",
   "execution_count": 34,
   "id": "4ec1a7bb-0b23-4838-a9f7-f826ac4c1649",
   "metadata": {},
   "outputs": [
    {
     "name": "stdout",
     "output_type": "stream",
     "text": [
      "3\n"
     ]
    }
   ],
   "source": [
    "#countofdigit\n",
    "def cd():\n",
    "    count=0\n",
    "    i=123\n",
    "    while i>0:\n",
    "        count+=1\n",
    "        i//=10\n",
    "    print(count)\n",
    "cd()"
   ]
  },
  {
   "cell_type": "code",
   "execution_count": 37,
   "id": "7a8b4e35-0db0-4ffe-90f7-131b07f6a719",
   "metadata": {},
   "outputs": [
    {
     "name": "stdout",
     "output_type": "stream",
     "text": [
      "321\n"
     ]
    }
   ],
   "source": [
    "#rev\n",
    "def re():\n",
    "    i=123\n",
    "    sum=0\n",
    "    while i>0:\n",
    "        d=i%10\n",
    "        sum=sum*10+d\n",
    "        i//=10\n",
    "    print(sum)\n",
    "re()"
   ]
  },
  {
   "cell_type": "code",
   "execution_count": 43,
   "id": "68fdc62f-9816-410c-964f-5d384b0d30de",
   "metadata": {},
   "outputs": [
    {
     "name": "stdout",
     "output_type": "stream",
     "text": [
      "321\n"
     ]
    }
   ],
   "source": [
    "#rev with for loop\n",
    "i=123\n",
    "sum=0\n",
    "d=str(i)\n",
    "for i in range(len(d),0,-1):\n",
    "    r=i%10\n",
    "    sum=sum*10+r\n",
    "    i//=10\n",
    "print(sum)"
   ]
  },
  {
   "cell_type": "code",
   "execution_count": 52,
   "id": "279265f0-1d82-4ee4-b21e-8643bd9b8840",
   "metadata": {},
   "outputs": [
    {
     "name": "stdout",
     "output_type": "stream",
     "text": [
      "6\n"
     ]
    }
   ],
   "source": [
    "#sumdigit with for loop in for loop firstly we convert digit in string to run loop then we only apply modulas or floor division in digits not in string \n",
    "c=123\n",
    "sum=0\n",
    "b=str(c)\n",
    "type(b)\n",
    "for i in range(len(b)):\n",
    "    r=c%10\n",
    "    sum=sum+r\n",
    "    c//=10\n",
    "print(sum)"
   ]
  },
  {
   "cell_type": "code",
   "execution_count": 53,
   "id": "73361277-4406-4eec-b63b-009112d4f808",
   "metadata": {},
   "outputs": [
    {
     "name": "stdout",
     "output_type": "stream",
     "text": [
      "6 4\n"
     ]
    }
   ],
   "source": [
    "#sum of digit even  or odd \n",
    "i=1234\n",
    "even=0\n",
    "odd=0\n",
    "while i>0:\n",
    "    d=i%10\n",
    "    i//=10\n",
    "    if(d%2==0):\n",
    "        even=even+d\n",
    "    else:\n",
    "        odd=odd+d\n",
    "print(even,odd)"
   ]
  },
  {
   "cell_type": "code",
   "execution_count": 54,
   "id": "5435de3d-3420-4fc8-963d-bda6b07b3db4",
   "metadata": {},
   "outputs": [
    {
     "name": "stdout",
     "output_type": "stream",
     "text": [
      "10 4\n"
     ]
    }
   ],
   "source": [
    "def cd():\n",
    "    i=12344\n",
    "    even=0\n",
    "    odd=0\n",
    "    while i>0:\n",
    "        d=i%10\n",
    "        i//=10\n",
    "        if(d%2==0):\n",
    "            even=even+d\n",
    "        else:\n",
    "            odd=odd+d\n",
    "    print(even,odd)\n",
    "cd()\n",
    "            "
   ]
  },
  {
   "cell_type": "code",
   "execution_count": null,
   "id": "91fea90b-e8dd-42f9-8fdd-d4a4921149c6",
   "metadata": {},
   "outputs": [],
   "source": []
  },
  {
   "cell_type": "code",
   "execution_count": 70,
   "id": "2726e0a7-7d0b-44c3-869d-92ae031c430e",
   "metadata": {},
   "outputs": [
    {
     "name": "stdout",
     "output_type": "stream",
     "text": [
      "6 4\n"
     ]
    }
   ],
   "source": [
    "a = 1234 \n",
    "b = str(a) \n",
    "ev = 0\n",
    "od = 0\n",
    "for i in range(len(b)):\n",
    "    c = int(b[i])\n",
    "    if(c%2==0):\n",
    "        ev = ev + c \n",
    "    else:\n",
    "        od = od + c \n",
    "print(ev,od) "
   ]
  },
  {
   "cell_type": "code",
   "execution_count": 77,
   "id": "a81b88b5-e71c-4415-aa24-f2fa1ed8f941",
   "metadata": {},
   "outputs": [
    {
     "name": "stdin",
     "output_type": "stream",
     "text": [
      "enter mnumber 3\n"
     ]
    },
    {
     "name": "stdout",
     "output_type": "stream",
     "text": [
      "37\n"
     ]
    }
   ],
   "source": [
    "n=int(input(\"enter mnumber\"))\n",
    "a=34\n",
    "b=a+n\n",
    "print(b)"
   ]
  },
  {
   "cell_type": "code",
   "execution_count": 78,
   "id": "76a5950f-5fb1-457d-a2f1-45edcb6091c1",
   "metadata": {},
   "outputs": [
    {
     "name": "stdout",
     "output_type": "stream",
     "text": [
      "12\n"
     ]
    }
   ],
   "source": [
    "a=12234\n",
    "sum=0\n",
    "while a>0:\n",
    "    r=a%10\n",
    "    sum=sum+r\n",
    "    a//=10\n",
    "print(sum)"
   ]
  },
  {
   "cell_type": "code",
   "execution_count": 79,
   "id": "0335e2bf-4321-464f-9483-b92ba92370b6",
   "metadata": {},
   "outputs": [],
   "source": [
    "#10ques"
   ]
  },
  {
   "cell_type": "code",
   "execution_count": 90,
   "id": "d03f1389-3d11-49b7-a3c7-6e90ed5f9ce1",
   "metadata": {},
   "outputs": [
    {
     "name": "stdout",
     "output_type": "stream",
     "text": [
      "[None, True, True, None, True] [1, 3]\n"
     ]
    }
   ],
   "source": [
    "#1\n",
    "a=[1,2,4,3,2]\n",
    "def ev(x):\n",
    "    if x%2==0:\n",
    "        return True\n",
    "even=list(filter(ev,a))\n",
    "even\n",
    "\n",
    "odd=list(filter(lambda x:x%2!=0,a))\n",
    "odd\n",
    "print(even,odd)\n"
   ]
  },
  {
   "cell_type": "code",
   "execution_count": 91,
   "id": "a3ac7933-6343-4058-8c55-299bd909d1a9",
   "metadata": {},
   "outputs": [
    {
     "data": {
      "text/plain": [
       "[1, 4, 9]"
      ]
     },
     "execution_count": 91,
     "metadata": {},
     "output_type": "execute_result"
    }
   ],
   "source": [
    "a=[1,2,3]\n",
    "def sq(x):\n",
    "   return x**2\n",
    "b=list(map(sq,a))\n",
    "b"
   ]
  },
  {
   "cell_type": "code",
   "execution_count": 97,
   "id": "72361af4-3b00-403a-b4e8-ef5aeaa8c1b8",
   "metadata": {},
   "outputs": [
    {
     "data": {
      "text/plain": [
       "1"
      ]
     },
     "execution_count": 97,
     "metadata": {},
     "output_type": "execute_result"
    }
   ],
   "source": [
    "#smallest largest number\n",
    "a=[1,23,3]\n",
    "l=a[0]\n",
    "for num in a:\n",
    "    if num>l:\n",
    "        l=num\n",
    "l\n",
    "s=a[0]\n",
    "for num in a:\n",
    "    if num<s:\n",
    "        s=num\n",
    "s"
   ]
  },
  {
   "cell_type": "code",
   "execution_count": null,
   "id": "b1833084-0502-417d-b8a1-7a89c7cd1381",
   "metadata": {},
   "outputs": [],
   "source": []
  }
 ],
 "metadata": {
  "kernelspec": {
   "display_name": "Python 3 (ipykernel)",
   "language": "python",
   "name": "python3"
  },
  "language_info": {
   "codemirror_mode": {
    "name": "ipython",
    "version": 3
   },
   "file_extension": ".py",
   "mimetype": "text/x-python",
   "name": "python",
   "nbconvert_exporter": "python",
   "pygments_lexer": "ipython3",
   "version": "3.12.7"
  }
 },
 "nbformat": 4,
 "nbformat_minor": 5
}
