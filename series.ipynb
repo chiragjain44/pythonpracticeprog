{
 "cells": [
  {
   "cell_type": "code",
   "execution_count": 1,
   "id": "524166be-17b5-465b-86bc-4b2822ac59dc",
   "metadata": {},
   "outputs": [],
   "source": [
    "import pandas as pd\n",
    "#series operations "
   ]
  },
  {
   "cell_type": "code",
   "execution_count": 12,
   "id": "27cf9d9b-0343-471a-8d3c-ff6e157c09bb",
   "metadata": {},
   "outputs": [],
   "source": [
    "a=pd.Series([1,2,3,5,2])"
   ]
  },
  {
   "cell_type": "code",
   "execution_count": 14,
   "id": "bc2606e1-7bbd-41a4-b9e1-42ea6a698916",
   "metadata": {},
   "outputs": [
    {
     "data": {
      "text/plain": [
       "np.float64(2.6)"
      ]
     },
     "execution_count": 14,
     "metadata": {},
     "output_type": "execute_result"
    }
   ],
   "source": [
    "a.mean()"
   ]
  },
  {
   "cell_type": "code",
   "execution_count": 15,
   "id": "6abfc251-9b7c-4712-84fd-c7baae882b38",
   "metadata": {},
   "outputs": [
    {
     "data": {
      "text/plain": [
       "np.int64(13)"
      ]
     },
     "execution_count": 15,
     "metadata": {},
     "output_type": "execute_result"
    }
   ],
   "source": [
    "a.sum()"
   ]
  },
  {
   "cell_type": "code",
   "execution_count": 16,
   "id": "f610f084-e3d1-4118-b0b5-aa2095e7557e",
   "metadata": {},
   "outputs": [
    {
     "data": {
      "text/plain": [
       "np.int64(1)"
      ]
     },
     "execution_count": 16,
     "metadata": {},
     "output_type": "execute_result"
    }
   ],
   "source": [
    "a.min()"
   ]
  },
  {
   "cell_type": "code",
   "execution_count": 17,
   "id": "b0007be7-a6e8-45c4-9fd0-a8841e9b53ab",
   "metadata": {},
   "outputs": [
    {
     "data": {
      "text/plain": [
       "array([1, 2, 3, 5, 2])"
      ]
     },
     "execution_count": 17,
     "metadata": {},
     "output_type": "execute_result"
    }
   ],
   "source": [
    "a.values"
   ]
  },
  {
   "cell_type": "code",
   "execution_count": 18,
   "id": "2a687f78-61c0-4f86-8696-d3d2e0c01cf8",
   "metadata": {},
   "outputs": [
    {
     "data": {
      "text/plain": [
       "5"
      ]
     },
     "execution_count": 18,
     "metadata": {},
     "output_type": "execute_result"
    }
   ],
   "source": [
    "a.size"
   ]
  },
  {
   "cell_type": "code",
   "execution_count": 13,
   "id": "ef25cae2-145a-46e1-8af4-05a1db897d08",
   "metadata": {},
   "outputs": [
    {
     "data": {
      "text/plain": [
       "0    1\n",
       "1    2\n",
       "4    2\n",
       "2    3\n",
       "3    5\n",
       "dtype: int64"
      ]
     },
     "execution_count": 13,
     "metadata": {},
     "output_type": "execute_result"
    }
   ],
   "source": [
    "a.sort_values()"
   ]
  },
  {
   "cell_type": "code",
   "execution_count": 27,
   "id": "ea3a2d41-1a91-4531-9a67-a2074bd011c5",
   "metadata": {},
   "outputs": [],
   "source": [
    "se=pd.read_csv(\"D://pandas//nupu.csv\")"
   ]
  },
  {
   "cell_type": "code",
   "execution_count": 28,
   "id": "196c672f-dee5-4957-86a9-4a29ab25c99f",
   "metadata": {},
   "outputs": [
    {
     "data": {
      "text/html": [
       "<div>\n",
       "<style scoped>\n",
       "    .dataframe tbody tr th:only-of-type {\n",
       "        vertical-align: middle;\n",
       "    }\n",
       "\n",
       "    .dataframe tbody tr th {\n",
       "        vertical-align: top;\n",
       "    }\n",
       "\n",
       "    .dataframe thead th {\n",
       "        text-align: right;\n",
       "    }\n",
       "</style>\n",
       "<table border=\"1\" class=\"dataframe\">\n",
       "  <thead>\n",
       "    <tr style=\"text-align: right;\">\n",
       "      <th></th>\n",
       "      <th>Unnamed: 0</th>\n",
       "      <th>stu_id</th>\n",
       "      <th>stu_name</th>\n",
       "      <th>semster</th>\n",
       "      <th>dept</th>\n",
       "      <th>stu_city</th>\n",
       "    </tr>\n",
       "  </thead>\n",
       "  <tbody>\n",
       "    <tr>\n",
       "      <th>0</th>\n",
       "      <td>0</td>\n",
       "      <td>1</td>\n",
       "      <td>chirag</td>\n",
       "      <td>1</td>\n",
       "      <td>it</td>\n",
       "      <td>kota</td>\n",
       "    </tr>\n",
       "    <tr>\n",
       "      <th>1</th>\n",
       "      <td>1</td>\n",
       "      <td>2</td>\n",
       "      <td>riya</td>\n",
       "      <td>2</td>\n",
       "      <td>cs</td>\n",
       "      <td>indergarh</td>\n",
       "    </tr>\n",
       "    <tr>\n",
       "      <th>2</th>\n",
       "      <td>2</td>\n",
       "      <td>3</td>\n",
       "      <td>nupur</td>\n",
       "      <td>3</td>\n",
       "      <td>data</td>\n",
       "      <td>jaipur</td>\n",
       "    </tr>\n",
       "    <tr>\n",
       "      <th>3</th>\n",
       "      <td>3</td>\n",
       "      <td>4</td>\n",
       "      <td>diya</td>\n",
       "      <td>4</td>\n",
       "      <td>cs</td>\n",
       "      <td>anta</td>\n",
       "    </tr>\n",
       "    <tr>\n",
       "      <th>4</th>\n",
       "      <td>4</td>\n",
       "      <td>5</td>\n",
       "      <td>kashish</td>\n",
       "      <td>5</td>\n",
       "      <td>networking</td>\n",
       "      <td>ramganjmanedi</td>\n",
       "    </tr>\n",
       "    <tr>\n",
       "      <th>5</th>\n",
       "      <td>5</td>\n",
       "      <td>6</td>\n",
       "      <td>chelsi</td>\n",
       "      <td>1</td>\n",
       "      <td>data</td>\n",
       "      <td>dudu</td>\n",
       "    </tr>\n",
       "    <tr>\n",
       "      <th>6</th>\n",
       "      <td>6</td>\n",
       "      <td>7</td>\n",
       "      <td>arun</td>\n",
       "      <td>2</td>\n",
       "      <td>Networking</td>\n",
       "      <td>dausa</td>\n",
       "    </tr>\n",
       "    <tr>\n",
       "      <th>7</th>\n",
       "      <td>7</td>\n",
       "      <td>8</td>\n",
       "      <td>lalit</td>\n",
       "      <td>3</td>\n",
       "      <td>cs</td>\n",
       "      <td>sawaimadhopur</td>\n",
       "    </tr>\n",
       "    <tr>\n",
       "      <th>8</th>\n",
       "      <td>8</td>\n",
       "      <td>9</td>\n",
       "      <td>ashu</td>\n",
       "      <td>4</td>\n",
       "      <td>it</td>\n",
       "      <td>neemuch</td>\n",
       "    </tr>\n",
       "    <tr>\n",
       "      <th>9</th>\n",
       "      <td>9</td>\n",
       "      <td>10</td>\n",
       "      <td>ananya</td>\n",
       "      <td>5</td>\n",
       "      <td>cloud</td>\n",
       "      <td>ajmer</td>\n",
       "    </tr>\n",
       "  </tbody>\n",
       "</table>\n",
       "</div>"
      ],
      "text/plain": [
       "   Unnamed: 0  stu_id stu_name  semster        dept       stu_city\n",
       "0           0       1   chirag        1          it           kota\n",
       "1           1       2     riya        2          cs      indergarh\n",
       "2           2       3    nupur        3        data         jaipur\n",
       "3           3       4     diya        4          cs           anta\n",
       "4           4       5  kashish        5  networking  ramganjmanedi\n",
       "5           5       6   chelsi        1        data           dudu\n",
       "6           6       7     arun        2  Networking          dausa\n",
       "7           7       8    lalit        3          cs  sawaimadhopur\n",
       "8           8       9     ashu        4          it        neemuch\n",
       "9           9      10   ananya        5       cloud          ajmer"
      ]
     },
     "execution_count": 28,
     "metadata": {},
     "output_type": "execute_result"
    }
   ],
   "source": [
    "se"
   ]
  },
  {
   "cell_type": "code",
   "execution_count": 31,
   "id": "7d50049c-d4cc-4b47-bf90-25445e77d2e9",
   "metadata": {},
   "outputs": [
    {
     "data": {
      "text/plain": [
       "array([[0, 1, 'chirag', 1, 'it', 'kota'],\n",
       "       [1, 2, 'riya', 2, 'cs', 'indergarh'],\n",
       "       [2, 3, 'nupur', 3, 'data', 'jaipur'],\n",
       "       [3, 4, 'diya', 4, 'cs', 'anta'],\n",
       "       [4, 5, 'kashish', 5, 'networking', 'ramganjmanedi'],\n",
       "       [5, 6, 'chelsi', 1, 'data', 'dudu'],\n",
       "       [6, 7, 'arun', 2, 'Networking', 'dausa'],\n",
       "       [7, 8, 'lalit', 3, 'cs', 'sawaimadhopur'],\n",
       "       [8, 9, 'ashu', 4, 'it', 'neemuch'],\n",
       "       [9, 10, 'ananya', 5, 'cloud', 'ajmer']], dtype=object)"
      ]
     },
     "execution_count": 31,
     "metadata": {},
     "output_type": "execute_result"
    }
   ],
   "source": [
    "se.values"
   ]
  },
  {
   "cell_type": "code",
   "execution_count": 32,
   "id": "268aa1ee-c1f0-496b-8921-2ca4517a9c83",
   "metadata": {},
   "outputs": [
    {
     "data": {
      "text/plain": [
       "60"
      ]
     },
     "execution_count": 32,
     "metadata": {},
     "output_type": "execute_result"
    }
   ],
   "source": [
    "se.size"
   ]
  },
  {
   "cell_type": "code",
   "execution_count": 38,
   "id": "4c4c4eb4-1bda-4906-87fc-fd92da5d59c8",
   "metadata": {},
   "outputs": [],
   "source": [
    "p=se.sort_values(by='semster')"
   ]
  },
  {
   "cell_type": "code",
   "execution_count": 39,
   "id": "d842ac71-f3a5-404d-8ac2-addac77707c4",
   "metadata": {},
   "outputs": [
    {
     "data": {
      "text/html": [
       "<div>\n",
       "<style scoped>\n",
       "    .dataframe tbody tr th:only-of-type {\n",
       "        vertical-align: middle;\n",
       "    }\n",
       "\n",
       "    .dataframe tbody tr th {\n",
       "        vertical-align: top;\n",
       "    }\n",
       "\n",
       "    .dataframe thead th {\n",
       "        text-align: right;\n",
       "    }\n",
       "</style>\n",
       "<table border=\"1\" class=\"dataframe\">\n",
       "  <thead>\n",
       "    <tr style=\"text-align: right;\">\n",
       "      <th></th>\n",
       "      <th>Unnamed: 0</th>\n",
       "      <th>stu_id</th>\n",
       "      <th>stu_name</th>\n",
       "      <th>semster</th>\n",
       "      <th>dept</th>\n",
       "      <th>stu_city</th>\n",
       "    </tr>\n",
       "  </thead>\n",
       "  <tbody>\n",
       "    <tr>\n",
       "      <th>0</th>\n",
       "      <td>0</td>\n",
       "      <td>1</td>\n",
       "      <td>chirag</td>\n",
       "      <td>1</td>\n",
       "      <td>it</td>\n",
       "      <td>kota</td>\n",
       "    </tr>\n",
       "    <tr>\n",
       "      <th>5</th>\n",
       "      <td>5</td>\n",
       "      <td>6</td>\n",
       "      <td>chelsi</td>\n",
       "      <td>1</td>\n",
       "      <td>data</td>\n",
       "      <td>dudu</td>\n",
       "    </tr>\n",
       "    <tr>\n",
       "      <th>6</th>\n",
       "      <td>6</td>\n",
       "      <td>7</td>\n",
       "      <td>arun</td>\n",
       "      <td>2</td>\n",
       "      <td>Networking</td>\n",
       "      <td>dausa</td>\n",
       "    </tr>\n",
       "    <tr>\n",
       "      <th>1</th>\n",
       "      <td>1</td>\n",
       "      <td>2</td>\n",
       "      <td>riya</td>\n",
       "      <td>2</td>\n",
       "      <td>cs</td>\n",
       "      <td>indergarh</td>\n",
       "    </tr>\n",
       "    <tr>\n",
       "      <th>7</th>\n",
       "      <td>7</td>\n",
       "      <td>8</td>\n",
       "      <td>lalit</td>\n",
       "      <td>3</td>\n",
       "      <td>cs</td>\n",
       "      <td>sawaimadhopur</td>\n",
       "    </tr>\n",
       "    <tr>\n",
       "      <th>2</th>\n",
       "      <td>2</td>\n",
       "      <td>3</td>\n",
       "      <td>nupur</td>\n",
       "      <td>3</td>\n",
       "      <td>data</td>\n",
       "      <td>jaipur</td>\n",
       "    </tr>\n",
       "    <tr>\n",
       "      <th>3</th>\n",
       "      <td>3</td>\n",
       "      <td>4</td>\n",
       "      <td>diya</td>\n",
       "      <td>4</td>\n",
       "      <td>cs</td>\n",
       "      <td>anta</td>\n",
       "    </tr>\n",
       "    <tr>\n",
       "      <th>8</th>\n",
       "      <td>8</td>\n",
       "      <td>9</td>\n",
       "      <td>ashu</td>\n",
       "      <td>4</td>\n",
       "      <td>it</td>\n",
       "      <td>neemuch</td>\n",
       "    </tr>\n",
       "    <tr>\n",
       "      <th>4</th>\n",
       "      <td>4</td>\n",
       "      <td>5</td>\n",
       "      <td>kashish</td>\n",
       "      <td>5</td>\n",
       "      <td>networking</td>\n",
       "      <td>ramganjmanedi</td>\n",
       "    </tr>\n",
       "    <tr>\n",
       "      <th>9</th>\n",
       "      <td>9</td>\n",
       "      <td>10</td>\n",
       "      <td>ananya</td>\n",
       "      <td>5</td>\n",
       "      <td>cloud</td>\n",
       "      <td>ajmer</td>\n",
       "    </tr>\n",
       "  </tbody>\n",
       "</table>\n",
       "</div>"
      ],
      "text/plain": [
       "   Unnamed: 0  stu_id stu_name  semster        dept       stu_city\n",
       "0           0       1   chirag        1          it           kota\n",
       "5           5       6   chelsi        1        data           dudu\n",
       "6           6       7     arun        2  Networking          dausa\n",
       "1           1       2     riya        2          cs      indergarh\n",
       "7           7       8    lalit        3          cs  sawaimadhopur\n",
       "2           2       3    nupur        3        data         jaipur\n",
       "3           3       4     diya        4          cs           anta\n",
       "8           8       9     ashu        4          it        neemuch\n",
       "4           4       5  kashish        5  networking  ramganjmanedi\n",
       "9           9      10   ananya        5       cloud          ajmer"
      ]
     },
     "execution_count": 39,
     "metadata": {},
     "output_type": "execute_result"
    }
   ],
   "source": [
    "p"
   ]
  },
  {
   "cell_type": "code",
   "execution_count": 41,
   "id": "1a337dcf-dcbf-44c7-98c7-e01f22a0ee9f",
   "metadata": {},
   "outputs": [
    {
     "data": {
      "text/html": [
       "<div>\n",
       "<style scoped>\n",
       "    .dataframe tbody tr th:only-of-type {\n",
       "        vertical-align: middle;\n",
       "    }\n",
       "\n",
       "    .dataframe tbody tr th {\n",
       "        vertical-align: top;\n",
       "    }\n",
       "\n",
       "    .dataframe thead th {\n",
       "        text-align: right;\n",
       "    }\n",
       "</style>\n",
       "<table border=\"1\" class=\"dataframe\">\n",
       "  <thead>\n",
       "    <tr style=\"text-align: right;\">\n",
       "      <th></th>\n",
       "      <th>Unnamed: 0</th>\n",
       "      <th>stu_id</th>\n",
       "      <th>stu_name</th>\n",
       "      <th>semster</th>\n",
       "      <th>dept</th>\n",
       "      <th>stu_city</th>\n",
       "    </tr>\n",
       "  </thead>\n",
       "  <tbody>\n",
       "    <tr>\n",
       "      <th>0</th>\n",
       "      <td>0</td>\n",
       "      <td>1</td>\n",
       "      <td>chirag</td>\n",
       "      <td>1</td>\n",
       "      <td>it</td>\n",
       "      <td>kota</td>\n",
       "    </tr>\n",
       "    <tr>\n",
       "      <th>1</th>\n",
       "      <td>1</td>\n",
       "      <td>2</td>\n",
       "      <td>riya</td>\n",
       "      <td>2</td>\n",
       "      <td>cs</td>\n",
       "      <td>indergarh</td>\n",
       "    </tr>\n",
       "    <tr>\n",
       "      <th>2</th>\n",
       "      <td>2</td>\n",
       "      <td>3</td>\n",
       "      <td>nupur</td>\n",
       "      <td>3</td>\n",
       "      <td>data</td>\n",
       "      <td>jaipur</td>\n",
       "    </tr>\n",
       "    <tr>\n",
       "      <th>3</th>\n",
       "      <td>3</td>\n",
       "      <td>4</td>\n",
       "      <td>diya</td>\n",
       "      <td>4</td>\n",
       "      <td>cs</td>\n",
       "      <td>anta</td>\n",
       "    </tr>\n",
       "    <tr>\n",
       "      <th>4</th>\n",
       "      <td>4</td>\n",
       "      <td>5</td>\n",
       "      <td>kashish</td>\n",
       "      <td>5</td>\n",
       "      <td>networking</td>\n",
       "      <td>ramganjmanedi</td>\n",
       "    </tr>\n",
       "    <tr>\n",
       "      <th>5</th>\n",
       "      <td>5</td>\n",
       "      <td>6</td>\n",
       "      <td>chelsi</td>\n",
       "      <td>1</td>\n",
       "      <td>data</td>\n",
       "      <td>dudu</td>\n",
       "    </tr>\n",
       "    <tr>\n",
       "      <th>6</th>\n",
       "      <td>6</td>\n",
       "      <td>7</td>\n",
       "      <td>arun</td>\n",
       "      <td>2</td>\n",
       "      <td>Networking</td>\n",
       "      <td>dausa</td>\n",
       "    </tr>\n",
       "    <tr>\n",
       "      <th>7</th>\n",
       "      <td>7</td>\n",
       "      <td>8</td>\n",
       "      <td>lalit</td>\n",
       "      <td>3</td>\n",
       "      <td>cs</td>\n",
       "      <td>sawaimadhopur</td>\n",
       "    </tr>\n",
       "    <tr>\n",
       "      <th>8</th>\n",
       "      <td>8</td>\n",
       "      <td>9</td>\n",
       "      <td>ashu</td>\n",
       "      <td>4</td>\n",
       "      <td>it</td>\n",
       "      <td>neemuch</td>\n",
       "    </tr>\n",
       "    <tr>\n",
       "      <th>9</th>\n",
       "      <td>9</td>\n",
       "      <td>10</td>\n",
       "      <td>ananya</td>\n",
       "      <td>5</td>\n",
       "      <td>cloud</td>\n",
       "      <td>ajmer</td>\n",
       "    </tr>\n",
       "  </tbody>\n",
       "</table>\n",
       "</div>"
      ],
      "text/plain": [
       "   Unnamed: 0  stu_id stu_name  semster        dept       stu_city\n",
       "0           0       1   chirag        1          it           kota\n",
       "1           1       2     riya        2          cs      indergarh\n",
       "2           2       3    nupur        3        data         jaipur\n",
       "3           3       4     diya        4          cs           anta\n",
       "4           4       5  kashish        5  networking  ramganjmanedi\n",
       "5           5       6   chelsi        1        data           dudu\n",
       "6           6       7     arun        2  Networking          dausa\n",
       "7           7       8    lalit        3          cs  sawaimadhopur\n",
       "8           8       9     ashu        4          it        neemuch\n",
       "9           9      10   ananya        5       cloud          ajmer"
      ]
     },
     "execution_count": 41,
     "metadata": {},
     "output_type": "execute_result"
    }
   ],
   "source": [
    "se.sort_index()"
   ]
  },
  {
   "cell_type": "code",
   "execution_count": 42,
   "id": "b0992dc3-030e-4ced-b8b8-ec4a400af39c",
   "metadata": {},
   "outputs": [],
   "source": [
    "d=se.rename(columns={'semster':'updatedsem'})"
   ]
  },
  {
   "cell_type": "code",
   "execution_count": 46,
   "id": "2a95cff2-c9d7-4161-8870-555b6c120908",
   "metadata": {},
   "outputs": [
    {
     "data": {
      "text/html": [
       "<div>\n",
       "<style scoped>\n",
       "    .dataframe tbody tr th:only-of-type {\n",
       "        vertical-align: middle;\n",
       "    }\n",
       "\n",
       "    .dataframe tbody tr th {\n",
       "        vertical-align: top;\n",
       "    }\n",
       "\n",
       "    .dataframe thead th {\n",
       "        text-align: right;\n",
       "    }\n",
       "</style>\n",
       "<table border=\"1\" class=\"dataframe\">\n",
       "  <thead>\n",
       "    <tr style=\"text-align: right;\">\n",
       "      <th></th>\n",
       "      <th>Unnamed: 0</th>\n",
       "      <th>stu_id</th>\n",
       "      <th>stu_name</th>\n",
       "      <th>updatedsem</th>\n",
       "      <th>dept</th>\n",
       "      <th>stu_city</th>\n",
       "    </tr>\n",
       "  </thead>\n",
       "  <tbody>\n",
       "    <tr>\n",
       "      <th>0</th>\n",
       "      <td>0</td>\n",
       "      <td>1</td>\n",
       "      <td>chirag</td>\n",
       "      <td>1</td>\n",
       "      <td>it</td>\n",
       "      <td>kota</td>\n",
       "    </tr>\n",
       "    <tr>\n",
       "      <th>1</th>\n",
       "      <td>1</td>\n",
       "      <td>2</td>\n",
       "      <td>riya</td>\n",
       "      <td>2</td>\n",
       "      <td>cs</td>\n",
       "      <td>indergarh</td>\n",
       "    </tr>\n",
       "    <tr>\n",
       "      <th>2</th>\n",
       "      <td>2</td>\n",
       "      <td>3</td>\n",
       "      <td>nupur</td>\n",
       "      <td>3</td>\n",
       "      <td>data</td>\n",
       "      <td>jaipur</td>\n",
       "    </tr>\n",
       "    <tr>\n",
       "      <th>3</th>\n",
       "      <td>3</td>\n",
       "      <td>4</td>\n",
       "      <td>diya</td>\n",
       "      <td>4</td>\n",
       "      <td>cs</td>\n",
       "      <td>anta</td>\n",
       "    </tr>\n",
       "    <tr>\n",
       "      <th>4</th>\n",
       "      <td>4</td>\n",
       "      <td>5</td>\n",
       "      <td>kashish</td>\n",
       "      <td>5</td>\n",
       "      <td>networking</td>\n",
       "      <td>ramganjmanedi</td>\n",
       "    </tr>\n",
       "    <tr>\n",
       "      <th>5</th>\n",
       "      <td>5</td>\n",
       "      <td>6</td>\n",
       "      <td>chelsi</td>\n",
       "      <td>1</td>\n",
       "      <td>data</td>\n",
       "      <td>dudu</td>\n",
       "    </tr>\n",
       "    <tr>\n",
       "      <th>6</th>\n",
       "      <td>6</td>\n",
       "      <td>7</td>\n",
       "      <td>arun</td>\n",
       "      <td>2</td>\n",
       "      <td>Networking</td>\n",
       "      <td>dausa</td>\n",
       "    </tr>\n",
       "    <tr>\n",
       "      <th>7</th>\n",
       "      <td>7</td>\n",
       "      <td>8</td>\n",
       "      <td>lalit</td>\n",
       "      <td>3</td>\n",
       "      <td>cs</td>\n",
       "      <td>sawaimadhopur</td>\n",
       "    </tr>\n",
       "    <tr>\n",
       "      <th>8</th>\n",
       "      <td>8</td>\n",
       "      <td>9</td>\n",
       "      <td>ashu</td>\n",
       "      <td>4</td>\n",
       "      <td>it</td>\n",
       "      <td>neemuch</td>\n",
       "    </tr>\n",
       "    <tr>\n",
       "      <th>9</th>\n",
       "      <td>9</td>\n",
       "      <td>10</td>\n",
       "      <td>ananya</td>\n",
       "      <td>5</td>\n",
       "      <td>cloud</td>\n",
       "      <td>ajmer</td>\n",
       "    </tr>\n",
       "  </tbody>\n",
       "</table>\n",
       "</div>"
      ],
      "text/plain": [
       "   Unnamed: 0  stu_id stu_name  updatedsem        dept       stu_city\n",
       "0           0       1   chirag           1          it           kota\n",
       "1           1       2     riya           2          cs      indergarh\n",
       "2           2       3    nupur           3        data         jaipur\n",
       "3           3       4     diya           4          cs           anta\n",
       "4           4       5  kashish           5  networking  ramganjmanedi\n",
       "5           5       6   chelsi           1        data           dudu\n",
       "6           6       7     arun           2  Networking          dausa\n",
       "7           7       8    lalit           3          cs  sawaimadhopur\n",
       "8           8       9     ashu           4          it        neemuch\n",
       "9           9      10   ananya           5       cloud          ajmer"
      ]
     },
     "execution_count": 46,
     "metadata": {},
     "output_type": "execute_result"
    }
   ],
   "source": [
    "d"
   ]
  },
  {
   "cell_type": "code",
   "execution_count": 49,
   "id": "4e8d82cc-e40b-464e-880f-5b05bc242b7b",
   "metadata": {},
   "outputs": [],
   "source": [
    "import pandas as pd"
   ]
  },
  {
   "cell_type": "code",
   "execution_count": 50,
   "id": "6adf241e-2152-4c84-9ba6-fedac37fea02",
   "metadata": {},
   "outputs": [
    {
     "ename": "NameError",
     "evalue": "name 'stu_id' is not defined",
     "output_type": "error",
     "traceback": [
      "\u001b[1;31m---------------------------------------------------------------------------\u001b[0m",
      "\u001b[1;31mNameError\u001b[0m                                 Traceback (most recent call last)",
      "Cell \u001b[1;32mIn[50], line 1\u001b[0m\n\u001b[1;32m----> 1\u001b[0m d[stu_id]\u001b[38;5;241m=\u001b[39md[stu_id]\u001b[38;5;241m.\u001b[39mastype(\u001b[38;5;28mfloat\u001b[39m)\n",
      "\u001b[1;31mNameError\u001b[0m: name 'stu_id' is not defined"
     ]
    }
   ],
   "source": [
    "d[stu_id]=d[stu_id].astype(float)"
   ]
  },
  {
   "cell_type": "code",
   "execution_count": null,
   "id": "7c2501d3-da1a-4c5e-bcd4-46a7b8d40cce",
   "metadata": {},
   "outputs": [],
   "source": []
  }
 ],
 "metadata": {
  "kernelspec": {
   "display_name": "Python 3 (ipykernel)",
   "language": "python",
   "name": "python3"
  },
  "language_info": {
   "codemirror_mode": {
    "name": "ipython",
    "version": 3
   },
   "file_extension": ".py",
   "mimetype": "text/x-python",
   "name": "python",
   "nbconvert_exporter": "python",
   "pygments_lexer": "ipython3",
   "version": "3.12.7"
  }
 },
 "nbformat": 4,
 "nbformat_minor": 5
}
