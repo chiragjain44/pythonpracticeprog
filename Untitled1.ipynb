{
  "nbformat": 4,
  "nbformat_minor": 0,
  "metadata": {
    "colab": {
      "provenance": []
    },
    "kernelspec": {
      "name": "python3",
      "display_name": "Python 3"
    },
    "language_info": {
      "name": "python"
    }
  },
  "cells": [
    {
      "cell_type": "code",
      "execution_count": 1,
      "metadata": {
        "id": "pDH85d1DZtFt"
      },
      "outputs": [],
      "source": [
        "#additon of three number"
      ]
    },
    {
      "cell_type": "code",
      "source": [
        "a=30\n",
        "b=20\n",
        "c=90\n",
        "d=a+b+c\n",
        "d"
      ],
      "metadata": {
        "colab": {
          "base_uri": "https://localhost:8080/"
        },
        "id": "L6yUL2w7Zwhy",
        "outputId": "174167be-d6ba-42d7-8386-46e552d41d8b"
      },
      "execution_count": 2,
      "outputs": [
        {
          "output_type": "execute_result",
          "data": {
            "text/plain": [
              "140"
            ]
          },
          "metadata": {},
          "execution_count": 2
        }
      ]
    },
    {
      "cell_type": "code",
      "source": [
        "a=int(input(\"enter number\"))\n",
        "b=int(input(\"enter second number\"))\n",
        "c=a*b\n",
        "c"
      ],
      "metadata": {
        "colab": {
          "base_uri": "https://localhost:8080/"
        },
        "id": "UaDcY-xxZ1J5",
        "outputId": "766de721-71f6-4202-d5ec-8f0098010588"
      },
      "execution_count": 3,
      "outputs": [
        {
          "name": "stdout",
          "output_type": "stream",
          "text": [
            "enter number10\n",
            "enter second number2\n"
          ]
        },
        {
          "output_type": "execute_result",
          "data": {
            "text/plain": [
              "20"
            ]
          },
          "metadata": {},
          "execution_count": 3
        }
      ]
    },
    {
      "cell_type": "code",
      "source": [
        "a=int(input(\"enter \"))\n",
        "b=int(input(\"enter \"))\n",
        "c=int(b)/int(a)\n",
        "c\n"
      ],
      "metadata": {
        "colab": {
          "base_uri": "https://localhost:8080/"
        },
        "id": "PEFarKVcaBa6",
        "outputId": "17b2450d-408a-4818-d0d5-a78ed52b22e9"
      },
      "execution_count": 7,
      "outputs": [
        {
          "name": "stdout",
          "output_type": "stream",
          "text": [
            "enter 10\n",
            "enter 50\n"
          ]
        },
        {
          "output_type": "execute_result",
          "data": {
            "text/plain": [
              "5.0"
            ]
          },
          "metadata": {},
          "execution_count": 7
        }
      ]
    },
    {
      "cell_type": "code",
      "source": [
        "p=input(\"enter string\")\n",
        "q=input(\"second string\")\n",
        "r=p+q\n",
        "r"
      ],
      "metadata": {
        "colab": {
          "base_uri": "https://localhost:8080/",
          "height": 70
        },
        "id": "jmnFSWybacSZ",
        "outputId": "9233f417-5349-4cb3-e03a-a0ec6f826fee"
      },
      "execution_count": 5,
      "outputs": [
        {
          "name": "stdout",
          "output_type": "stream",
          "text": [
            "enter stringgood\n",
            "second stringmorning\n"
          ]
        },
        {
          "output_type": "execute_result",
          "data": {
            "text/plain": [
              "'goodmorning'"
            ],
            "application/vnd.google.colaboratory.intrinsic+json": {
              "type": "string"
            }
          },
          "metadata": {},
          "execution_count": 5
        }
      ]
    },
    {
      "cell_type": "code",
      "source": [
        "a=300\n",
        "b=400\n",
        "c=float(a)+float(b)\n",
        "c"
      ],
      "metadata": {
        "colab": {
          "base_uri": "https://localhost:8080/"
        },
        "id": "AM-5qLFgbEYb",
        "outputId": "64b0d6c5-571a-4c3d-e66b-995f220b283b"
      },
      "execution_count": 6,
      "outputs": [
        {
          "output_type": "execute_result",
          "data": {
            "text/plain": [
              "700.0"
            ]
          },
          "metadata": {},
          "execution_count": 6
        }
      ]
    },
    {
      "cell_type": "code",
      "source": [
        "a=90\n",
        "b=90\n",
        "a==b"
      ],
      "metadata": {
        "colab": {
          "base_uri": "https://localhost:8080/"
        },
        "id": "TGw5KPyBbTlc",
        "outputId": "9c207ea0-334e-4c2c-c409-df39a5a00187"
      },
      "execution_count": 8,
      "outputs": [
        {
          "output_type": "execute_result",
          "data": {
            "text/plain": [
              "True"
            ]
          },
          "metadata": {},
          "execution_count": 8
        }
      ]
    },
    {
      "cell_type": "code",
      "source": [
        "a>=b"
      ],
      "metadata": {
        "colab": {
          "base_uri": "https://localhost:8080/"
        },
        "id": "hORH0ZMhhlmc",
        "outputId": "c939a293-24cf-4a69-9b96-3fd0cfc67c4b"
      },
      "execution_count": 9,
      "outputs": [
        {
          "output_type": "execute_result",
          "data": {
            "text/plain": [
              "True"
            ]
          },
          "metadata": {},
          "execution_count": 9
        }
      ]
    },
    {
      "cell_type": "code",
      "source": [
        "a=input(\"enter item\")\n",
        "#burger\n",
        "if(a=='burger'):\n",
        "  b=int(input(\"how many burger want\"))\n",
        "  c=b*100\n",
        "  if(c>1000):\n",
        "    print(f\"discount is{c} for that {c-(c*0.1)}\")\n",
        "  elif(500<=c<=1000):\n",
        "      print(f\"discont is for{c} is {c-(c*0.05)}\")\n",
        "      print(f\"thats your final price {c}\")\n",
        "      #pizza\n",
        "elif(a=='pizza'):\n",
        "  b=int(input(\"enter how many pizza you need\"))\n",
        "  c=b*200\n",
        "  if(400<=c<=1000):\n",
        "    print(f\"discount is {c} for{c-(c*0.1)}\")\n",
        "  elif(c>1000):\n",
        "      print(f\"discount is {c}for {c-(c*0.2)}\")\n",
        "  else:\n",
        "    print(\"no discount here \")\n",
        "    #maggi\n",
        "elif(a=='maggi'):\n",
        "  b=int(input(\"enter how many maaggi you want\"))\n",
        "  c=b*30\n",
        "  if(c>500):\n",
        "    print(f\"discount for {c} is {c-(c*0.2)}\")\n",
        "  elif(150<=c<=500):\n",
        "    print(f\"discount for {c}is {c-(c*0.1)}\")\n",
        "  else:\n",
        "    print(\"no discount\")\n",
        "\n",
        "\n",
        "else:\n",
        "    print(\"try again\")\n"
      ],
      "metadata": {
        "colab": {
          "base_uri": "https://localhost:8080/"
        },
        "id": "D6bp5dQ7f8V0",
        "outputId": "3938040b-d2d5-4029-e093-7c47616e1faf"
      },
      "execution_count": 13,
      "outputs": [
        {
          "output_type": "stream",
          "name": "stdout",
          "text": [
            "enter itemburger\n",
            "how many burger want10\n",
            "discont is for1000 is 950.0\n",
            "thats your final price 1000\n"
          ]
        }
      ]
    },
    {
      "cell_type": "code",
      "source": [
        "a=input(\"enter course\\n\")\n",
        "if(a=='python'):\n",
        "  print(\"3 months\")\n",
        "  print(\"1000 fees\")\n",
        "elif(a=='java'):\n",
        "  print(\"6 months\")\n",
        "  print(\"5000 fees\")\n",
        "elif(a=='html'):\n",
        "  print(\"10 months\")\n",
        "  print(\"50000 fees\")\n",
        "else:\n",
        "  print(\"type right course\")"
      ],
      "metadata": {
        "colab": {
          "base_uri": "https://localhost:8080/"
        },
        "id": "Uw7tLs8Vhsrl",
        "outputId": "3abe377f-e803-4450-f1f5-3ea99d8859a9"
      },
      "execution_count": 15,
      "outputs": [
        {
          "output_type": "stream",
          "name": "stdout",
          "text": [
            "enter course\n",
            "python\n",
            "3 months\n",
            "1000 fees\n"
          ]
        }
      ]
    },
    {
      "cell_type": "code",
      "source": [],
      "metadata": {
        "id": "OYlJDZ8NDuUP"
      },
      "execution_count": null,
      "outputs": []
    },
    {
      "cell_type": "code",
      "source": [],
      "metadata": {
        "id": "c0JHOnh-pjjh"
      },
      "execution_count": null,
      "outputs": []
    }
  ]
}