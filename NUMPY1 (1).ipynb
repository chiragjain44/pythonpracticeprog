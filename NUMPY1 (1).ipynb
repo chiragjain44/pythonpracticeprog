{
 "cells": [
  {
   "cell_type": "code",
   "execution_count": 1,
   "id": "38c0ebe7-d772-44bd-8024-3eabff15b920",
   "metadata": {},
   "outputs": [],
   "source": [
    "#numpy is an open-source library that is used for handle scientific calculations \n",
    "#why numpy is better than list\n",
    "#1 Numpy > homogenous data type ,list > hetrogenuos \n",
    "#2 memory and time consumption > less in numpy high in list"
   ]
  },
  {
   "cell_type": "code",
   "execution_count": 2,
   "id": "91abba4d-9ff3-4516-b037-091c4d2b78f8",
   "metadata": {},
   "outputs": [
    {
     "name": "stdout",
     "output_type": "stream",
     "text": [
      "Collecting numpy\n",
      "  Downloading numpy-2.2.3-cp312-cp312-win_amd64.whl.metadata (60 kB)\n",
      "Downloading numpy-2.2.3-cp312-cp312-win_amd64.whl (12.6 MB)\n",
      "   ---------------------------------------- 0.0/12.6 MB ? eta -:--:--\n",
      "   ----------- ---------------------------- 3.7/12.6 MB 24.3 MB/s eta 0:00:01\n",
      "   --------------------------- ------------ 8.7/12.6 MB 24.5 MB/s eta 0:00:01\n",
      "   ---------------------------------------  12.6/12.6 MB 22.5 MB/s eta 0:00:01\n",
      "   ---------------------------------------- 12.6/12.6 MB 20.9 MB/s eta 0:00:00\n",
      "Installing collected packages: numpy\n",
      "Successfully installed numpy-2.2.3\n"
     ]
    }
   ],
   "source": [
    "!pip install numpy\n"
   ]
  },
  {
   "cell_type": "code",
   "execution_count": 3,
   "id": "0b0713e7-6b58-4505-b687-eed8169478f6",
   "metadata": {},
   "outputs": [],
   "source": [
    "import numpy as np"
   ]
  },
  {
   "cell_type": "code",
   "execution_count": 4,
   "id": "333e058d-31d5-409f-9b63-c0a32b3cca28",
   "metadata": {},
   "outputs": [
    {
     "data": {
      "text/plain": [
       "array([1, 2, 4])"
      ]
     },
     "execution_count": 4,
     "metadata": {},
     "output_type": "execute_result"
    }
   ],
   "source": [
    "a=[1,2,4]\n",
    "b=np.array(a)#converting list into numpy array \n",
    "b"
   ]
  },
  {
   "cell_type": "code",
   "execution_count": 7,
   "id": "1d3f9cda-dc23-4e15-a6d1-43ef7c53df61",
   "metadata": {},
   "outputs": [
    {
     "name": "stdout",
     "output_type": "stream",
     "text": [
      "<class 'numpy.ndarray'>\n",
      "<class 'list'>\n"
     ]
    }
   ],
   "source": [
    "print(type(b))\n",
    "print(type(a))"
   ]
  },
  {
   "cell_type": "code",
   "execution_count": 10,
   "id": "c965b9e0-ed2d-4b81-b203-614231dd39ef",
   "metadata": {},
   "outputs": [
    {
     "name": "stdout",
     "output_type": "stream",
     "text": [
      "shape (3,)\n",
      "dimension 1\n",
      "total elemnets 3\n"
     ]
    }
   ],
   "source": [
    "print(\"shape\",b.shape)#shape=n(rows),n(colimns)\n",
    "print(\"dimension\",b.ndim)# number of dimension\n",
    "print(\"total elemnets\",b.size)#total elemnts n(rows)*n(col)"
   ]
  },
  {
   "cell_type": "code",
   "execution_count": 17,
   "id": "4b47af2e-cf6c-41e5-919d-b913506af4dd",
   "metadata": {},
   "outputs": [
    {
     "data": {
      "text/plain": [
       "array([[12,  3,  3],\n",
       "       [ 1,  2,  3],\n",
       "       [ 2,  1,  2]])"
      ]
     },
     "execution_count": 17,
     "metadata": {},
     "output_type": "execute_result"
    }
   ],
   "source": [
    "a=[[12,3,3],[1,2,3],[2,1,2]]\n",
    "b=np.array(a)\n",
    "b"
   ]
  },
  {
   "cell_type": "code",
   "execution_count": 18,
   "id": "091f8f60-ddfb-44ce-88d5-089dc71b2015",
   "metadata": {},
   "outputs": [
    {
     "name": "stdout",
     "output_type": "stream",
     "text": [
      "(3, 3)\n",
      "2\n",
      "9\n"
     ]
    }
   ],
   "source": [
    "print(b.shape)#total row column\n",
    "print(b.ndim)\n",
    "print(b.size)"
   ]
  },
  {
   "cell_type": "code",
   "execution_count": 19,
   "id": "32db2a54-ab3a-4b3a-82a6-7272afc8e3cc",
   "metadata": {},
   "outputs": [],
   "source": [
    "#user defined array"
   ]
  },
  {
   "cell_type": "code",
   "execution_count": 28,
   "id": "842df4c7-d8e8-4a9d-b8c9-b8bc172cd857",
   "metadata": {},
   "outputs": [
    {
     "name": "stdin",
     "output_type": "stream",
     "text": [
      "how many elemnets want 3\n",
      "enter va;lues 1\n",
      "enter va;lues 2\n",
      "enter va;lues 3\n"
     ]
    },
    {
     "data": {
      "text/plain": [
       "array([1, 2, 3])"
      ]
     },
     "execution_count": 28,
     "metadata": {},
     "output_type": "execute_result"
    }
   ],
   "source": [
    "a=[]\n",
    "b=int(input(\"how many elemnets want\"))\n",
    "for i in range(b):\n",
    "    val=int(input(\"enter va;lues\"))\n",
    "    a.append(val)\n",
    "b=np.array(a)\n",
    "b"
   ]
  },
  {
   "cell_type": "code",
   "execution_count": 29,
   "id": "ab16c396-7a35-4520-8dec-2aeaace71f37",
   "metadata": {},
   "outputs": [],
   "source": [
    "#pre defined functions \n"
   ]
  },
  {
   "cell_type": "code",
   "execution_count": 30,
   "id": "e2e3e6e2-6ec3-45a3-b953-daf862ad0f8f",
   "metadata": {},
   "outputs": [],
   "source": [
    "#1 zeros()> this is pre defined function of numpy that will return all the values zero \n",
    "#either one or multi dimensional array"
   ]
  },
  {
   "cell_type": "code",
   "execution_count": 33,
   "id": "8a9a99b7-85d5-461e-903c-e8342afec2d8",
   "metadata": {},
   "outputs": [
    {
     "name": "stdout",
     "output_type": "stream",
     "text": [
      "[0. 0. 0. 0.]\n"
     ]
    },
    {
     "data": {
      "text/plain": [
       "numpy.ndarray"
      ]
     },
     "execution_count": 33,
     "metadata": {},
     "output_type": "execute_result"
    }
   ],
   "source": [
    "a=np.zeros(4)\n",
    "print(a)\n",
    "type(a)"
   ]
  },
  {
   "cell_type": "code",
   "execution_count": 35,
   "id": "88bcaa9a-6055-4062-b90d-3cc4854eb07d",
   "metadata": {},
   "outputs": [
    {
     "data": {
      "text/plain": [
       "array([[0., 0., 0.],\n",
       "       [0., 0., 0.],\n",
       "       [0., 0., 0.]])"
      ]
     },
     "execution_count": 35,
     "metadata": {},
     "output_type": "execute_result"
    }
   ],
   "source": [
    "a=np.zeros((3,3))\n",
    "a"
   ]
  },
  {
   "cell_type": "code",
   "execution_count": 36,
   "id": "c98d029d-77fa-4a76-854f-1ad3aa9ce14e",
   "metadata": {},
   "outputs": [],
   "source": [
    "#2 ones()> this is also pre defined function of numpy and it will return all the value one "
   ]
  },
  {
   "cell_type": "code",
   "execution_count": 38,
   "id": "09c04c74-37fa-4250-b8d4-cdc5dbafa2d0",
   "metadata": {},
   "outputs": [
    {
     "data": {
      "text/plain": [
       "array([1., 1., 1.])"
      ]
     },
     "execution_count": 38,
     "metadata": {},
     "output_type": "execute_result"
    }
   ],
   "source": [
    "a=np.ones(3)\n",
    "a"
   ]
  },
  {
   "cell_type": "code",
   "execution_count": 41,
   "id": "690eb7dd-e10d-4220-9d0c-b93f11ec4659",
   "metadata": {},
   "outputs": [
    {
     "data": {
      "text/plain": [
       "array([[1., 1., 1.],\n",
       "       [1., 1., 1.],\n",
       "       [1., 1., 1.]])"
      ]
     },
     "execution_count": 41,
     "metadata": {},
     "output_type": "execute_result"
    }
   ],
   "source": [
    "a=np.ones((3,3))\n",
    "a"
   ]
  },
  {
   "cell_type": "code",
   "execution_count": 42,
   "id": "aea5d576-dad9-43d5-b686-0259f8228a60",
   "metadata": {},
   "outputs": [
    {
     "data": {
      "text/plain": [
       "array([1., 1., 1.])"
      ]
     },
     "execution_count": 42,
     "metadata": {},
     "output_type": "execute_result"
    }
   ],
   "source": [
    "a=np.ones(3)\n",
    "a"
   ]
  },
  {
   "cell_type": "code",
   "execution_count": 43,
   "id": "1f371239-f343-4527-83a0-c5da503d43a8",
   "metadata": {},
   "outputs": [],
   "source": [
    "#images > pixels (0,255)> black and white images=height,width\n",
    "#colorful images =height ,width,color_channel(red,green,blue)\n",
    "#machine learning > actual answer ,prediction answer > optimization technique(m,b)\n"
   ]
  },
  {
   "cell_type": "code",
   "execution_count": 44,
   "id": "5940bc8d-3438-43bb-8b47-2c8c7d24bcb5",
   "metadata": {},
   "outputs": [],
   "source": [
    "#3 eye()>it will create an array in which diagonal posiotons elements are 1 rest all are 0"
   ]
  },
  {
   "cell_type": "code",
   "execution_count": 47,
   "id": "71cb7ba9-d37f-4c86-aa19-432dcfb61d7e",
   "metadata": {},
   "outputs": [
    {
     "data": {
      "text/plain": [
       "array([[1., 0., 0., 0., 0., 0., 0., 0.],\n",
       "       [0., 1., 0., 0., 0., 0., 0., 0.],\n",
       "       [0., 0., 1., 0., 0., 0., 0., 0.]])"
      ]
     },
     "execution_count": 47,
     "metadata": {},
     "output_type": "execute_result"
    }
   ],
   "source": [
    "a=np.eye(3,8)#assymetric matrix \n",
    "a"
   ]
  },
  {
   "cell_type": "code",
   "execution_count": 50,
   "id": "4977fed2-4227-42e3-9fed-8fe3b305a5b1",
   "metadata": {},
   "outputs": [
    {
     "data": {
      "text/plain": [
       "array([[1., 0., 0., 0.],\n",
       "       [0., 1., 0., 0.],\n",
       "       [0., 0., 1., 0.],\n",
       "       [0., 0., 0., 1.]])"
      ]
     },
     "execution_count": 50,
     "metadata": {},
     "output_type": "execute_result"
    }
   ],
   "source": [
    "a=np.eye(4,4)#symmatric matrix n(row)=n(col)\n",
    "a"
   ]
  },
  {
   "cell_type": "code",
   "execution_count": 49,
   "id": "844c0f3d-d32b-4c54-9bbf-1cba5bf53acf",
   "metadata": {},
   "outputs": [
    {
     "name": "stdin",
     "output_type": "stream",
     "text": [
      "enter size of array 3\n",
      "enter values 1\n",
      "enter values 2\n",
      "enter values 3\n"
     ]
    },
    {
     "data": {
      "text/plain": [
       "array([1, 2, 3])"
      ]
     },
     "execution_count": 49,
     "metadata": {},
     "output_type": "execute_result"
    }
   ],
   "source": [
    "a=[]\n",
    "size=int(input(\"enter size of array\"))\n",
    "for i in range(size):\n",
    "    val=int(input(\"enter values\"))\n",
    "    a.append(val)\n",
    "b=np.array(a)\n",
    "b"
   ]
  },
  {
   "cell_type": "code",
   "execution_count": 15,
   "id": "b046d55f-892e-4cea-b559-5ed8ee2fb573",
   "metadata": {},
   "outputs": [
    {
     "name": "stdout",
     "output_type": "stream",
     "text": [
      "[100, 2, 3]\n",
      "{'chirag': 100}\n"
     ]
    }
   ],
   "source": [
    "class student:\n",
    "     def __init__(self,name,age):\n",
    "         self.name=name\n",
    "         self.age=age\n",
    "         subscore=[]#making list \n",
    "         hh={} #making dictionary \n",
    "     def subject(self,subscore):\n",
    "         return subscore\n",
    "\n",
    "     def dic(self,hh):\n",
    "         return hh\n",
    "s1=student(\"chirag\",19)\n",
    "s1.name\n",
    "s1.age\n",
    "print(s1.subject([100,2,3]))\n",
    "print(s1.dic({\"chirag\":100}))\n",
    "\n",
    "\n",
    "\n",
    "\n",
    "         "
   ]
  },
  {
   "cell_type": "code",
   "execution_count": 1,
   "id": "31051a24-205e-4257-97c9-f9574ba58b21",
   "metadata": {},
   "outputs": [],
   "source": [
    "#diag()>it will create an array which we set diagonal array"
   ]
  },
  {
   "cell_type": "code",
   "execution_count": 4,
   "id": "0a5527c5-03db-44bc-a5a0-40382ffebc74",
   "metadata": {},
   "outputs": [],
   "source": [
    "import   numpy as np"
   ]
  },
  {
   "cell_type": "code",
   "execution_count": 5,
   "id": "afe6629f-b1d1-4a61-ba6d-685254acddd1",
   "metadata": {},
   "outputs": [
    {
     "data": {
      "text/plain": [
       "array([12, 23, 44, 55])"
      ]
     },
     "execution_count": 5,
     "metadata": {},
     "output_type": "execute_result"
    }
   ],
   "source": [
    "a=np.array([12,23,44,55])\n",
    "a"
   ]
  },
  {
   "cell_type": "code",
   "execution_count": 8,
   "id": "7c9cb668-5343-41f3-907b-05e8c8fd706a",
   "metadata": {},
   "outputs": [
    {
     "data": {
      "text/plain": [
       "array([[12,  0,  0,  0],\n",
       "       [ 0, 23,  0,  0],\n",
       "       [ 0,  0, 44,  0],\n",
       "       [ 0,  0,  0, 55]])"
      ]
     },
     "execution_count": 8,
     "metadata": {},
     "output_type": "execute_result"
    }
   ],
   "source": [
    "b=np.diag(a)\n",
    "b"
   ]
  },
  {
   "cell_type": "code",
   "execution_count": 9,
   "id": "6ea23909-9cdc-487d-b804-86afe6be3662",
   "metadata": {},
   "outputs": [],
   "source": [
    "#random module "
   ]
  },
  {
   "cell_type": "code",
   "execution_count": 10,
   "id": "7433ad94-9961-4793-b408-98b4de1d161c",
   "metadata": {},
   "outputs": [],
   "source": [
    "#1. randint()>randint(minrange,maxrange,totalnumber)"
   ]
  },
  {
   "cell_type": "code",
   "execution_count": 13,
   "id": "e9705dea-a2c0-4cbc-8f26-705ebcc57226",
   "metadata": {},
   "outputs": [
    {
     "data": {
      "text/plain": [
       "array([35, 88, 56, 10], dtype=int32)"
      ]
     },
     "execution_count": 13,
     "metadata": {},
     "output_type": "execute_result"
    }
   ],
   "source": [
    "a=np.random.randint(1,95,4)\n",
    "a"
   ]
  },
  {
   "cell_type": "code",
   "execution_count": 14,
   "id": "022cceb0-2046-485a-b9b2-624d69f81a8e",
   "metadata": {},
   "outputs": [],
   "source": [
    "#rand()>it will generate random number in range 0 to 1"
   ]
  },
  {
   "cell_type": "code",
   "execution_count": 15,
   "id": "66cce2f4-9842-4998-8098-4087d78c0549",
   "metadata": {},
   "outputs": [
    {
     "data": {
      "text/plain": [
       "array([0.86255834, 0.2520972 , 0.53748246, 0.58975771])"
      ]
     },
     "execution_count": 15,
     "metadata": {},
     "output_type": "execute_result"
    }
   ],
   "source": [
    "a=np.random.rand(4)\n",
    "a"
   ]
  },
  {
   "cell_type": "code",
   "execution_count": 20,
   "id": "fcfd7ac7-de77-4f9a-8964-7a9571f433b4",
   "metadata": {},
   "outputs": [
    {
     "data": {
      "text/plain": [
       "array([[0.42053804, 0.859182  , 0.17116155],\n",
       "       [0.33886396, 0.27053283, 0.69104135]])"
      ]
     },
     "execution_count": 20,
     "metadata": {},
     "output_type": "execute_result"
    }
   ],
   "source": [
    "a=np.random.rand(2,3)\n",
    "a"
   ]
  },
  {
   "cell_type": "code",
   "execution_count": 17,
   "id": "2813133d-216d-4693-b5cd-0089eb77ad25",
   "metadata": {},
   "outputs": [],
   "source": [
    "#seed()> it will fix our random values "
   ]
  },
  {
   "cell_type": "code",
   "execution_count": 19,
   "id": "3d4dd792-068e-4004-8a9d-c5959f59e8e1",
   "metadata": {},
   "outputs": [
    {
     "data": {
      "text/plain": [
       "array([5, 5, 1], dtype=int32)"
      ]
     },
     "execution_count": 19,
     "metadata": {},
     "output_type": "execute_result"
    }
   ],
   "source": [
    "np.random.seed(22)#in argument pass number anything it doesnt affect anything but passes the nunber \n",
    "a=np.random.randint(1,6,3)\n",
    "a"
   ]
  },
  {
   "cell_type": "code",
   "execution_count": 21,
   "id": "9dc68389-5afa-4b76-ad65-a40eebfd4a0a",
   "metadata": {},
   "outputs": [],
   "source": [
    "#view> modification in origina;l data \n",
    "#copy > modification in copy data doesnt affect original data"
   ]
  },
  {
   "cell_type": "code",
   "execution_count": 22,
   "id": "d1e1d012-2205-4c97-ad38-1e437dd4fd81",
   "metadata": {},
   "outputs": [
    {
     "data": {
      "text/plain": [
       "array([10, 20, 30, 40, 50])"
      ]
     },
     "execution_count": 22,
     "metadata": {},
     "output_type": "execute_result"
    }
   ],
   "source": [
    "a=np.array([10,20,30,40,50])\n",
    "a"
   ]
  },
  {
   "cell_type": "code",
   "execution_count": 25,
   "id": "94adfa60-c6c4-4ea1-91f2-1e1c7814fe92",
   "metadata": {},
   "outputs": [
    {
     "name": "stdout",
     "output_type": "stream",
     "text": [
      "[1 1]\n",
      "[10 20  1  1 50]\n"
     ]
    }
   ],
   "source": [
    "#view\n",
    "b= a[2:4]\n",
    "b[:]=1\n",
    "print(b)\n",
    "print(a)"
   ]
  },
  {
   "cell_type": "code",
   "execution_count": 27,
   "id": "38b1c4c4-08cf-4ec7-a38f-9d6f6b5b0794",
   "metadata": {},
   "outputs": [
    {
     "data": {
      "text/plain": [
       "array([10, 20,  3,  4,  5,  6, 77])"
      ]
     },
     "execution_count": 27,
     "metadata": {},
     "output_type": "execute_result"
    }
   ],
   "source": [
    "a=np.array([10,20,3,4,5,6,77])\n",
    "a"
   ]
  },
  {
   "cell_type": "code",
   "execution_count": 29,
   "id": "e66cdc52-22db-4c0d-817f-09449cc1970d",
   "metadata": {},
   "outputs": [
    {
     "name": "stdout",
     "output_type": "stream",
     "text": [
      "[0 0]\n",
      "[10 20  3  4  5  6 77]\n"
     ]
    }
   ],
   "source": [
    "#copy \n",
    "b=a[3:5].copy()\n",
    "b[:]=0\n",
    "print(b)\n",
    "print(a)"
   ]
  },
  {
   "cell_type": "code",
   "execution_count": 30,
   "id": "8b540aa1-1ec7-43f5-8cb8-3c2e4b37b526",
   "metadata": {},
   "outputs": [],
   "source": [
    "# conditional selection in numpy \n"
   ]
  },
  {
   "cell_type": "code",
   "execution_count": 32,
   "id": "402b86b4-3441-400b-83d7-1af71eea7483",
   "metadata": {},
   "outputs": [
    {
     "data": {
      "text/plain": [
       "array([1, 2, 3, 4, 5, 6, 7, 8, 9])"
      ]
     },
     "execution_count": 32,
     "metadata": {},
     "output_type": "execute_result"
    }
   ],
   "source": [
    "a=np.arange(1,10,1)#like for loop to print numbers in given range and givemn gap \n",
    "a"
   ]
  },
  {
   "cell_type": "code",
   "execution_count": 34,
   "id": "6a19ad44-f300-4b75-8b18-41126ab247a6",
   "metadata": {},
   "outputs": [
    {
     "data": {
      "text/plain": [
       "array([False, False,  True,  True,  True,  True,  True,  True,  True])"
      ]
     },
     "execution_count": 34,
     "metadata": {},
     "output_type": "execute_result"
    }
   ],
   "source": [
    "b=a>2\n",
    "b"
   ]
  },
  {
   "cell_type": "code",
   "execution_count": 35,
   "id": "2e27bbad-bcda-4d11-9062-4742475d696e",
   "metadata": {},
   "outputs": [
    {
     "data": {
      "text/plain": [
       "array([3, 4, 5, 6, 7, 8, 9])"
      ]
     },
     "execution_count": 35,
     "metadata": {},
     "output_type": "execute_result"
    }
   ],
   "source": [
    "b=a>2\n",
    "a[b]"
   ]
  },
  {
   "cell_type": "code",
   "execution_count": 37,
   "id": "12166f57-1215-4f65-932b-16b4c72b424c",
   "metadata": {},
   "outputs": [
    {
     "data": {
      "text/plain": [
       "array([2, 4, 6, 8])"
      ]
     },
     "execution_count": 37,
     "metadata": {},
     "output_type": "execute_result"
    }
   ],
   "source": [
    "#even number in array\n",
    "b=a%2==0\n",
    "a[b]"
   ]
  },
  {
   "cell_type": "code",
   "execution_count": 38,
   "id": "be71582f-d31b-4ec9-bcc6-427f2f78af3e",
   "metadata": {},
   "outputs": [],
   "source": [
    "#reshaping the array"
   ]
  },
  {
   "cell_type": "code",
   "execution_count": 40,
   "id": "06ccdac4-e107-49af-9811-431541c102af",
   "metadata": {},
   "outputs": [
    {
     "data": {
      "text/plain": [
       "array([[1, 2],\n",
       "       [3, 4]])"
      ]
     },
     "execution_count": 40,
     "metadata": {},
     "output_type": "execute_result"
    }
   ],
   "source": [
    "a=np.array([1,2,3,4]).reshape(2,2)\n",
    "a"
   ]
  },
  {
   "cell_type": "code",
   "execution_count": 43,
   "id": "5c76aca6-9c9f-43d7-9a34-0733043ca118",
   "metadata": {},
   "outputs": [
    {
     "data": {
      "text/plain": [
       "array([[1, 2],\n",
       "       [3, 1]])"
      ]
     },
     "execution_count": 43,
     "metadata": {},
     "output_type": "execute_result"
    }
   ],
   "source": [
    "b=np.array([1,2,3,1]).reshape(2,2)\n",
    "b"
   ]
  },
  {
   "cell_type": "code",
   "execution_count": 44,
   "id": "4278d6de-71a0-4f06-96c8-20545a745628",
   "metadata": {},
   "outputs": [
    {
     "data": {
      "text/plain": [
       "array([[2, 4],\n",
       "       [6, 5]])"
      ]
     },
     "execution_count": 44,
     "metadata": {},
     "output_type": "execute_result"
    }
   ],
   "source": [
    "a+b#matrix a plus b matrix "
   ]
  },
  {
   "cell_type": "code",
   "execution_count": 45,
   "id": "9f877354-5c90-4ab6-863d-8684c4595189",
   "metadata": {},
   "outputs": [
    {
     "data": {
      "text/plain": [
       "array([[ 0,  0],\n",
       "       [ 0, -3]])"
      ]
     },
     "execution_count": 45,
     "metadata": {},
     "output_type": "execute_result"
    }
   ],
   "source": [
    "b-a#substrsact matrixes "
   ]
  },
  {
   "cell_type": "code",
   "execution_count": 46,
   "id": "df21ca75-16b4-4d44-a2ed-8bc326b6e23b",
   "metadata": {},
   "outputs": [
    {
     "data": {
      "text/plain": [
       "array([[ 7,  4],\n",
       "       [15, 10]])"
      ]
     },
     "execution_count": 46,
     "metadata": {},
     "output_type": "execute_result"
    }
   ],
   "source": [
    "a.dot(b)#for multiplying matrixes\n"
   ]
  },
  {
   "cell_type": "code",
   "execution_count": 47,
   "id": "5364c4a6-9d4b-4300-8bd9-849ceb24a6b5",
   "metadata": {},
   "outputs": [
    {
     "data": {
      "text/plain": [
       "array([46, 25, 30, 40, 35, 42,  9, 41,  6, 48, 28, 21], dtype=int32)"
      ]
     },
     "execution_count": 47,
     "metadata": {},
     "output_type": "execute_result"
    }
   ],
   "source": [
    "a=np.random.randint(1,50,12)\n",
    "a"
   ]
  },
  {
   "cell_type": "code",
   "execution_count": 48,
   "id": "dee49f21-4f2d-45b9-a9aa-ba9ac3971c8c",
   "metadata": {},
   "outputs": [
    {
     "data": {
      "text/plain": [
       "array([[46, 25, 30],\n",
       "       [40, 35, 42],\n",
       "       [ 9, 41,  6],\n",
       "       [48, 28, 21]], dtype=int32)"
      ]
     },
     "execution_count": 48,
     "metadata": {},
     "output_type": "execute_result"
    }
   ],
   "source": [
    "a.reshape(4,3)"
   ]
  },
  {
   "cell_type": "code",
   "execution_count": 50,
   "id": "3ca024ef-7128-4c13-bfc5-82addceef39a",
   "metadata": {},
   "outputs": [
    {
     "data": {
      "text/plain": [
       "array([[46, 25, 30, 40, 35, 42],\n",
       "       [ 9, 41,  6, 48, 28, 21]], dtype=int32)"
      ]
     },
     "execution_count": 50,
     "metadata": {},
     "output_type": "execute_result"
    }
   ],
   "source": [
    "a.reshape(2,6)"
   ]
  },
  {
   "cell_type": "code",
   "execution_count": 52,
   "id": "c79e4076-94c7-4c01-a4ef-df8d17f55152",
   "metadata": {},
   "outputs": [
    {
     "data": {
      "text/plain": [
       "array([[1, 2, 3],\n",
       "       [4, 5, 6],\n",
       "       [7, 8, 9]])"
      ]
     },
     "execution_count": 52,
     "metadata": {},
     "output_type": "execute_result"
    }
   ],
   "source": [
    "a=np.arange(1,10).reshape(3,3)\n",
    "a"
   ]
  },
  {
   "cell_type": "code",
   "execution_count": 53,
   "id": "ac78734c-b0b5-42e1-80ed-ac6584533124",
   "metadata": {},
   "outputs": [
    {
     "data": {
      "text/plain": [
       "np.int64(45)"
      ]
     },
     "execution_count": 53,
     "metadata": {},
     "output_type": "execute_result"
    }
   ],
   "source": [
    "np.sum(a)#sum of array elements "
   ]
  },
  {
   "cell_type": "code",
   "execution_count": 54,
   "id": "f6920a69-c782-41d2-b435-a5adc673b9ab",
   "metadata": {},
   "outputs": [
    {
     "data": {
      "text/plain": [
       "array([12, 15, 18])"
      ]
     },
     "execution_count": 54,
     "metadata": {},
     "output_type": "execute_result"
    }
   ],
   "source": [
    "np.sum(a,axis=0)#axis =0 column wise sum"
   ]
  },
  {
   "cell_type": "code",
   "execution_count": 55,
   "id": "be31ea44-a78c-4b16-8c29-ae809ebf3705",
   "metadata": {},
   "outputs": [
    {
     "data": {
      "text/plain": [
       "array([ 6, 15, 24])"
      ]
     },
     "execution_count": 55,
     "metadata": {},
     "output_type": "execute_result"
    }
   ],
   "source": [
    "np.sum(a,axis=1)#row wise sum"
   ]
  },
  {
   "cell_type": "code",
   "execution_count": 56,
   "id": "d2e7b4b4-333c-47d6-9ae5-34ff6716768e",
   "metadata": {},
   "outputs": [],
   "source": [
    "#unique()---> it will create an array in which we have unique values\n",
    "# return 3 array\n",
    "# arr --- > unique array \n",
    "# return_index=True --> unique values inderxing\n",
    "#return_counts=True --> unique values frequency \n"
   ]
  },
  {
   "cell_type": "code",
   "execution_count": 57,
   "id": "375ce793-1f0e-416f-a0ea-7afa528cb152",
   "metadata": {},
   "outputs": [
    {
     "data": {
      "text/plain": [
       "array([1, 2, 3, 4, 1, 1, 2, 2, 3])"
      ]
     },
     "execution_count": 57,
     "metadata": {},
     "output_type": "execute_result"
    }
   ],
   "source": [
    "a=np.array([1,2,3,4,1,1,2,2,3])\n",
    "a"
   ]
  },
  {
   "cell_type": "code",
   "execution_count": 59,
   "id": "4dd12d92-ac19-4ef5-b1bf-7fdaa31f324b",
   "metadata": {},
   "outputs": [
    {
     "data": {
      "text/plain": [
       "(array([1, 2, 3, 4]), array([0, 1, 2, 3]), array([3, 3, 2, 1]))"
      ]
     },
     "execution_count": 59,
     "metadata": {},
     "output_type": "execute_result"
    }
   ],
   "source": [
    "np.unique(a, return_index=True ,return_counts=True)#it shows array then index values and then frequency of elements \n"
   ]
  },
  {
   "cell_type": "code",
   "execution_count": 60,
   "id": "a4750fb1-f468-4b23-9808-e5e07d6da578",
   "metadata": {},
   "outputs": [],
   "source": [
    "#linspace()--> oit will return same gap values \n"
   ]
  },
  {
   "cell_type": "code",
   "execution_count": 62,
   "id": "34d5b285-1a14-41b8-80e6-66250547b2ae",
   "metadata": {},
   "outputs": [
    {
     "data": {
      "text/plain": [
       "array([1., 3., 5.])"
      ]
     },
     "execution_count": 62,
     "metadata": {},
     "output_type": "execute_result"
    }
   ],
   "source": [
    "a=np.linspace(1,5,3)#gap is 2 it is samew in all elements \n",
    "a"
   ]
  },
  {
   "cell_type": "code",
   "execution_count": 63,
   "id": "37207cd3-57bc-4b8a-a4f3-63a8676d7e76",
   "metadata": {},
   "outputs": [],
   "source": [
    "#stacking \n",
    "#1 hstack()\n"
   ]
  },
  {
   "cell_type": "code",
   "execution_count": 65,
   "id": "f3d14513-3814-42b6-ae9d-a0ea78ca9002",
   "metadata": {},
   "outputs": [
    {
     "data": {
      "text/plain": [
       "array([1, 2, 3, 4, 5, 6])"
      ]
     },
     "execution_count": 65,
     "metadata": {},
     "output_type": "execute_result"
    }
   ],
   "source": [
    "a=np.array([1,2,3])\n",
    "b=np.array([4,5,6])\n",
    "np.hstack((a,b))#it merges arrays in horizontal"
   ]
  },
  {
   "cell_type": "code",
   "execution_count": 66,
   "id": "4227075d-978e-4ccb-bf52-5dd4b1128db7",
   "metadata": {},
   "outputs": [
    {
     "data": {
      "text/plain": [
       "array([[ 1,  2, 33],\n",
       "       [ 2,  5,  6]])"
      ]
     },
     "execution_count": 66,
     "metadata": {},
     "output_type": "execute_result"
    }
   ],
   "source": [
    "#vstack \n",
    "a=np.array([1,2,33])\n",
    "b=np.array([2,5,6])\n",
    "np.vstack((a,b))#it merges array in vertical"
   ]
  },
  {
   "cell_type": "code",
   "execution_count": null,
   "id": "dfcb1b49-052e-470d-b026-ace91ad89350",
   "metadata": {},
   "outputs": [],
   "source": []
  }
 ],
 "metadata": {
  "kernelspec": {
   "display_name": "Python 3 (ipykernel)",
   "language": "python",
   "name": "python3"
  },
  "language_info": {
   "codemirror_mode": {
    "name": "ipython",
    "version": 3
   },
   "file_extension": ".py",
   "mimetype": "text/x-python",
   "name": "python",
   "nbconvert_exporter": "python",
   "pygments_lexer": "ipython3",
   "version": "3.12.7"
  }
 },
 "nbformat": 4,
 "nbformat_minor": 5
}
