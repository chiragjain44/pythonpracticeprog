{
 "cells": [
  {
   "cell_type": "code",
   "execution_count": 1,
   "id": "38c0ebe7-d772-44bd-8024-3eabff15b920",
   "metadata": {},
   "outputs": [],
   "source": [
    "#numpy is an open-source library that is used for handle scientific calculations \n",
    "#why numpy is better than list\n",
    "#1 Numpy > homogenous data type ,list > hetrogenuos \n",
    "#2 memory and time consumption > less in numpy high in list"
   ]
  },
  {
   "cell_type": "code",
   "execution_count": 2,
   "id": "91abba4d-9ff3-4516-b037-091c4d2b78f8",
   "metadata": {},
   "outputs": [
    {
     "name": "stdout",
     "output_type": "stream",
     "text": [
      "Collecting numpy\n",
      "  Downloading numpy-2.2.3-cp312-cp312-win_amd64.whl.metadata (60 kB)\n",
      "Downloading numpy-2.2.3-cp312-cp312-win_amd64.whl (12.6 MB)\n",
      "   ---------------------------------------- 0.0/12.6 MB ? eta -:--:--\n",
      "   ----------- ---------------------------- 3.7/12.6 MB 24.3 MB/s eta 0:00:01\n",
      "   --------------------------- ------------ 8.7/12.6 MB 24.5 MB/s eta 0:00:01\n",
      "   ---------------------------------------  12.6/12.6 MB 22.5 MB/s eta 0:00:01\n",
      "   ---------------------------------------- 12.6/12.6 MB 20.9 MB/s eta 0:00:00\n",
      "Installing collected packages: numpy\n",
      "Successfully installed numpy-2.2.3\n"
     ]
    }
   ],
   "source": [
    "!pip install numpy\n"
   ]
  },
  {
   "cell_type": "code",
   "execution_count": 3,
   "id": "0b0713e7-6b58-4505-b687-eed8169478f6",
   "metadata": {},
   "outputs": [],
   "source": [
    "import numpy as np"
   ]
  },
  {
   "cell_type": "code",
   "execution_count": 4,
   "id": "333e058d-31d5-409f-9b63-c0a32b3cca28",
   "metadata": {},
   "outputs": [
    {
     "data": {
      "text/plain": [
       "array([1, 2, 4])"
      ]
     },
     "execution_count": 4,
     "metadata": {},
     "output_type": "execute_result"
    }
   ],
   "source": [
    "a=[1,2,4]\n",
    "b=np.array(a)#converting list into numpy array \n",
    "b"
   ]
  },
  {
   "cell_type": "code",
   "execution_count": 7,
   "id": "1d3f9cda-dc23-4e15-a6d1-43ef7c53df61",
   "metadata": {},
   "outputs": [
    {
     "name": "stdout",
     "output_type": "stream",
     "text": [
      "<class 'numpy.ndarray'>\n",
      "<class 'list'>\n"
     ]
    }
   ],
   "source": [
    "print(type(b))\n",
    "print(type(a))"
   ]
  },
  {
   "cell_type": "code",
   "execution_count": 10,
   "id": "c965b9e0-ed2d-4b81-b203-614231dd39ef",
   "metadata": {},
   "outputs": [
    {
     "name": "stdout",
     "output_type": "stream",
     "text": [
      "shape (3,)\n",
      "dimension 1\n",
      "total elemnets 3\n"
     ]
    }
   ],
   "source": [
    "print(\"shape\",b.shape)#shape=n(rows),n(colimns)\n",
    "print(\"dimension\",b.ndim)# number of dimension\n",
    "print(\"total elemnets\",b.size)#total elemnts n(rows)*n(col)"
   ]
  },
  {
   "cell_type": "code",
   "execution_count": 17,
   "id": "4b47af2e-cf6c-41e5-919d-b913506af4dd",
   "metadata": {},
   "outputs": [
    {
     "data": {
      "text/plain": [
       "array([[12,  3,  3],\n",
       "       [ 1,  2,  3],\n",
       "       [ 2,  1,  2]])"
      ]
     },
     "execution_count": 17,
     "metadata": {},
     "output_type": "execute_result"
    }
   ],
   "source": [
    "a=[[12,3,3],[1,2,3],[2,1,2]]\n",
    "b=np.array(a)\n",
    "b"
   ]
  },
  {
   "cell_type": "code",
   "execution_count": 18,
   "id": "091f8f60-ddfb-44ce-88d5-089dc71b2015",
   "metadata": {},
   "outputs": [
    {
     "name": "stdout",
     "output_type": "stream",
     "text": [
      "(3, 3)\n",
      "2\n",
      "9\n"
     ]
    }
   ],
   "source": [
    "print(b.shape)#total row column\n",
    "print(b.ndim)\n",
    "print(b.size)"
   ]
  },
  {
   "cell_type": "code",
   "execution_count": 19,
   "id": "32db2a54-ab3a-4b3a-82a6-7272afc8e3cc",
   "metadata": {},
   "outputs": [],
   "source": [
    "#user defined array"
   ]
  },
  {
   "cell_type": "code",
   "execution_count": 28,
   "id": "842df4c7-d8e8-4a9d-b8c9-b8bc172cd857",
   "metadata": {},
   "outputs": [
    {
     "name": "stdin",
     "output_type": "stream",
     "text": [
      "how many elemnets want 3\n",
      "enter va;lues 1\n",
      "enter va;lues 2\n",
      "enter va;lues 3\n"
     ]
    },
    {
     "data": {
      "text/plain": [
       "array([1, 2, 3])"
      ]
     },
     "execution_count": 28,
     "metadata": {},
     "output_type": "execute_result"
    }
   ],
   "source": [
    "a=[]\n",
    "b=int(input(\"how many elemnets want\"))\n",
    "for i in range(b):\n",
    "    val=int(input(\"enter va;lues\"))\n",
    "    a.append(val)\n",
    "b=np.array(a)\n",
    "b"
   ]
  },
  {
   "cell_type": "code",
   "execution_count": 29,
   "id": "ab16c396-7a35-4520-8dec-2aeaace71f37",
   "metadata": {},
   "outputs": [],
   "source": [
    "#pre defined functions \n"
   ]
  },
  {
   "cell_type": "code",
   "execution_count": 30,
   "id": "e2e3e6e2-6ec3-45a3-b953-daf862ad0f8f",
   "metadata": {},
   "outputs": [],
   "source": [
    "#1 zeros()> this is pre defined function of numpy that will return all the values zero \n",
    "#either one or multi dimensional array"
   ]
  },
  {
   "cell_type": "code",
   "execution_count": 33,
   "id": "8a9a99b7-85d5-461e-903c-e8342afec2d8",
   "metadata": {},
   "outputs": [
    {
     "name": "stdout",
     "output_type": "stream",
     "text": [
      "[0. 0. 0. 0.]\n"
     ]
    },
    {
     "data": {
      "text/plain": [
       "numpy.ndarray"
      ]
     },
     "execution_count": 33,
     "metadata": {},
     "output_type": "execute_result"
    }
   ],
   "source": [
    "a=np.zeros(4)\n",
    "print(a)\n",
    "type(a)"
   ]
  },
  {
   "cell_type": "code",
   "execution_count": 35,
   "id": "88bcaa9a-6055-4062-b90d-3cc4854eb07d",
   "metadata": {},
   "outputs": [
    {
     "data": {
      "text/plain": [
       "array([[0., 0., 0.],\n",
       "       [0., 0., 0.],\n",
       "       [0., 0., 0.]])"
      ]
     },
     "execution_count": 35,
     "metadata": {},
     "output_type": "execute_result"
    }
   ],
   "source": [
    "a=np.zeros((3,3))\n",
    "a"
   ]
  },
  {
   "cell_type": "code",
   "execution_count": 36,
   "id": "c98d029d-77fa-4a76-854f-1ad3aa9ce14e",
   "metadata": {},
   "outputs": [],
   "source": [
    "#2 ones()> this is also pre defined function of numpy and it will return all the value one "
   ]
  },
  {
   "cell_type": "code",
   "execution_count": 38,
   "id": "09c04c74-37fa-4250-b8d4-cdc5dbafa2d0",
   "metadata": {},
   "outputs": [
    {
     "data": {
      "text/plain": [
       "array([1., 1., 1.])"
      ]
     },
     "execution_count": 38,
     "metadata": {},
     "output_type": "execute_result"
    }
   ],
   "source": [
    "a=np.ones(3)\n",
    "a"
   ]
  },
  {
   "cell_type": "code",
   "execution_count": 41,
   "id": "690eb7dd-e10d-4220-9d0c-b93f11ec4659",
   "metadata": {},
   "outputs": [
    {
     "data": {
      "text/plain": [
       "array([[1., 1., 1.],\n",
       "       [1., 1., 1.],\n",
       "       [1., 1., 1.]])"
      ]
     },
     "execution_count": 41,
     "metadata": {},
     "output_type": "execute_result"
    }
   ],
   "source": [
    "a=np.ones((3,3))\n",
    "a"
   ]
  },
  {
   "cell_type": "code",
   "execution_count": 42,
   "id": "aea5d576-dad9-43d5-b686-0259f8228a60",
   "metadata": {},
   "outputs": [
    {
     "data": {
      "text/plain": [
       "array([1., 1., 1.])"
      ]
     },
     "execution_count": 42,
     "metadata": {},
     "output_type": "execute_result"
    }
   ],
   "source": [
    "a=np.ones(3)\n",
    "a"
   ]
  },
  {
   "cell_type": "code",
   "execution_count": 43,
   "id": "1f371239-f343-4527-83a0-c5da503d43a8",
   "metadata": {},
   "outputs": [],
   "source": [
    "#images > pixels (0,255)> black and white images=height,width\n",
    "#colorful images =height ,width,color_channel(red,green,blue)\n",
    "#machine learning > actual answer ,prediction answer > optimization technique(m,b)\n"
   ]
  },
  {
   "cell_type": "code",
   "execution_count": 44,
   "id": "5940bc8d-3438-43bb-8b47-2c8c7d24bcb5",
   "metadata": {},
   "outputs": [],
   "source": [
    "#3 eye()>it will create an array in which diagonal posiotons elements are 1 rest all are 0"
   ]
  },
  {
   "cell_type": "code",
   "execution_count": 47,
   "id": "71cb7ba9-d37f-4c86-aa19-432dcfb61d7e",
   "metadata": {},
   "outputs": [
    {
     "data": {
      "text/plain": [
       "array([[1., 0., 0., 0., 0., 0., 0., 0.],\n",
       "       [0., 1., 0., 0., 0., 0., 0., 0.],\n",
       "       [0., 0., 1., 0., 0., 0., 0., 0.]])"
      ]
     },
     "execution_count": 47,
     "metadata": {},
     "output_type": "execute_result"
    }
   ],
   "source": [
    "a=np.eye(3,8)#assymetric matrix \n",
    "a"
   ]
  },
  {
   "cell_type": "code",
   "execution_count": 50,
   "id": "4977fed2-4227-42e3-9fed-8fe3b305a5b1",
   "metadata": {},
   "outputs": [
    {
     "data": {
      "text/plain": [
       "array([[1., 0., 0., 0.],\n",
       "       [0., 1., 0., 0.],\n",
       "       [0., 0., 1., 0.],\n",
       "       [0., 0., 0., 1.]])"
      ]
     },
     "execution_count": 50,
     "metadata": {},
     "output_type": "execute_result"
    }
   ],
   "source": [
    "a=np.eye(4,4)#symmatric matrix n(row)=n(col)\n",
    "a"
   ]
  },
  {
   "cell_type": "code",
   "execution_count": 49,
   "id": "844c0f3d-d32b-4c54-9bbf-1cba5bf53acf",
   "metadata": {},
   "outputs": [
    {
     "name": "stdin",
     "output_type": "stream",
     "text": [
      "enter size of array 3\n",
      "enter values 1\n",
      "enter values 2\n",
      "enter values 3\n"
     ]
    },
    {
     "data": {
      "text/plain": [
       "array([1, 2, 3])"
      ]
     },
     "execution_count": 49,
     "metadata": {},
     "output_type": "execute_result"
    }
   ],
   "source": [
    "a=[]\n",
    "size=int(input(\"enter size of array\"))\n",
    "for i in range(size):\n",
    "    val=int(input(\"enter values\"))\n",
    "    a.append(val)\n",
    "b=np.array(a)\n",
    "b"
   ]
  },
  {
   "cell_type": "code",
   "execution_count": null,
   "id": "b046d55f-892e-4cea-b559-5ed8ee2fb573",
   "metadata": {},
   "outputs": [],
   "source": []
  }
 ],
 "metadata": {
  "kernelspec": {
   "display_name": "Python 3 (ipykernel)",
   "language": "python",
   "name": "python3"
  },
  "language_info": {
   "codemirror_mode": {
    "name": "ipython",
    "version": 3
   },
   "file_extension": ".py",
   "mimetype": "text/x-python",
   "name": "python",
   "nbconvert_exporter": "python",
   "pygments_lexer": "ipython3",
   "version": "3.12.7"
  }
 },
 "nbformat": 4,
 "nbformat_minor": 5
}
