{
 "cells": [
  {
   "cell_type": "code",
   "execution_count": 4,
   "id": "9ed6268c",
   "metadata": {},
   "outputs": [
    {
     "name": "stdout",
     "output_type": "stream",
     "text": [
      "palindrome\n"
     ]
    }
   ],
   "source": [
    "data=\"SARAS\"\n",
    "start=0\n",
    "end=4\n",
    "cond=0\n",
    "while(start<=end):\n",
    "    if(data[start]!=data[end]):\n",
    "        cond=1\n",
    "        break\n",
    "\n",
    "    start=start+1\n",
    "    end=end-1\n",
    "    \n",
    "    \n",
    "if(cond==0):\n",
    "    print(\"palindrome\")\n",
    "else:\n",
    "    print(\"not palindrome\")"
   ]
  },
  {
   "cell_type": "code",
   "execution_count": 18,
   "id": "524f0c11",
   "metadata": {},
   "outputs": [
    {
     "name": "stdout",
     "output_type": "stream",
     "text": [
      "Not palindrome\n"
     ]
    }
   ],
   "source": [
    "s=\"NAMZAN\"\n",
    "end=len(s)-1\n",
    "mid=len(s)//2\n",
    "condition=True\n",
    "for i in range(0,mid):\n",
    "    if(s[i] != s[end]):\n",
    "        condition=False\n",
    "        break\n",
    "\n",
    "    end=end-1\n",
    "    \n",
    "if(condition==True):\n",
    "    print(\"Palindrome\")\n",
    "else:\n",
    "    print(\"Not palindrome\")"
   ]
  },
  {
   "cell_type": "code",
   "execution_count": 28,
   "id": "d18d0d92",
   "metadata": {},
   "outputs": [
    {
     "data": {
      "text/plain": [
       "0"
      ]
     },
     "execution_count": 28,
     "metadata": {},
     "output_type": "execute_result"
    }
   ],
   "source": [
    "0//10"
   ]
  },
  {
   "cell_type": "code",
   "execution_count": 29,
   "id": "6352ab5a",
   "metadata": {},
   "outputs": [
    {
     "name": "stdout",
     "output_type": "stream",
     "text": [
      "15 3 27\n",
      "1 5\n",
      "0 1\n"
     ]
    }
   ],
   "source": [
    "# armstrong number\n",
    "n=153\n",
    "rem1=n%10\n",
    "n=n//10\n",
    "print(n, rem1, rem1**3)\n",
    "rem2=n%10\n",
    "n=n//10\n",
    "print(n, rem2)\n",
    "rem3=n%10\n",
    "n=n//10\n",
    "print(n, rem3)"
   ]
  },
  {
   "cell_type": "code",
   "execution_count": 35,
   "id": "9877b48b",
   "metadata": {},
   "outputs": [
    {
     "name": "stdout",
     "output_type": "stream",
     "text": [
      "n=> 15 rem cube:=> 27 total:=> 27\n",
      "n=> 1 rem cube:=> 125 total:=> 152\n",
      "n=> 0 rem cube:=> 1 total:=> 153\n",
      "Valid armstrong number\n"
     ]
    }
   ],
   "source": [
    "n=153\n",
    "temp=n\n",
    "total=0\n",
    "while(n>0):\n",
    "    rem=n%10\n",
    "    n=n//10\n",
    "    total = total+rem**3\n",
    "    print(\"n=>\",n,\"rem cube:=>\",rem**3,\"total:=>\",total)\n",
    "    \n",
    "if(temp==total):\n",
    "    print(\"Valid armstrong number\")\n",
    "else:\n",
    "    print(\"Not armstrong\")\n",
    "    "
   ]
  }
 ],
 "metadata": {
  "kernelspec": {
   "display_name": "Python 3 (ipykernel)",
   "language": "python",
   "name": "python3"
  },
  "language_info": {
   "codemirror_mode": {
    "name": "ipython",
    "version": 3
   },
   "file_extension": ".py",
   "mimetype": "text/x-python",
   "name": "python",
   "nbconvert_exporter": "python",
   "pygments_lexer": "ipython3",
   "version": "3.10.11"
  }
 },
 "nbformat": 4,
 "nbformat_minor": 5
}
