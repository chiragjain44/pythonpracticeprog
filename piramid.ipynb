{
 "cells": [
  {
   "cell_type": "code",
   "execution_count": 5,
   "id": "c59af563-4082-40b8-b064-ad6db72a2513",
   "metadata": {},
   "outputs": [
    {
     "data": {
      "text/plain": [
       "[2, 3]"
      ]
     },
     "execution_count": 5,
     "metadata": {},
     "output_type": "execute_result"
    }
   ],
   "source": [
    "a=[1,2,3]\n",
    "a.pop(0)#delet eleemnet using index \n",
    "a"
   ]
  },
  {
   "cell_type": "code",
   "execution_count": 15,
   "id": "3f138ecf-d598-4c11-af30-fb18779c26fb",
   "metadata": {},
   "outputs": [],
   "source": [
    "n=[1,2,3]\n",
    "n.remove(1)#by remove directly "
   ]
  },
  {
   "cell_type": "code",
   "execution_count": 16,
   "id": "744c84a6-ff1a-4562-af2c-eca480405d6e",
   "metadata": {},
   "outputs": [
    {
     "data": {
      "text/plain": [
       "[2, 3]"
      ]
     },
     "execution_count": 16,
     "metadata": {},
     "output_type": "execute_result"
    }
   ],
   "source": [
    "n"
   ]
  },
  {
   "cell_type": "code",
   "execution_count": 13,
   "id": "7c257e42-5240-481f-a578-dffc5a8b5f47",
   "metadata": {},
   "outputs": [
    {
     "data": {
      "text/plain": [
       "True"
      ]
     },
     "execution_count": 13,
     "metadata": {},
     "output_type": "execute_result"
    }
   ],
   "source": [
    "a='chirag'\n",
    "a.isalpha()"
   ]
  },
  {
   "cell_type": "code",
   "execution_count": 14,
   "id": "43d4302b-ce8e-422d-b429-b6e7a6a604c7",
   "metadata": {},
   "outputs": [
    {
     "data": {
      "text/plain": [
       "False"
      ]
     },
     "execution_count": 14,
     "metadata": {},
     "output_type": "execute_result"
    }
   ],
   "source": [
    "a.isnumeric()"
   ]
  },
  {
   "cell_type": "code",
   "execution_count": 19,
   "id": "22662e7b-cb6b-4373-aa5c-66944583593b",
   "metadata": {},
   "outputs": [],
   "source": [
    "n.insert(0,4)"
   ]
  },
  {
   "cell_type": "code",
   "execution_count": 21,
   "id": "0238cf63-4eb7-4601-9186-31169d0cc9e2",
   "metadata": {},
   "outputs": [],
   "source": [
    "n.append(7)"
   ]
  },
  {
   "cell_type": "code",
   "execution_count": 25,
   "id": "0a1c3260-ce0d-4e73-b2a3-eb3be7ffd2b5",
   "metadata": {},
   "outputs": [],
   "source": [
    "n.remove(3)"
   ]
  },
  {
   "cell_type": "code",
   "execution_count": 26,
   "id": "c0c8a80c-6e59-486b-aa6e-74ce561fd9a6",
   "metadata": {},
   "outputs": [
    {
     "data": {
      "text/plain": [
       "[4, 2, 7]"
      ]
     },
     "execution_count": 26,
     "metadata": {},
     "output_type": "execute_result"
    }
   ],
   "source": [
    "n"
   ]
  },
  {
   "cell_type": "code",
   "execution_count": 30,
   "id": "ea892ec3-fe81-466f-b628-1f7e96320fe6",
   "metadata": {},
   "outputs": [
    {
     "name": "stdout",
     "output_type": "stream",
     "text": [
      "#\n",
      "##\n",
      "###\n",
      "####\n",
      "#####\n"
     ]
    }
   ],
   "source": [
    "for i in range(1,6):\n",
    "    print(i*'#')"
   ]
  },
  {
   "cell_type": "code",
   "execution_count": 33,
   "id": "743bcea0-da9c-4c1e-a6c9-cb4b79e17214",
   "metadata": {},
   "outputs": [
    {
     "name": "stdout",
     "output_type": "stream",
     "text": [
      "******\n",
      "*****\n",
      "****\n",
      "***\n",
      "**\n",
      "*\n",
      "\n",
      "*\n",
      "**\n",
      "***\n",
      "****\n",
      "*****\n"
     ]
    }
   ],
   "source": [
    "for i in range(6,0,-1):\n",
    "    print(i*'*')\n",
    "for i in range(0,6):\n",
    "    print(i*'*')"
   ]
  },
  {
   "cell_type": "code",
   "execution_count": 36,
   "id": "7a7f64ea-7788-4026-8bf2-6b98f6045aed",
   "metadata": {},
   "outputs": [
    {
     "name": "stdout",
     "output_type": "stream",
     "text": [
      "-\n",
      "--\n",
      "---\n",
      "----\n"
     ]
    }
   ],
   "source": [
    "for i in range(1,5):\n",
    "    print(i*'-')"
   ]
  },
  {
   "cell_type": "code",
   "execution_count": 37,
   "id": "6675916e-8583-4415-9cb7-4cc622788c0a",
   "metadata": {},
   "outputs": [
    {
     "name": "stdout",
     "output_type": "stream",
     "text": [
      "******\n",
      "*****\n",
      "** *\n",
      "***\n",
      "**\n"
     ]
    }
   ],
   "source": [
    "for i in range(6,1,-1):\n",
    "    if i==4:\n",
    "        print(2*'*'+' '+'*')\n",
    "    else:\n",
    "        print(i*'*')\n",
    "        #giving spCING BETWEEN specific row"
   ]
  },
  {
   "cell_type": "code",
   "execution_count": 43,
   "id": "4214b1a5-0d92-43a6-8622-3bc4ef55b6d6",
   "metadata": {},
   "outputs": [
    {
     "name": "stdout",
     "output_type": "stream",
     "text": [
      "    *\n",
      "   ***\n",
      "  *****\n",
      " *******\n",
      "*********\n"
     ]
    }
   ],
   "source": [
    "n=5\n",
    "for i in range(1,n+1):\n",
    "    print(' ' * (n-i) + '*' * (2*i-1))"
   ]
  },
  {
   "cell_type": "code",
   "execution_count": 1,
   "id": "bb825168-cdbf-46d1-8799-086b5230e8a4",
   "metadata": {},
   "outputs": [
    {
     "name": "stdout",
     "output_type": "stream",
     "text": [
      " \n",
      "* * * *  \n",
      "* * * *  \n",
      "* * * *  \n",
      "* * * * "
     ]
    }
   ],
   "source": [
    "for i in range(1,5):\n",
    "    print(\" \")\n",
    "    for j in range(1,5):\n",
    "        print('*',end=\" \")"
   ]
  },
  {
   "cell_type": "code",
   "execution_count": 10,
   "id": "f60f4ce7-607b-44de-bd92-721f9d4db49f",
   "metadata": {},
   "outputs": [
    {
     "name": "stdout",
     "output_type": "stream",
     "text": [
      "1\n",
      "12\n",
      "123\n",
      "1234\n",
      "12345\n"
     ]
    }
   ],
   "source": [
    "#right angle pyramid\n",
    "for i in range(1,6):\n",
    "    for j in range(1,i+1):\n",
    "        print(j,end=\"\")\n",
    "    print()"
   ]
  },
  {
   "cell_type": "code",
   "execution_count": 8,
   "id": "4790b28a-24e3-4199-abcd-2d4a5c2ca4e0",
   "metadata": {},
   "outputs": [
    {
     "name": "stdout",
     "output_type": "stream",
     "text": [
      "*\n",
      "**\n",
      "***\n",
      "****\n",
      "*****\n"
     ]
    }
   ],
   "source": [
    "for i in range(1,6):\n",
    "    print(i*'*')"
   ]
  },
  {
   "cell_type": "code",
   "execution_count": 16,
   "id": "1171edee-0b2a-4f0e-954a-f8bca27f2c43",
   "metadata": {},
   "outputs": [
    {
     "name": "stdout",
     "output_type": "stream",
     "text": [
      "5\n",
      "54\n",
      "543\n",
      "5432\n",
      "54321\n"
     ]
    }
   ],
   "source": [
    "for i in range(5,0,-1):\n",
    "    for j in range(5,i-1,-1):\n",
    "        print(j,end=\"\")\n",
    "    print()"
   ]
  },
  {
   "cell_type": "code",
   "execution_count": 27,
   "id": "5682a9dd-ea99-4bf8-975c-533c89bfa7d1",
   "metadata": {},
   "outputs": [
    {
     "name": "stdout",
     "output_type": "stream",
     "text": [
      "1 \n",
      "2 3 \n",
      "4 5 6 \n",
      "7 8 9 10 \n",
      "11 12 13 14 15 \n"
     ]
    }
   ],
   "source": [
    "#floyd s triangle\n",
    "num=1\n",
    "for i in range(1,6):\n",
    "    for j in range(i):\n",
    "        print(num,end=\" \")\n",
    "        num+=1\n",
    "    print()"
   ]
  },
  {
   "cell_type": "code",
   "execution_count": 46,
   "id": "1562358b-36be-40e3-8e53-8333acb1b885",
   "metadata": {},
   "outputs": [
    {
     "name": "stdout",
     "output_type": "stream",
     "text": [
      "*****\n",
      "*   *\n",
      "*   *\n",
      "*   *\n",
      "*****\n"
     ]
    }
   ],
   "source": [
    "n=5\n",
    "for i in range(1,n+1):\n",
    "    if i==1 or i==5:\n",
    "        print(n*'*')\n",
    "    else:\n",
    "        print('* '+' ' *(n-3) + '*')"
   ]
  },
  {
   "cell_type": "code",
   "execution_count": 62,
   "id": "8b67e0c0-5d9c-4a79-a638-80d4a7441956",
   "metadata": {},
   "outputs": [
    {
     "name": "stdout",
     "output_type": "stream",
     "text": [
      "     1 \n",
      "    1 1 \n",
      "   1 2 1 \n",
      "  1 3 3 1 \n",
      " 1 4 6 4 1 \n"
     ]
    }
   ],
   "source": [
    "n = 5\n",
    "\n",
    "for i in range(n):\n",
    "    # adjust space\n",
    "    print(' '*(n-i), end='')\n",
    "\n",
    "\n",
    "    num = 1\n",
    "    for j in range(0, i + 1):\n",
    "        print(num, end=' ')\n",
    "        num = num * (i - j) // (j + 1)\n",
    "    print()"
   ]
  },
  {
   "cell_type": "code",
   "execution_count": 71,
   "id": "4af7632f-70d2-4a63-bcef-316a5bb6c914",
   "metadata": {},
   "outputs": [
    {
     "name": "stdout",
     "output_type": "stream",
     "text": [
      "*        *\n",
      "**      **\n",
      "***    ***\n",
      "****  ****\n",
      "**********\n",
      "**********\n",
      "****  ****\n",
      "***    ***\n",
      "**      **\n",
      "*        *\n"
     ]
    }
   ],
   "source": [
    "n=5\n",
    "#upper half\n",
    "for i in range(1,n+1):\n",
    "    for j in range(1,i+1):\n",
    "        print('*',end=\"\")\n",
    "    for j in range(1,2*(n-i)+1):\n",
    "        print(\" \",end=\"\")\n",
    "    for j in range(1,i+1):\n",
    "        print('*',end=\"\")\n",
    "    print()\n",
    "#lower half\n",
    "\n",
    "for i in range(5,0,-1):\n",
    "    for j in range(1,i+1):\n",
    "        print('*',end=\"\")\n",
    "    for j in range(1,2*(n-i)+1):\n",
    "        print(\" \",end=\"\")\n",
    "    for j in range(1,i+1):\n",
    "        print(\"*\",end=\"\")\n",
    "    print()\n"
   ]
  },
  {
   "cell_type": "code",
   "execution_count": null,
   "id": "b3e26dcc-ec7f-4645-b890-873d86b96dd4",
   "metadata": {},
   "outputs": [],
   "source": []
  }
 ],
 "metadata": {
  "kernelspec": {
   "display_name": "Python 3 (ipykernel)",
   "language": "python",
   "name": "python3"
  },
  "language_info": {
   "codemirror_mode": {
    "name": "ipython",
    "version": 3
   },
   "file_extension": ".py",
   "mimetype": "text/x-python",
   "name": "python",
   "nbconvert_exporter": "python",
   "pygments_lexer": "ipython3",
   "version": "3.12.7"
  }
 },
 "nbformat": 4,
 "nbformat_minor": 5
}
