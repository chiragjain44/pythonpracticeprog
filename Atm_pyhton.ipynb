{
 "cells": [
  {
   "cell_type": "code",
   "execution_count": 1,
   "id": "2a9d9317-bdb9-44a4-9fff-89bd49fd9b11",
   "metadata": {},
   "outputs": [],
   "source": [
    "#atm machine project "
   ]
  },
  {
   "cell_type": "code",
   "execution_count": 40,
   "id": "d77bf8ed-acce-497d-bc81-7eabb7101db8",
   "metadata": {},
   "outputs": [
    {
     "name": "stdin",
     "output_type": "stream",
     "text": [
      "enter pin 1 to 5 1\n",
      "enter pin 1234\n",
      "enter balance 1000\n",
      "enter pin 1 to 5 4\n",
      "amount 200\n"
     ]
    },
    {
     "name": "stdout",
     "output_type": "stream",
     "text": [
      "800 after withdrawl total balance\n"
     ]
    },
    {
     "name": "stdin",
     "output_type": "stream",
     "text": [
      "enter pin 1 to 5 4\n",
      "amount 33333\n"
     ]
    },
    {
     "name": "stdout",
     "output_type": "stream",
     "text": [
      "amount is greater \n"
     ]
    },
    {
     "name": "stdin",
     "output_type": "stream",
     "text": [
      "enter pin 1 to 5 5\n"
     ]
    },
    {
     "name": "stdout",
     "output_type": "stream",
     "text": [
      "enter correct user input \n"
     ]
    }
   ],
   "source": [
    " class Atm :\n",
    "    def __init__(self):\n",
    "        self.pin=''\n",
    "        self.balance=0\n",
    "        self.menu()\n",
    "    def menu(self):\n",
    "        user_input=input(\"enter pin 1 to 5\")\n",
    "        if user_input == '1':\n",
    "            #create pin \n",
    "            self.create_pin()\n",
    "        elif user_input=='2':\n",
    "            self.change_pin()\n",
    "            #change pin\n",
    "        elif user_input =='3':\n",
    "            self.check_bal()\n",
    "            #check bal.\n",
    "        elif user_input=='4':\n",
    "            \n",
    "            self.withdraaw()\n",
    "            #withdraw\n",
    "        else:\n",
    "            print(\"enter correct user input \")\n",
    "    def create_pin(self):\n",
    "        self.pin=input(\"enter pin\")\n",
    "        self.balance=int(input(\"enter balance\"))\n",
    "        self.menu()\n",
    "        #for change pin\n",
    "    def change_pin(self):\n",
    "        old_pin=input(\"enter old pin to change pin\")\n",
    "        if old_pin == self.pin:\n",
    "            new_pin=input(\"enter new pin \")\n",
    "            print(\"pin created succesfully\")\n",
    "        else:\n",
    "            print(\"you entered old pin wrong \")\n",
    "        self.menu()\n",
    "     \n",
    "            #for withdraw money\n",
    "    def withdraaw(self):\n",
    "         \n",
    "         amount=int(input(\"amount\"))\n",
    "         if amount <=self.balance:\n",
    "                 self.balance=self.balance-amount\n",
    "                 print(self.balance,\"after withdrawl total balance\")\n",
    "         else:\n",
    "                 print(\"amount is greater \")\n",
    "        \n",
    "         self.menu()\n",
    "        #for check balance \n",
    "    def check_bal(self):\n",
    "        print(\"your  balance is \",self.balance)\n",
    " \n",
    "   \n",
    "        \n",
    "        \n",
    "\n",
    "obj1=Atm()\n",
    "            "
   ]
  },
  {
   "cell_type": "code",
   "execution_count": null,
   "id": "8ee3dcbb-6a36-4005-b752-d7c20ee996d5",
   "metadata": {},
   "outputs": [],
   "source": []
  },
  {
   "cell_type": "code",
   "execution_count": null,
   "id": "8b5d6435-9162-484b-93ef-5482908342e4",
   "metadata": {},
   "outputs": [],
   "source": []
  }
 ],
 "metadata": {
  "kernelspec": {
   "display_name": "Python 3 (ipykernel)",
   "language": "python",
   "name": "python3"
  },
  "language_info": {
   "codemirror_mode": {
    "name": "ipython",
    "version": 3
   },
   "file_extension": ".py",
   "mimetype": "text/x-python",
   "name": "python",
   "nbconvert_exporter": "python",
   "pygments_lexer": "ipython3",
   "version": "3.12.7"
  }
 },
 "nbformat": 4,
 "nbformat_minor": 5
}
