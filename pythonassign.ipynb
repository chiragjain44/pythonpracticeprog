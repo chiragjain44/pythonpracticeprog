{
  "nbformat": 4,
  "nbformat_minor": 0,
  "metadata": {
    "colab": {
      "provenance": []
    },
    "kernelspec": {
      "name": "python3",
      "display_name": "Python 3"
    },
    "language_info": {
      "name": "python"
    }
  },
  "cells": [
    {
      "cell_type": "code",
      "source": [
        "age=int(input(\"enter age\"))\n",
        "if(age>=18):\n",
        "  print(\"vote\")\n",
        "else:\n",
        "  print(\"not\")"
      ],
      "metadata": {
        "colab": {
          "base_uri": "https://localhost:8080/"
        },
        "id": "_UR2l_eXD9rh",
        "outputId": "335ba2b5-a7d0-4168-b3ba-772a09b57084"
      },
      "execution_count": 2,
      "outputs": [
        {
          "output_type": "stream",
          "name": "stdout",
          "text": [
            "enter age33\n",
            "vote\n"
          ]
        }
      ]
    },
    {
      "cell_type": "code",
      "execution_count": 3,
      "metadata": {
        "id": "dRn76haKD5zI"
      },
      "outputs": [],
      "source": [
        "#2ndque"
      ]
    },
    {
      "cell_type": "code",
      "source": [
        "amount=int(input(\"enter amount\"))\n",
        "if(amount>100):\n",
        "  print(f\"after discount for{amount} is {amount-(amount*0.1)}\")\n",
        "else:\n",
        "  print(\"not valid\")"
      ],
      "metadata": {
        "colab": {
          "base_uri": "https://localhost:8080/"
        },
        "id": "D4tiM7qBEUnU",
        "outputId": "9d68f485-4213-4a43-e732-aed4da971ec1"
      },
      "execution_count": 5,
      "outputs": [
        {
          "output_type": "stream",
          "name": "stdout",
          "text": [
            "enter amount90\n",
            "not valid\n"
          ]
        }
      ]
    },
    {
      "cell_type": "code",
      "source": [
        "#3rd quw\n"
      ],
      "metadata": {
        "id": "9ywWqo6OEwHn"
      },
      "execution_count": 6,
      "outputs": []
    },
    {
      "cell_type": "code",
      "source": [
        "age=int(input(\"enter age\"))\n",
        "if(age<12):\n",
        "  print(\"$7 price of ticket\")\n",
        "elif(12<=age<=60):\n",
        "  print(\"$10 price for ticket\")\n",
        "else:\n",
        "  print(\"$8\")"
      ],
      "metadata": {
        "colab": {
          "base_uri": "https://localhost:8080/"
        },
        "id": "6kFPe1PaE3tB",
        "outputId": "6ab8f726-06e1-4667-fc9b-d56edf69c34b"
      },
      "execution_count": 8,
      "outputs": [
        {
          "output_type": "stream",
          "name": "stdout",
          "text": [
            "enter age22\n",
            "$10 price for ticket\n"
          ]
        }
      ]
    },
    {
      "cell_type": "code",
      "source": [
        "#4thqu\n"
      ],
      "metadata": {
        "id": "zk2M-IhGFZDB"
      },
      "execution_count": 9,
      "outputs": []
    },
    {
      "cell_type": "code",
      "source": [
        "income=int(input(\"enter income\"))\n",
        "\n",
        "if(income>50,000):\n",
        "  cs=int(input(\"enter cs score\"))\n",
        "  if(cs>650):\n",
        "   print(\"eligible\")\n",
        "  else:\n",
        "   print(\"not\")"
      ],
      "metadata": {
        "colab": {
          "base_uri": "https://localhost:8080/"
        },
        "id": "vZHb9v2lFfZs",
        "outputId": "4073d5f9-63ed-4b2a-e3e4-daa91580640e"
      },
      "execution_count": 17,
      "outputs": [
        {
          "output_type": "stream",
          "name": "stdout",
          "text": [
            "enter income600000\n",
            "enter cs score670\n",
            "eligible\n"
          ]
        }
      ]
    },
    {
      "cell_type": "code",
      "source": [
        "#5th que\n"
      ],
      "metadata": {
        "id": "v_ug4h_GF6HU"
      },
      "execution_count": 18,
      "outputs": []
    },
    {
      "cell_type": "code",
      "source": [
        "time=int(input(\"how many time theyt want to access gym\\n\"))\n",
        "if(time>5):\n",
        "  print(\"gold:$100 month for unlimited access\")\n",
        "elif(time==5):\n",
        "  print(\"silver:$70 per month for access\")\n",
        "elif(time==3):\n",
        "  print(\"bronze:$50 per month\")\n",
        "else:\n",
        "  print(\"does not have any plan\")"
      ],
      "metadata": {
        "colab": {
          "base_uri": "https://localhost:8080/"
        },
        "id": "xa5CU1jRGuBH",
        "outputId": "12d6d041-d846-4a03-e445-870bff1850bd"
      },
      "execution_count": 21,
      "outputs": [
        {
          "output_type": "stream",
          "name": "stdout",
          "text": [
            "how many time theyt want to access gym\n",
            "5\n",
            "silver:$70 per month for access\n"
          ]
        }
      ]
    },
    {
      "cell_type": "code",
      "source": [
        "#6que"
      ],
      "metadata": {
        "id": "A2b4Gw8iHV7K"
      },
      "execution_count": 22,
      "outputs": []
    },
    {
      "cell_type": "code",
      "source": [
        "amount=int(input(\"enter amount\"))\n",
        "if(amount>50):\n",
        "  city=input(\"enter city\")\n",
        "  if(city=='jaipur'):\n",
        "    print(f\"no dileivery charge inside city and the total amount is {amount}\")\n",
        "  else:\n",
        "    print(f\"extra delievery charge {amount} after add delievery amount total bill{amount+5}\")\n",
        "\n"
      ],
      "metadata": {
        "colab": {
          "base_uri": "https://localhost:8080/"
        },
        "id": "PYjrXQEgH1Zy",
        "outputId": "a485d5dd-bbcc-46dd-cc4f-49920aa3b4c9"
      },
      "execution_count": 28,
      "outputs": [
        {
          "output_type": "stream",
          "name": "stdout",
          "text": [
            "enter amount60\n",
            "enter cityde\n",
            "extra delievery charge 60 after add delievery amount total bill65\n"
          ]
        }
      ]
    },
    {
      "cell_type": "code",
      "source": [],
      "metadata": {
        "id": "_S2pud-EIzPm"
      },
      "execution_count": null,
      "outputs": []
    }
  ]
}